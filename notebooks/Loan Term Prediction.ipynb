{
 "cells": [
  {
   "cell_type": "markdown",
   "id": "a6dd9c31",
   "metadata": {},
   "source": [
    "# This program is for Predicting the Loan Term (Problem 3)"
   ]
  },
  {
   "cell_type": "markdown",
   "id": "a628333f",
   "metadata": {},
   "source": [
    "Problem Statement\n",
    "\n",
    "A Company wants to automate the loan eligibility process based on customer details provided while filling online\n",
    "application form.\n",
    "\n",
    "The details filled by the customer are Gender, Marital Status, Education, Number of Dependents,\n",
    "Income of self and co applicant, Required Loan Amount,Required Loan Term, Credit History and others.\n",
    "\n",
    "The requirements are as follows:\n",
    "\n",
    "1)Check eligibility of the Customer given the inputs described above.(Classification)\n",
    "\n",
    "   If customer is not eligible for the input required amount and duration:\n",
    "\n",
    "2) what can be amount for the given duration.(Regression)\n",
    "\n",
    "3) if duration is less than equal to 20 years, is customer eligible for required amount for some longer duration?\n",
    "   What is that duration?(Regression)"
   ]
  },
  {
   "cell_type": "markdown",
   "id": "920f22c1",
   "metadata": {},
   "source": [
    "# Approch for the Solution\n",
    "we will split, the training data set for Loan Status YES and NO.\n",
    "\n",
    "Loan Status Yes, data will be used for training the model and\n",
    "\n",
    "Loan Ststus NO, data will be used to check the predicition of trained model.\n",
    "\n",
    "Fianlly same will be done for the testing data set.\n",
    "\n",
    "Loan status NO, from the testing data set will be used final predictoion."
   ]
  },
  {
   "cell_type": "markdown",
   "id": "eccd2c09",
   "metadata": {},
   "source": [
    "# Import Libraries "
   ]
  },
  {
   "cell_type": "code",
   "execution_count": 1,
   "id": "dc4da111",
   "metadata": {},
   "outputs": [],
   "source": [
    "from warnings import filterwarnings\n",
    "filterwarnings(\"ignore\")"
   ]
  },
  {
   "cell_type": "code",
   "execution_count": 2,
   "id": "c8beaaa2",
   "metadata": {},
   "outputs": [],
   "source": [
    "import pandas as pd\n",
    "import numpy as np\n",
    "import matplotlib.pyplot as plt\n",
    "import seaborn as sb"
   ]
  },
  {
   "cell_type": "markdown",
   "id": "75f44a7d",
   "metadata": {},
   "source": [
    "# Read training and testing dataset"
   ]
  },
  {
   "cell_type": "code",
   "execution_count": 3,
   "id": "10251dda",
   "metadata": {},
   "outputs": [
    {
     "data": {
      "text/html": [
       "<div>\n",
       "<style scoped>\n",
       "    .dataframe tbody tr th:only-of-type {\n",
       "        vertical-align: middle;\n",
       "    }\n",
       "\n",
       "    .dataframe tbody tr th {\n",
       "        vertical-align: top;\n",
       "    }\n",
       "\n",
       "    .dataframe thead th {\n",
       "        text-align: right;\n",
       "    }\n",
       "</style>\n",
       "<table border=\"1\" class=\"dataframe\">\n",
       "  <thead>\n",
       "    <tr style=\"text-align: right;\">\n",
       "      <th></th>\n",
       "      <th>Loan_ID</th>\n",
       "      <th>Gender</th>\n",
       "      <th>Married</th>\n",
       "      <th>Dependents</th>\n",
       "      <th>Education</th>\n",
       "      <th>Self_Employed</th>\n",
       "      <th>ApplicantIncome</th>\n",
       "      <th>CoapplicantIncome</th>\n",
       "      <th>LoanAmount</th>\n",
       "      <th>Loan_Amount_Term</th>\n",
       "      <th>Credit_History</th>\n",
       "      <th>Property_Area</th>\n",
       "      <th>Loan_Status</th>\n",
       "    </tr>\n",
       "  </thead>\n",
       "  <tbody>\n",
       "    <tr>\n",
       "      <th>0</th>\n",
       "      <td>LP001002</td>\n",
       "      <td>Male</td>\n",
       "      <td>No</td>\n",
       "      <td>0</td>\n",
       "      <td>Graduate</td>\n",
       "      <td>No</td>\n",
       "      <td>5849.0</td>\n",
       "      <td>0.0</td>\n",
       "      <td>NaN</td>\n",
       "      <td>360.0</td>\n",
       "      <td>1.0</td>\n",
       "      <td>Urban</td>\n",
       "      <td>Y</td>\n",
       "    </tr>\n",
       "    <tr>\n",
       "      <th>1</th>\n",
       "      <td>LP001003</td>\n",
       "      <td>Male</td>\n",
       "      <td>Yes</td>\n",
       "      <td>1</td>\n",
       "      <td>Graduate</td>\n",
       "      <td>No</td>\n",
       "      <td>NaN</td>\n",
       "      <td>1508.0</td>\n",
       "      <td>128.0</td>\n",
       "      <td>360.0</td>\n",
       "      <td>1.0</td>\n",
       "      <td>Rural</td>\n",
       "      <td>N</td>\n",
       "    </tr>\n",
       "    <tr>\n",
       "      <th>2</th>\n",
       "      <td>LP001005</td>\n",
       "      <td>Male</td>\n",
       "      <td>Yes</td>\n",
       "      <td>0</td>\n",
       "      <td>Graduate</td>\n",
       "      <td>Yes</td>\n",
       "      <td>3000.0</td>\n",
       "      <td>0.0</td>\n",
       "      <td>66.0</td>\n",
       "      <td>360.0</td>\n",
       "      <td>1.0</td>\n",
       "      <td>Urban</td>\n",
       "      <td>Y</td>\n",
       "    </tr>\n",
       "    <tr>\n",
       "      <th>3</th>\n",
       "      <td>LP001006</td>\n",
       "      <td>Male</td>\n",
       "      <td>Yes</td>\n",
       "      <td>0</td>\n",
       "      <td>Not Graduate</td>\n",
       "      <td>No</td>\n",
       "      <td>2583.0</td>\n",
       "      <td>2358.0</td>\n",
       "      <td>120.0</td>\n",
       "      <td>360.0</td>\n",
       "      <td>1.0</td>\n",
       "      <td>Urban</td>\n",
       "      <td>Y</td>\n",
       "    </tr>\n",
       "    <tr>\n",
       "      <th>4</th>\n",
       "      <td>LP001008</td>\n",
       "      <td>Male</td>\n",
       "      <td>No</td>\n",
       "      <td>0</td>\n",
       "      <td>Graduate</td>\n",
       "      <td>No</td>\n",
       "      <td>6000.0</td>\n",
       "      <td>0.0</td>\n",
       "      <td>141.0</td>\n",
       "      <td>360.0</td>\n",
       "      <td>1.0</td>\n",
       "      <td>Urban</td>\n",
       "      <td>Y</td>\n",
       "    </tr>\n",
       "  </tbody>\n",
       "</table>\n",
       "</div>"
      ],
      "text/plain": [
       "    Loan_ID Gender Married Dependents     Education Self_Employed  \\\n",
       "0  LP001002   Male      No          0      Graduate            No   \n",
       "1  LP001003   Male     Yes          1      Graduate            No   \n",
       "2  LP001005   Male     Yes          0      Graduate           Yes   \n",
       "3  LP001006   Male     Yes          0  Not Graduate            No   \n",
       "4  LP001008   Male      No          0      Graduate            No   \n",
       "\n",
       "   ApplicantIncome  CoapplicantIncome  LoanAmount  Loan_Amount_Term  \\\n",
       "0           5849.0                0.0         NaN             360.0   \n",
       "1              NaN             1508.0       128.0             360.0   \n",
       "2           3000.0                0.0        66.0             360.0   \n",
       "3           2583.0             2358.0       120.0             360.0   \n",
       "4           6000.0                0.0       141.0             360.0   \n",
       "\n",
       "   Credit_History Property_Area Loan_Status  \n",
       "0             1.0         Urban           Y  \n",
       "1             1.0         Rural           N  \n",
       "2             1.0         Urban           Y  \n",
       "3             1.0         Urban           Y  \n",
       "4             1.0         Urban           Y  "
      ]
     },
     "execution_count": 3,
     "metadata": {},
     "output_type": "execute_result"
    }
   ],
   "source": [
    "tr_A=pd.read_csv(\"C:/Bhushan data/ETLHIVE (India@123)/Projets submission/08_project_Loan prediction/training_set.csv\")\n",
    "tr_A.head()"
   ]
  },
  {
   "cell_type": "code",
   "execution_count": 4,
   "id": "7b5cdde3",
   "metadata": {
    "scrolled": false
   },
   "outputs": [
    {
     "data": {
      "text/html": [
       "<div>\n",
       "<style scoped>\n",
       "    .dataframe tbody tr th:only-of-type {\n",
       "        vertical-align: middle;\n",
       "    }\n",
       "\n",
       "    .dataframe tbody tr th {\n",
       "        vertical-align: top;\n",
       "    }\n",
       "\n",
       "    .dataframe thead th {\n",
       "        text-align: right;\n",
       "    }\n",
       "</style>\n",
       "<table border=\"1\" class=\"dataframe\">\n",
       "  <thead>\n",
       "    <tr style=\"text-align: right;\">\n",
       "      <th></th>\n",
       "      <th>Loan_ID</th>\n",
       "      <th>Gender</th>\n",
       "      <th>Married</th>\n",
       "      <th>Dependents</th>\n",
       "      <th>Education</th>\n",
       "      <th>Self_Employed</th>\n",
       "      <th>ApplicantIncome</th>\n",
       "      <th>CoapplicantIncome</th>\n",
       "      <th>LoanAmount</th>\n",
       "      <th>Loan_Amount_Term</th>\n",
       "      <th>Credit_History</th>\n",
       "      <th>Property_Area</th>\n",
       "      <th>Loan_Status</th>\n",
       "    </tr>\n",
       "  </thead>\n",
       "  <tbody>\n",
       "    <tr>\n",
       "      <th>0</th>\n",
       "      <td>LP001015</td>\n",
       "      <td>Male</td>\n",
       "      <td>Yes</td>\n",
       "      <td>0</td>\n",
       "      <td>Graduate</td>\n",
       "      <td>No</td>\n",
       "      <td>5720</td>\n",
       "      <td>0</td>\n",
       "      <td>110.0</td>\n",
       "      <td>360.0</td>\n",
       "      <td>1.0</td>\n",
       "      <td>Urban</td>\n",
       "      <td>Y</td>\n",
       "    </tr>\n",
       "    <tr>\n",
       "      <th>1</th>\n",
       "      <td>LP001022</td>\n",
       "      <td>Male</td>\n",
       "      <td>Yes</td>\n",
       "      <td>1</td>\n",
       "      <td>Graduate</td>\n",
       "      <td>No</td>\n",
       "      <td>3076</td>\n",
       "      <td>1500</td>\n",
       "      <td>126.0</td>\n",
       "      <td>360.0</td>\n",
       "      <td>1.0</td>\n",
       "      <td>Urban</td>\n",
       "      <td>Y</td>\n",
       "    </tr>\n",
       "    <tr>\n",
       "      <th>2</th>\n",
       "      <td>LP001031</td>\n",
       "      <td>Male</td>\n",
       "      <td>Yes</td>\n",
       "      <td>2</td>\n",
       "      <td>Graduate</td>\n",
       "      <td>No</td>\n",
       "      <td>5000</td>\n",
       "      <td>1800</td>\n",
       "      <td>208.0</td>\n",
       "      <td>360.0</td>\n",
       "      <td>1.0</td>\n",
       "      <td>Urban</td>\n",
       "      <td>Y</td>\n",
       "    </tr>\n",
       "    <tr>\n",
       "      <th>3</th>\n",
       "      <td>LP001035</td>\n",
       "      <td>Male</td>\n",
       "      <td>Yes</td>\n",
       "      <td>2</td>\n",
       "      <td>Graduate</td>\n",
       "      <td>No</td>\n",
       "      <td>2340</td>\n",
       "      <td>2546</td>\n",
       "      <td>100.0</td>\n",
       "      <td>360.0</td>\n",
       "      <td>NaN</td>\n",
       "      <td>Urban</td>\n",
       "      <td>Y</td>\n",
       "    </tr>\n",
       "    <tr>\n",
       "      <th>4</th>\n",
       "      <td>LP001051</td>\n",
       "      <td>Male</td>\n",
       "      <td>No</td>\n",
       "      <td>0</td>\n",
       "      <td>Not Graduate</td>\n",
       "      <td>No</td>\n",
       "      <td>3276</td>\n",
       "      <td>0</td>\n",
       "      <td>78.0</td>\n",
       "      <td>360.0</td>\n",
       "      <td>1.0</td>\n",
       "      <td>Urban</td>\n",
       "      <td>Y</td>\n",
       "    </tr>\n",
       "  </tbody>\n",
       "</table>\n",
       "</div>"
      ],
      "text/plain": [
       "    Loan_ID Gender Married Dependents     Education Self_Employed  \\\n",
       "0  LP001015   Male     Yes          0      Graduate            No   \n",
       "1  LP001022   Male     Yes          1      Graduate            No   \n",
       "2  LP001031   Male     Yes          2      Graduate            No   \n",
       "3  LP001035   Male     Yes          2      Graduate            No   \n",
       "4  LP001051   Male      No          0  Not Graduate            No   \n",
       "\n",
       "   ApplicantIncome  CoapplicantIncome  LoanAmount  Loan_Amount_Term  \\\n",
       "0             5720                  0       110.0             360.0   \n",
       "1             3076               1500       126.0             360.0   \n",
       "2             5000               1800       208.0             360.0   \n",
       "3             2340               2546       100.0             360.0   \n",
       "4             3276                  0        78.0             360.0   \n",
       "\n",
       "   Credit_History Property_Area Loan_Status  \n",
       "0             1.0         Urban           Y  \n",
       "1             1.0         Urban           Y  \n",
       "2             1.0         Urban           Y  \n",
       "3             NaN         Urban           Y  \n",
       "4             1.0         Urban           Y  "
      ]
     },
     "execution_count": 4,
     "metadata": {},
     "output_type": "execute_result"
    }
   ],
   "source": [
    "ts_A=pd.read_csv(\"C:/Bhushan data/ETLHIVE (India@123)/Projets submission/08_project_Loan prediction/Predicted_loan_status_testing_set.csv\")\n",
    "ts_A.head()"
   ]
  },
  {
   "cell_type": "markdown",
   "id": "5c81fdfa",
   "metadata": {},
   "source": [
    "# Create a Dataframe of all customers with Loan status as NO. and loan term less than 360 months (Testing dataset) \n",
    "This dataframe will be used for prediction "
   ]
  },
  {
   "cell_type": "code",
   "execution_count": 5,
   "id": "596a8e5f",
   "metadata": {},
   "outputs": [
    {
     "data": {
      "text/html": [
       "<div>\n",
       "<style scoped>\n",
       "    .dataframe tbody tr th:only-of-type {\n",
       "        vertical-align: middle;\n",
       "    }\n",
       "\n",
       "    .dataframe tbody tr th {\n",
       "        vertical-align: top;\n",
       "    }\n",
       "\n",
       "    .dataframe thead th {\n",
       "        text-align: right;\n",
       "    }\n",
       "</style>\n",
       "<table border=\"1\" class=\"dataframe\">\n",
       "  <thead>\n",
       "    <tr style=\"text-align: right;\">\n",
       "      <th></th>\n",
       "      <th>Loan_ID</th>\n",
       "      <th>Gender</th>\n",
       "      <th>Married</th>\n",
       "      <th>Dependents</th>\n",
       "      <th>Education</th>\n",
       "      <th>Self_Employed</th>\n",
       "      <th>ApplicantIncome</th>\n",
       "      <th>CoapplicantIncome</th>\n",
       "      <th>LoanAmount</th>\n",
       "      <th>Loan_Amount_Term</th>\n",
       "      <th>Credit_History</th>\n",
       "      <th>Property_Area</th>\n",
       "      <th>Loan_Status</th>\n",
       "    </tr>\n",
       "  </thead>\n",
       "  <tbody>\n",
       "    <tr>\n",
       "      <th>84</th>\n",
       "      <td>LP001450</td>\n",
       "      <td>Male</td>\n",
       "      <td>Yes</td>\n",
       "      <td>0</td>\n",
       "      <td>Graduate</td>\n",
       "      <td>No</td>\n",
       "      <td>4456</td>\n",
       "      <td>0</td>\n",
       "      <td>131.0</td>\n",
       "      <td>180.0</td>\n",
       "      <td>0.0</td>\n",
       "      <td>Semiurban</td>\n",
       "      <td>N</td>\n",
       "    </tr>\n",
       "    <tr>\n",
       "      <th>173</th>\n",
       "      <td>LP001979</td>\n",
       "      <td>Male</td>\n",
       "      <td>No</td>\n",
       "      <td>0</td>\n",
       "      <td>Graduate</td>\n",
       "      <td>No</td>\n",
       "      <td>3017</td>\n",
       "      <td>2845</td>\n",
       "      <td>159.0</td>\n",
       "      <td>180.0</td>\n",
       "      <td>0.0</td>\n",
       "      <td>Urban</td>\n",
       "      <td>N</td>\n",
       "    </tr>\n",
       "    <tr>\n",
       "      <th>245</th>\n",
       "      <td>LP002355</td>\n",
       "      <td>NaN</td>\n",
       "      <td>Yes</td>\n",
       "      <td>0</td>\n",
       "      <td>Graduate</td>\n",
       "      <td>No</td>\n",
       "      <td>3186</td>\n",
       "      <td>3145</td>\n",
       "      <td>150.0</td>\n",
       "      <td>180.0</td>\n",
       "      <td>0.0</td>\n",
       "      <td>Semiurban</td>\n",
       "      <td>N</td>\n",
       "    </tr>\n",
       "    <tr>\n",
       "      <th>325</th>\n",
       "      <td>LP002802</td>\n",
       "      <td>Male</td>\n",
       "      <td>No</td>\n",
       "      <td>0</td>\n",
       "      <td>Graduate</td>\n",
       "      <td>No</td>\n",
       "      <td>2875</td>\n",
       "      <td>2416</td>\n",
       "      <td>95.0</td>\n",
       "      <td>6.0</td>\n",
       "      <td>0.0</td>\n",
       "      <td>Semiurban</td>\n",
       "      <td>N</td>\n",
       "    </tr>\n",
       "    <tr>\n",
       "      <th>354</th>\n",
       "      <td>LP002921</td>\n",
       "      <td>Male</td>\n",
       "      <td>Yes</td>\n",
       "      <td>3+</td>\n",
       "      <td>Not Graduate</td>\n",
       "      <td>No</td>\n",
       "      <td>5316</td>\n",
       "      <td>187</td>\n",
       "      <td>158.0</td>\n",
       "      <td>180.0</td>\n",
       "      <td>0.0</td>\n",
       "      <td>Semiurban</td>\n",
       "      <td>N</td>\n",
       "    </tr>\n",
       "  </tbody>\n",
       "</table>\n",
       "</div>"
      ],
      "text/plain": [
       "      Loan_ID Gender Married Dependents     Education Self_Employed  \\\n",
       "84   LP001450   Male     Yes          0      Graduate            No   \n",
       "173  LP001979   Male      No          0      Graduate            No   \n",
       "245  LP002355    NaN     Yes          0      Graduate            No   \n",
       "325  LP002802   Male      No          0      Graduate            No   \n",
       "354  LP002921   Male     Yes         3+  Not Graduate            No   \n",
       "\n",
       "     ApplicantIncome  CoapplicantIncome  LoanAmount  Loan_Amount_Term  \\\n",
       "84              4456                  0       131.0             180.0   \n",
       "173             3017               2845       159.0             180.0   \n",
       "245             3186               3145       150.0             180.0   \n",
       "325             2875               2416        95.0               6.0   \n",
       "354             5316                187       158.0             180.0   \n",
       "\n",
       "     Credit_History Property_Area Loan_Status  \n",
       "84              0.0     Semiurban           N  \n",
       "173             0.0         Urban           N  \n",
       "245             0.0     Semiurban           N  \n",
       "325             0.0     Semiurban           N  \n",
       "354             0.0     Semiurban           N  "
      ]
     },
     "execution_count": 5,
     "metadata": {},
     "output_type": "execute_result"
    }
   ],
   "source": [
    "ts_A1 = ts_A[(ts_A[\"Loan_Status\"]==\"N\") & (ts_A[\"Loan_Amount_Term\"]<360)]\n",
    "ts_A1.head()"
   ]
  },
  {
   "cell_type": "markdown",
   "id": "f71f3b79",
   "metadata": {},
   "source": [
    "# check dataframe profile"
   ]
  },
  {
   "cell_type": "code",
   "execution_count": 6,
   "id": "f5ae0681",
   "metadata": {},
   "outputs": [
    {
     "name": "stdout",
     "output_type": "stream",
     "text": [
      "<class 'pandas.core.frame.DataFrame'>\n",
      "RangeIndex: 614 entries, 0 to 613\n",
      "Data columns (total 13 columns):\n",
      " #   Column             Non-Null Count  Dtype  \n",
      "---  ------             --------------  -----  \n",
      " 0   Loan_ID            614 non-null    object \n",
      " 1   Gender             599 non-null    object \n",
      " 2   Married            611 non-null    object \n",
      " 3   Dependents         599 non-null    object \n",
      " 4   Education          613 non-null    object \n",
      " 5   Self_Employed      582 non-null    object \n",
      " 6   ApplicantIncome    612 non-null    float64\n",
      " 7   CoapplicantIncome  613 non-null    float64\n",
      " 8   LoanAmount         592 non-null    float64\n",
      " 9   Loan_Amount_Term   600 non-null    float64\n",
      " 10  Credit_History     564 non-null    float64\n",
      " 11  Property_Area      614 non-null    object \n",
      " 12  Loan_Status        614 non-null    object \n",
      "dtypes: float64(5), object(8)\n",
      "memory usage: 62.5+ KB\n"
     ]
    }
   ],
   "source": [
    "tr_A.info()"
   ]
  },
  {
   "cell_type": "markdown",
   "id": "5eecf46f",
   "metadata": {},
   "source": [
    "# check missing data in dataframe"
   ]
  },
  {
   "cell_type": "code",
   "execution_count": 7,
   "id": "ffc0cc0e",
   "metadata": {},
   "outputs": [
    {
     "data": {
      "text/plain": [
       "Loan_ID               0\n",
       "Gender               15\n",
       "Married               3\n",
       "Dependents           15\n",
       "Education             1\n",
       "Self_Employed        32\n",
       "ApplicantIncome       2\n",
       "CoapplicantIncome     1\n",
       "LoanAmount           22\n",
       "Loan_Amount_Term     14\n",
       "Credit_History       50\n",
       "Property_Area         0\n",
       "Loan_Status           0\n",
       "dtype: int64"
      ]
     },
     "execution_count": 7,
     "metadata": {},
     "output_type": "execute_result"
    }
   ],
   "source": [
    "tr_A.isna().sum()"
   ]
  },
  {
   "cell_type": "code",
   "execution_count": 8,
   "id": "575acc59",
   "metadata": {},
   "outputs": [
    {
     "data": {
      "text/plain": [
       "Loan_ID               0\n",
       "Gender               11\n",
       "Married               0\n",
       "Dependents           10\n",
       "Education             0\n",
       "Self_Employed        23\n",
       "ApplicantIncome       0\n",
       "CoapplicantIncome     0\n",
       "LoanAmount            5\n",
       "Loan_Amount_Term      6\n",
       "Credit_History       29\n",
       "Property_Area         0\n",
       "Loan_Status           0\n",
       "dtype: int64"
      ]
     },
     "execution_count": 8,
     "metadata": {},
     "output_type": "execute_result"
    }
   ],
   "source": [
    "ts_A.isna().sum()"
   ]
  },
  {
   "cell_type": "markdown",
   "id": "acd859e0",
   "metadata": {},
   "source": [
    "# cheking the column profile for uniquness of values"
   ]
  },
  {
   "cell_type": "code",
   "execution_count": 9,
   "id": "d4af7909",
   "metadata": {},
   "outputs": [
    {
     "data": {
      "text/plain": [
       "Loan_ID              614\n",
       "Gender                 2\n",
       "Married                2\n",
       "Dependents             4\n",
       "Education              2\n",
       "Self_Employed          2\n",
       "ApplicantIncome      504\n",
       "CoapplicantIncome    286\n",
       "LoanAmount           203\n",
       "Loan_Amount_Term      10\n",
       "Credit_History         2\n",
       "Property_Area          3\n",
       "Loan_Status            2\n",
       "dtype: int64"
      ]
     },
     "execution_count": 9,
     "metadata": {},
     "output_type": "execute_result"
    }
   ],
   "source": [
    "tr_A.nunique()"
   ]
  },
  {
   "cell_type": "markdown",
   "id": "34fbfea0",
   "metadata": {},
   "source": [
    "# dropping the discrete column, Loan_ID"
   ]
  },
  {
   "cell_type": "code",
   "execution_count": 10,
   "id": "4f8fd698",
   "metadata": {},
   "outputs": [],
   "source": [
    "tr_B=tr_A.drop(labels=[\"Loan_ID\"],axis=1)\n",
    "ts_B=ts_A1.drop(labels=[\"Loan_ID\"],axis=1)"
   ]
  },
  {
   "cell_type": "markdown",
   "id": "bbd5a06e",
   "metadata": {},
   "source": [
    "# creating list of catagorical and continious columns"
   ]
  },
  {
   "cell_type": "markdown",
   "id": "0aa10988",
   "metadata": {},
   "source": [
    "values less than 10 are considered as Catagorical columns and\n",
    "\n",
    "values greater than 10 are considered Continuous columns"
   ]
  },
  {
   "cell_type": "code",
   "execution_count": 11,
   "id": "4d61be8c",
   "metadata": {},
   "outputs": [
    {
     "data": {
      "text/plain": [
       "(['Gender',\n",
       "  'Married',\n",
       "  'Dependents',\n",
       "  'Education',\n",
       "  'Self_Employed',\n",
       "  'Credit_History',\n",
       "  'Property_Area',\n",
       "  'Loan_Status'],\n",
       " ['ApplicantIncome', 'CoapplicantIncome', 'LoanAmount', 'Loan_Amount_Term'])"
      ]
     },
     "execution_count": 11,
     "metadata": {},
     "output_type": "execute_result"
    }
   ],
   "source": [
    "cat = []\n",
    "con = []\n",
    "for i in tr_B.columns:\n",
    "    if (tr_B[i].nunique()<10):\n",
    "        cat.append(i)\n",
    "    else:\n",
    "        con.append(i)\n",
    "#cat.remove(\"Loan_Status\")\n",
    "#con.remove(\"LoanAmount\")\n",
    "cat,con"
   ]
  },
  {
   "cell_type": "markdown",
   "id": "cb4a0b20",
   "metadata": {},
   "source": [
    "# Missing data treatment"
   ]
  },
  {
   "cell_type": "markdown",
   "id": "ad3c4c61",
   "metadata": {},
   "source": [
    "fill missing data of catagorical coulmns by mode values of respective column\n",
    "\n",
    "fill missing data of continuous columns by mean values of the respective columns"
   ]
  },
  {
   "cell_type": "code",
   "execution_count": 12,
   "id": "7b915aff",
   "metadata": {},
   "outputs": [],
   "source": [
    "for i in cat:\n",
    "    x=tr_B[i].mode()[0]\n",
    "    tr_B[i]=tr_B[i].fillna(x)\n",
    "    ts_B[i]=ts_B[i].fillna(x)"
   ]
  },
  {
   "cell_type": "code",
   "execution_count": 13,
   "id": "452027b6",
   "metadata": {},
   "outputs": [],
   "source": [
    "for i in con:\n",
    "    x=tr_B[i].mean()\n",
    "    tr_B[i]=tr_B[i].fillna(x)\n",
    "    ts_B[i]=ts_B[i].fillna(x)   "
   ]
  },
  {
   "cell_type": "code",
   "execution_count": 14,
   "id": "e62726f5",
   "metadata": {},
   "outputs": [
    {
     "data": {
      "text/plain": [
       "Gender               0\n",
       "Married              0\n",
       "Dependents           0\n",
       "Education            0\n",
       "Self_Employed        0\n",
       "ApplicantIncome      0\n",
       "CoapplicantIncome    0\n",
       "LoanAmount           0\n",
       "Loan_Amount_Term     0\n",
       "Credit_History       0\n",
       "Property_Area        0\n",
       "Loan_Status          0\n",
       "dtype: int64"
      ]
     },
     "execution_count": 14,
     "metadata": {},
     "output_type": "execute_result"
    }
   ],
   "source": [
    "tr_B.isna().sum()"
   ]
  },
  {
   "cell_type": "code",
   "execution_count": 15,
   "id": "d66571cc",
   "metadata": {},
   "outputs": [
    {
     "data": {
      "text/plain": [
       "Gender               0\n",
       "Married              0\n",
       "Dependents           0\n",
       "Education            0\n",
       "Self_Employed        0\n",
       "ApplicantIncome      0\n",
       "CoapplicantIncome    0\n",
       "LoanAmount           0\n",
       "Loan_Amount_Term     0\n",
       "Credit_History       0\n",
       "Property_Area        0\n",
       "Loan_Status          0\n",
       "dtype: int64"
      ]
     },
     "execution_count": 15,
     "metadata": {},
     "output_type": "execute_result"
    }
   ],
   "source": [
    "ts_B.isna().sum()"
   ]
  },
  {
   "cell_type": "markdown",
   "id": "165390b5",
   "metadata": {},
   "source": [
    "# Check the ouliers in the data"
   ]
  },
  {
   "cell_type": "code",
   "execution_count": 16,
   "id": "40d2abcd",
   "metadata": {},
   "outputs": [
    {
     "data": {
      "text/html": [
       "<div>\n",
       "<style scoped>\n",
       "    .dataframe tbody tr th:only-of-type {\n",
       "        vertical-align: middle;\n",
       "    }\n",
       "\n",
       "    .dataframe tbody tr th {\n",
       "        vertical-align: top;\n",
       "    }\n",
       "\n",
       "    .dataframe thead th {\n",
       "        text-align: right;\n",
       "    }\n",
       "</style>\n",
       "<table border=\"1\" class=\"dataframe\">\n",
       "  <thead>\n",
       "    <tr style=\"text-align: right;\">\n",
       "      <th></th>\n",
       "      <th>ApplicantIncome</th>\n",
       "      <th>CoapplicantIncome</th>\n",
       "      <th>LoanAmount</th>\n",
       "      <th>Loan_Amount_Term</th>\n",
       "    </tr>\n",
       "  </thead>\n",
       "  <tbody>\n",
       "    <tr>\n",
       "      <th>0</th>\n",
       "      <td>0.072651</td>\n",
       "      <td>-0.554368</td>\n",
       "      <td>0.000000</td>\n",
       "      <td>0.279851</td>\n",
       "    </tr>\n",
       "    <tr>\n",
       "      <th>1</th>\n",
       "      <td>0.000000</td>\n",
       "      <td>-0.038610</td>\n",
       "      <td>-0.219273</td>\n",
       "      <td>0.279851</td>\n",
       "    </tr>\n",
       "    <tr>\n",
       "      <th>2</th>\n",
       "      <td>-0.394096</td>\n",
       "      <td>-0.554368</td>\n",
       "      <td>-0.957641</td>\n",
       "      <td>0.279851</td>\n",
       "    </tr>\n",
       "    <tr>\n",
       "      <th>3</th>\n",
       "      <td>-0.462412</td>\n",
       "      <td>0.252103</td>\n",
       "      <td>-0.314547</td>\n",
       "      <td>0.279851</td>\n",
       "    </tr>\n",
       "    <tr>\n",
       "      <th>4</th>\n",
       "      <td>0.097389</td>\n",
       "      <td>-0.554368</td>\n",
       "      <td>-0.064454</td>\n",
       "      <td>0.279851</td>\n",
       "    </tr>\n",
       "  </tbody>\n",
       "</table>\n",
       "</div>"
      ],
      "text/plain": [
       "   ApplicantIncome  CoapplicantIncome  LoanAmount  Loan_Amount_Term\n",
       "0         0.072651          -0.554368    0.000000          0.279851\n",
       "1         0.000000          -0.038610   -0.219273          0.279851\n",
       "2        -0.394096          -0.554368   -0.957641          0.279851\n",
       "3        -0.462412           0.252103   -0.314547          0.279851\n",
       "4         0.097389          -0.554368   -0.064454          0.279851"
      ]
     },
     "execution_count": 16,
     "metadata": {},
     "output_type": "execute_result"
    }
   ],
   "source": [
    "from sklearn.preprocessing import StandardScaler\n",
    "ss = StandardScaler()\n",
    "x1=pd.DataFrame(ss.fit_transform(tr_B[con]),columns=con)\n",
    "x1.head()"
   ]
  },
  {
   "cell_type": "code",
   "execution_count": 17,
   "id": "2a461a5b",
   "metadata": {},
   "outputs": [],
   "source": [
    "out = []\n",
    "for i in con:\n",
    "     out=out+list(x1[(x1[i]>3)|(x1[i]<-3)].index)"
   ]
  },
  {
   "cell_type": "code",
   "execution_count": 18,
   "id": "16218ef0",
   "metadata": {},
   "outputs": [
    {
     "data": {
      "text/plain": [
       "[9,\n",
       " 14,\n",
       " 68,\n",
       " 94,\n",
       " 126,\n",
       " 130,\n",
       " 133,\n",
       " 155,\n",
       " 171,\n",
       " 177,\n",
       " 183,\n",
       " 185,\n",
       " 242,\n",
       " 262,\n",
       " 278,\n",
       " 308,\n",
       " 313,\n",
       " 333,\n",
       " 369,\n",
       " 402,\n",
       " 409,\n",
       " 417,\n",
       " 432,\n",
       " 443,\n",
       " 487,\n",
       " 495,\n",
       " 497,\n",
       " 506,\n",
       " 523,\n",
       " 525,\n",
       " 546,\n",
       " 561,\n",
       " 575,\n",
       " 581,\n",
       " 585,\n",
       " 600,\n",
       " 604]"
      ]
     },
     "execution_count": 18,
     "metadata": {},
     "output_type": "execute_result"
    }
   ],
   "source": [
    "out=list(np.unique(out))\n",
    "out"
   ]
  },
  {
   "cell_type": "markdown",
   "id": "1b7e09b0",
   "metadata": {},
   "source": [
    "# Drop all outliers from the data"
   ]
  },
  {
   "cell_type": "code",
   "execution_count": 19,
   "id": "0474277f",
   "metadata": {},
   "outputs": [],
   "source": [
    "tr_C=tr_B.drop(index=out,axis=0)"
   ]
  },
  {
   "cell_type": "markdown",
   "id": "6ca82d3b",
   "metadata": {},
   "source": [
    "# Reindexing the dataframe after deleting outliers"
   ]
  },
  {
   "cell_type": "code",
   "execution_count": 20,
   "id": "4128f322",
   "metadata": {},
   "outputs": [],
   "source": [
    "tr_C.index=range(0,tr_C.shape[0],1)"
   ]
  },
  {
   "cell_type": "markdown",
   "id": "8912adfa",
   "metadata": {},
   "source": [
    "# check the distribution of continuous columns\n",
    "plot histograms or disturibution plot"
   ]
  },
  {
   "cell_type": "code",
   "execution_count": 21,
   "id": "b316e4a6",
   "metadata": {
    "scrolled": true
   },
   "outputs": [
    {
     "data": {
      "text/plain": [
       "<AxesSubplot:xlabel='Loan_Amount_Term', ylabel='Density'>"
      ]
     },
     "execution_count": 21,
     "metadata": {},
     "output_type": "execute_result"
    },
    {
     "data": {
      "image/png": "[encoded data removed]",
      "text/plain": [
       "<Figure size 1080x216 with 4 Axes>"
      ]
     },
     "metadata": {
      "needs_background": "light"
     },
     "output_type": "display_data"
    }
   ],
   "source": [
    "plt.figure(figsize=(15,3))\n",
    "plt.subplot(1,4,1)\n",
    "sb.distplot(tr_C[\"ApplicantIncome\"],bins=10,color=\"red\")\n",
    "plt.subplot(1,4,2)\n",
    "sb.distplot(tr_C[\"CoapplicantIncome\"],bins=10)\n",
    "plt.subplot(1,4,3)\n",
    "sb.distplot(tr_C[\"LoanAmount\"],bins=10)\n",
    "plt.subplot(1,4,4)\n",
    "sb.distplot(tr_C[\"Loan_Amount_Term\"],bins=10)"
   ]
  },
  {
   "cell_type": "markdown",
   "id": "6ce99407",
   "metadata": {},
   "source": [
    "#From the plots it is observed that all columns show approximately normal distribution but skewed slightly towards right side"
   ]
  },
  {
   "cell_type": "markdown",
   "id": "ecd126a4",
   "metadata": {},
   "source": [
    "# Check the skewness of all continuous columns"
   ]
  },
  {
   "cell_type": "code",
   "execution_count": 22,
   "id": "4a27e28b",
   "metadata": {},
   "outputs": [
    {
     "name": "stdout",
     "output_type": "stream",
     "text": [
      "ApplicantIncome 2.145688077185856\n",
      "CoapplicantIncome 1.351358890837548\n",
      "LoanAmount 1.1131318857924217\n",
      "Loan_Amount_Term -2.077031480435139\n"
     ]
    }
   ],
   "source": [
    "for i in con:\n",
    "    print(i,tr_C[i].skew())"
   ]
  },
  {
   "cell_type": "code",
   "execution_count": 23,
   "id": "856f37a2",
   "metadata": {},
   "outputs": [
    {
     "name": "stdout",
     "output_type": "stream",
     "text": [
      "ApplicantIncome 0.912724327058452\n",
      "CoapplicantIncome -0.48637770379780143\n",
      "LoanAmount -1.4235734689908974\n",
      "Loan_Amount_Term -2.236067977499789\n"
     ]
    }
   ],
   "source": [
    "for i in con:\n",
    "    print(i,ts_B[i].skew())"
   ]
  },
  {
   "cell_type": "markdown",
   "id": "2c9c3ca4",
   "metadata": {},
   "source": [
    "# Removing the skewness\n",
    "To remove skewness, take the log trasnformation of all continous columns.\n",
    "in Coapplican income column there are some values which are zero. Log of zero is not possible so before taking log replace zero values with small number 1 or 0.1 "
   ]
  },
  {
   "cell_type": "code",
   "execution_count": 24,
   "id": "d8060b88",
   "metadata": {},
   "outputs": [],
   "source": [
    "tr_D=tr_C # copy the dataframe for the transformation\n",
    "ts_D=ts_B"
   ]
  },
  {
   "cell_type": "code",
   "execution_count": 25,
   "id": "5f2b0883",
   "metadata": {},
   "outputs": [],
   "source": [
    "for i in con:\n",
    "    if i!=\"Loan_Amount_Term\":\n",
    "        tr_D[i]=tr_D[i].replace({0:0.1})\n",
    "        ts_D[i]=ts_D[i].replace({0:0.1})  "
   ]
  },
  {
   "cell_type": "code",
   "execution_count": 26,
   "id": "fa592a6e",
   "metadata": {},
   "outputs": [],
   "source": [
    "for i in con:\n",
    "     if i!=\"Loan_Amount_Term\":\n",
    "        tr_D[i]=np.log(tr_D[i])\n",
    "        ts_D[i]=np.log(ts_D[i])"
   ]
  },
  {
   "cell_type": "code",
   "execution_count": 27,
   "id": "de663958",
   "metadata": {},
   "outputs": [
    {
     "name": "stdout",
     "output_type": "stream",
     "text": [
      "ApplicantIncome -0.20969781631644963\n",
      "CoapplicantIncome -0.23178696438172722\n",
      "LoanAmount -0.7406162296042765\n",
      "Loan_Amount_Term -2.077031480435139\n"
     ]
    }
   ],
   "source": [
    "for i in con:\n",
    "    print(i,tr_D[i].skew())"
   ]
  },
  {
   "cell_type": "markdown",
   "id": "d378d4a0",
   "metadata": {},
   "source": [
    "# checking the relation between dependent and independent variables"
   ]
  },
  {
   "cell_type": "markdown",
   "id": "70732859",
   "metadata": {},
   "source": [
    "# catagorical to continiuos relation - Annova test"
   ]
  },
  {
   "cell_type": "code",
   "execution_count": 28,
   "id": "539fbba9",
   "metadata": {},
   "outputs": [
    {
     "name": "stdout",
     "output_type": "stream",
     "text": [
      "Loan_Amount_Term v/s  Gender ---> 0.01209093957096434\n",
      "Loan_Amount_Term v/s  Married ---> 0.002188247129602816\n",
      "Loan_Amount_Term v/s  Dependents ---> 0.024728061095176817\n",
      "Loan_Amount_Term v/s  Education ---> 0.02301243308287004\n",
      "Loan_Amount_Term v/s  Self_Employed ---> 0.42401345373274857\n",
      "Loan_Amount_Term v/s  Credit_History ---> 0.41460011103687755\n",
      "Loan_Amount_Term v/s  Property_Area ---> 0.04553768352242231\n",
      "Loan_Amount_Term v/s  Loan_Status ---> 0.6636212713375147\n"
     ]
    }
   ],
   "source": [
    "from statsmodels.formula.api import ols\n",
    "from statsmodels.stats.anova import anova_lm\n",
    "col_to_drop = []\n",
    "\n",
    "for i in cat:\n",
    "    rel = \"Loan_Amount_Term\" +\" ~ \"+ i\n",
    "    model=ols(rel,tr_D).fit()\n",
    "    Q=anova_lm(model)\n",
    "    pval=Q.iloc[0:1,4][0]\n",
    "    if pval>0.05:\n",
    "        col_to_drop.append(i)\n",
    "    print(\"Loan_Amount_Term v/s \",i,\"--->\",pval)"
   ]
  },
  {
   "cell_type": "code",
   "execution_count": 29,
   "id": "dde9563c",
   "metadata": {},
   "outputs": [
    {
     "data": {
      "text/plain": [
       "<bound method DataFrame.sort_values of                    Loan_Amount_Term\n",
       "ApplicantIncome           -0.069203\n",
       "CoapplicantIncome          0.005466\n",
       "LoanAmount                 0.052361\n",
       "Loan_Amount_Term           1.000000\n",
       "Credit_History             0.034027>"
      ]
     },
     "execution_count": 29,
     "metadata": {},
     "output_type": "execute_result"
    }
   ],
   "source": [
    "tr_D.corr()[[\"Loan_Amount_Term\"]].sort_values"
   ]
  },
  {
   "cell_type": "code",
   "execution_count": 30,
   "id": "3572e120",
   "metadata": {},
   "outputs": [
    {
     "data": {
      "text/html": [
       "<div>\n",
       "<style scoped>\n",
       "    .dataframe tbody tr th:only-of-type {\n",
       "        vertical-align: middle;\n",
       "    }\n",
       "\n",
       "    .dataframe tbody tr th {\n",
       "        vertical-align: top;\n",
       "    }\n",
       "\n",
       "    .dataframe thead th {\n",
       "        text-align: right;\n",
       "    }\n",
       "</style>\n",
       "<table border=\"1\" class=\"dataframe\">\n",
       "  <thead>\n",
       "    <tr style=\"text-align: right;\">\n",
       "      <th></th>\n",
       "      <th>Gender</th>\n",
       "      <th>Married</th>\n",
       "      <th>Dependents</th>\n",
       "      <th>Education</th>\n",
       "      <th>Self_Employed</th>\n",
       "      <th>ApplicantIncome</th>\n",
       "      <th>CoapplicantIncome</th>\n",
       "      <th>LoanAmount</th>\n",
       "      <th>Loan_Amount_Term</th>\n",
       "      <th>Credit_History</th>\n",
       "      <th>Property_Area</th>\n",
       "      <th>Loan_Status</th>\n",
       "    </tr>\n",
       "  </thead>\n",
       "  <tbody>\n",
       "    <tr>\n",
       "      <th>0</th>\n",
       "      <td>Male</td>\n",
       "      <td>No</td>\n",
       "      <td>0</td>\n",
       "      <td>Graduate</td>\n",
       "      <td>No</td>\n",
       "      <td>8.674026</td>\n",
       "      <td>-2.302585</td>\n",
       "      <td>4.986426</td>\n",
       "      <td>360.0</td>\n",
       "      <td>1.0</td>\n",
       "      <td>Urban</td>\n",
       "      <td>Y</td>\n",
       "    </tr>\n",
       "    <tr>\n",
       "      <th>1</th>\n",
       "      <td>Male</td>\n",
       "      <td>Yes</td>\n",
       "      <td>1</td>\n",
       "      <td>Graduate</td>\n",
       "      <td>No</td>\n",
       "      <td>8.595180</td>\n",
       "      <td>7.318540</td>\n",
       "      <td>4.852030</td>\n",
       "      <td>360.0</td>\n",
       "      <td>1.0</td>\n",
       "      <td>Rural</td>\n",
       "      <td>N</td>\n",
       "    </tr>\n",
       "    <tr>\n",
       "      <th>2</th>\n",
       "      <td>Male</td>\n",
       "      <td>Yes</td>\n",
       "      <td>0</td>\n",
       "      <td>Graduate</td>\n",
       "      <td>Yes</td>\n",
       "      <td>8.006368</td>\n",
       "      <td>-2.302585</td>\n",
       "      <td>4.189655</td>\n",
       "      <td>360.0</td>\n",
       "      <td>1.0</td>\n",
       "      <td>Urban</td>\n",
       "      <td>Y</td>\n",
       "    </tr>\n",
       "    <tr>\n",
       "      <th>3</th>\n",
       "      <td>Male</td>\n",
       "      <td>Yes</td>\n",
       "      <td>0</td>\n",
       "      <td>Not Graduate</td>\n",
       "      <td>No</td>\n",
       "      <td>7.856707</td>\n",
       "      <td>7.765569</td>\n",
       "      <td>4.787492</td>\n",
       "      <td>360.0</td>\n",
       "      <td>1.0</td>\n",
       "      <td>Urban</td>\n",
       "      <td>Y</td>\n",
       "    </tr>\n",
       "    <tr>\n",
       "      <th>4</th>\n",
       "      <td>Male</td>\n",
       "      <td>No</td>\n",
       "      <td>0</td>\n",
       "      <td>Graduate</td>\n",
       "      <td>No</td>\n",
       "      <td>8.699515</td>\n",
       "      <td>-2.302585</td>\n",
       "      <td>4.948760</td>\n",
       "      <td>360.0</td>\n",
       "      <td>1.0</td>\n",
       "      <td>Urban</td>\n",
       "      <td>Y</td>\n",
       "    </tr>\n",
       "  </tbody>\n",
       "</table>\n",
       "</div>"
      ],
      "text/plain": [
       "  Gender Married Dependents     Education Self_Employed  ApplicantIncome  \\\n",
       "0   Male      No          0      Graduate            No         8.674026   \n",
       "1   Male     Yes          1      Graduate            No         8.595180   \n",
       "2   Male     Yes          0      Graduate           Yes         8.006368   \n",
       "3   Male     Yes          0  Not Graduate            No         7.856707   \n",
       "4   Male      No          0      Graduate            No         8.699515   \n",
       "\n",
       "   CoapplicantIncome  LoanAmount  Loan_Amount_Term  Credit_History  \\\n",
       "0          -2.302585    4.986426             360.0             1.0   \n",
       "1           7.318540    4.852030             360.0             1.0   \n",
       "2          -2.302585    4.189655             360.0             1.0   \n",
       "3           7.765569    4.787492             360.0             1.0   \n",
       "4          -2.302585    4.948760             360.0             1.0   \n",
       "\n",
       "  Property_Area Loan_Status  \n",
       "0         Urban           Y  \n",
       "1         Rural           N  \n",
       "2         Urban           Y  \n",
       "3         Urban           Y  \n",
       "4         Urban           Y  "
      ]
     },
     "execution_count": 30,
     "metadata": {},
     "output_type": "execute_result"
    }
   ],
   "source": [
    "tr_D.head()"
   ]
  },
  {
   "cell_type": "code",
   "execution_count": 31,
   "id": "8b336f8b",
   "metadata": {},
   "outputs": [],
   "source": [
    "tr_E_yes= tr_D[tr_D[\"Loan_Status\"]==\"Y\"]\n",
    "tr_E_no = tr_D[(tr_D[\"Loan_Status\"]==\"N\")&(tr_D[\"Loan_Amount_Term\"]<360)]\n",
    "\n",
    "tr_E_yes.index=range(0,tr_E_yes.shape[0],1)\n",
    "tr_E_no.index=range(0,tr_E_no.shape[0],1)\n",
    "\n",
    "ts_E=ts_D\n",
    "ts_E.index=range(0,ts_E.shape[0],1)"
   ]
  },
  {
   "cell_type": "code",
   "execution_count": 32,
   "id": "bcebd1e0",
   "metadata": {},
   "outputs": [
    {
     "data": {
      "text/html": [
       "<div>\n",
       "<style scoped>\n",
       "    .dataframe tbody tr th:only-of-type {\n",
       "        vertical-align: middle;\n",
       "    }\n",
       "\n",
       "    .dataframe tbody tr th {\n",
       "        vertical-align: top;\n",
       "    }\n",
       "\n",
       "    .dataframe thead th {\n",
       "        text-align: right;\n",
       "    }\n",
       "</style>\n",
       "<table border=\"1\" class=\"dataframe\">\n",
       "  <thead>\n",
       "    <tr style=\"text-align: right;\">\n",
       "      <th></th>\n",
       "      <th>Gender</th>\n",
       "      <th>Married</th>\n",
       "      <th>Dependents</th>\n",
       "      <th>Education</th>\n",
       "      <th>Self_Employed</th>\n",
       "      <th>ApplicantIncome</th>\n",
       "      <th>CoapplicantIncome</th>\n",
       "      <th>LoanAmount</th>\n",
       "      <th>Loan_Amount_Term</th>\n",
       "      <th>Credit_History</th>\n",
       "      <th>Property_Area</th>\n",
       "      <th>Loan_Status</th>\n",
       "    </tr>\n",
       "  </thead>\n",
       "  <tbody>\n",
       "    <tr>\n",
       "      <th>0</th>\n",
       "      <td>Male</td>\n",
       "      <td>No</td>\n",
       "      <td>0</td>\n",
       "      <td>Graduate</td>\n",
       "      <td>No</td>\n",
       "      <td>8.674026</td>\n",
       "      <td>-2.302585</td>\n",
       "      <td>4.986426</td>\n",
       "      <td>360.0</td>\n",
       "      <td>1.0</td>\n",
       "      <td>Urban</td>\n",
       "      <td>Y</td>\n",
       "    </tr>\n",
       "    <tr>\n",
       "      <th>1</th>\n",
       "      <td>Male</td>\n",
       "      <td>Yes</td>\n",
       "      <td>0</td>\n",
       "      <td>Graduate</td>\n",
       "      <td>Yes</td>\n",
       "      <td>8.006368</td>\n",
       "      <td>-2.302585</td>\n",
       "      <td>4.189655</td>\n",
       "      <td>360.0</td>\n",
       "      <td>1.0</td>\n",
       "      <td>Urban</td>\n",
       "      <td>Y</td>\n",
       "    </tr>\n",
       "    <tr>\n",
       "      <th>2</th>\n",
       "      <td>Male</td>\n",
       "      <td>Yes</td>\n",
       "      <td>0</td>\n",
       "      <td>Not Graduate</td>\n",
       "      <td>No</td>\n",
       "      <td>7.856707</td>\n",
       "      <td>7.765569</td>\n",
       "      <td>4.787492</td>\n",
       "      <td>360.0</td>\n",
       "      <td>1.0</td>\n",
       "      <td>Urban</td>\n",
       "      <td>Y</td>\n",
       "    </tr>\n",
       "    <tr>\n",
       "      <th>3</th>\n",
       "      <td>Male</td>\n",
       "      <td>No</td>\n",
       "      <td>0</td>\n",
       "      <td>Graduate</td>\n",
       "      <td>No</td>\n",
       "      <td>8.699515</td>\n",
       "      <td>-2.302585</td>\n",
       "      <td>4.948760</td>\n",
       "      <td>360.0</td>\n",
       "      <td>1.0</td>\n",
       "      <td>Urban</td>\n",
       "      <td>Y</td>\n",
       "    </tr>\n",
       "    <tr>\n",
       "      <th>4</th>\n",
       "      <td>Male</td>\n",
       "      <td>Yes</td>\n",
       "      <td>2</td>\n",
       "      <td>Graduate</td>\n",
       "      <td>Yes</td>\n",
       "      <td>8.597297</td>\n",
       "      <td>8.341887</td>\n",
       "      <td>5.587249</td>\n",
       "      <td>360.0</td>\n",
       "      <td>1.0</td>\n",
       "      <td>Urban</td>\n",
       "      <td>Y</td>\n",
       "    </tr>\n",
       "  </tbody>\n",
       "</table>\n",
       "</div>"
      ],
      "text/plain": [
       "  Gender Married Dependents     Education Self_Employed  ApplicantIncome  \\\n",
       "0   Male      No          0      Graduate            No         8.674026   \n",
       "1   Male     Yes          0      Graduate           Yes         8.006368   \n",
       "2   Male     Yes          0  Not Graduate            No         7.856707   \n",
       "3   Male      No          0      Graduate            No         8.699515   \n",
       "4   Male     Yes          2      Graduate           Yes         8.597297   \n",
       "\n",
       "   CoapplicantIncome  LoanAmount  Loan_Amount_Term  Credit_History  \\\n",
       "0          -2.302585    4.986426             360.0             1.0   \n",
       "1          -2.302585    4.189655             360.0             1.0   \n",
       "2           7.765569    4.787492             360.0             1.0   \n",
       "3          -2.302585    4.948760             360.0             1.0   \n",
       "4           8.341887    5.587249             360.0             1.0   \n",
       "\n",
       "  Property_Area Loan_Status  \n",
       "0         Urban           Y  \n",
       "1         Urban           Y  \n",
       "2         Urban           Y  \n",
       "3         Urban           Y  \n",
       "4         Urban           Y  "
      ]
     },
     "execution_count": 32,
     "metadata": {},
     "output_type": "execute_result"
    }
   ],
   "source": [
    "tr_E_yes.head()"
   ]
  },
  {
   "cell_type": "code",
   "execution_count": 33,
   "id": "96a41ac1",
   "metadata": {},
   "outputs": [
    {
     "data": {
      "text/html": [
       "<div>\n",
       "<style scoped>\n",
       "    .dataframe tbody tr th:only-of-type {\n",
       "        vertical-align: middle;\n",
       "    }\n",
       "\n",
       "    .dataframe tbody tr th {\n",
       "        vertical-align: top;\n",
       "    }\n",
       "\n",
       "    .dataframe thead th {\n",
       "        text-align: right;\n",
       "    }\n",
       "</style>\n",
       "<table border=\"1\" class=\"dataframe\">\n",
       "  <thead>\n",
       "    <tr style=\"text-align: right;\">\n",
       "      <th></th>\n",
       "      <th>Gender</th>\n",
       "      <th>Married</th>\n",
       "      <th>Dependents</th>\n",
       "      <th>Education</th>\n",
       "      <th>Self_Employed</th>\n",
       "      <th>ApplicantIncome</th>\n",
       "      <th>CoapplicantIncome</th>\n",
       "      <th>LoanAmount</th>\n",
       "      <th>Loan_Amount_Term</th>\n",
       "      <th>Credit_History</th>\n",
       "      <th>Property_Area</th>\n",
       "      <th>Loan_Status</th>\n",
       "    </tr>\n",
       "  </thead>\n",
       "  <tbody>\n",
       "    <tr>\n",
       "      <th>0</th>\n",
       "      <td>Male</td>\n",
       "      <td>Yes</td>\n",
       "      <td>0</td>\n",
       "      <td>Graduate</td>\n",
       "      <td>No</td>\n",
       "      <td>8.402007</td>\n",
       "      <td>-2.302585</td>\n",
       "      <td>4.875197</td>\n",
       "      <td>180.0</td>\n",
       "      <td>0.0</td>\n",
       "      <td>Semiurban</td>\n",
       "      <td>N</td>\n",
       "    </tr>\n",
       "    <tr>\n",
       "      <th>1</th>\n",
       "      <td>Male</td>\n",
       "      <td>No</td>\n",
       "      <td>0</td>\n",
       "      <td>Graduate</td>\n",
       "      <td>No</td>\n",
       "      <td>8.012018</td>\n",
       "      <td>7.953318</td>\n",
       "      <td>5.068904</td>\n",
       "      <td>180.0</td>\n",
       "      <td>0.0</td>\n",
       "      <td>Urban</td>\n",
       "      <td>N</td>\n",
       "    </tr>\n",
       "    <tr>\n",
       "      <th>2</th>\n",
       "      <td>Male</td>\n",
       "      <td>Yes</td>\n",
       "      <td>0</td>\n",
       "      <td>Graduate</td>\n",
       "      <td>No</td>\n",
       "      <td>8.066521</td>\n",
       "      <td>8.053569</td>\n",
       "      <td>5.010635</td>\n",
       "      <td>180.0</td>\n",
       "      <td>0.0</td>\n",
       "      <td>Semiurban</td>\n",
       "      <td>N</td>\n",
       "    </tr>\n",
       "    <tr>\n",
       "      <th>3</th>\n",
       "      <td>Male</td>\n",
       "      <td>No</td>\n",
       "      <td>0</td>\n",
       "      <td>Graduate</td>\n",
       "      <td>No</td>\n",
       "      <td>7.963808</td>\n",
       "      <td>7.789869</td>\n",
       "      <td>4.553877</td>\n",
       "      <td>6.0</td>\n",
       "      <td>0.0</td>\n",
       "      <td>Semiurban</td>\n",
       "      <td>N</td>\n",
       "    </tr>\n",
       "    <tr>\n",
       "      <th>4</th>\n",
       "      <td>Male</td>\n",
       "      <td>Yes</td>\n",
       "      <td>3+</td>\n",
       "      <td>Not Graduate</td>\n",
       "      <td>No</td>\n",
       "      <td>8.578476</td>\n",
       "      <td>5.231109</td>\n",
       "      <td>5.062595</td>\n",
       "      <td>180.0</td>\n",
       "      <td>0.0</td>\n",
       "      <td>Semiurban</td>\n",
       "      <td>N</td>\n",
       "    </tr>\n",
       "  </tbody>\n",
       "</table>\n",
       "</div>"
      ],
      "text/plain": [
       "  Gender Married Dependents     Education Self_Employed  ApplicantIncome  \\\n",
       "0   Male     Yes          0      Graduate            No         8.402007   \n",
       "1   Male      No          0      Graduate            No         8.012018   \n",
       "2   Male     Yes          0      Graduate            No         8.066521   \n",
       "3   Male      No          0      Graduate            No         7.963808   \n",
       "4   Male     Yes         3+  Not Graduate            No         8.578476   \n",
       "\n",
       "   CoapplicantIncome  LoanAmount  Loan_Amount_Term  Credit_History  \\\n",
       "0          -2.302585    4.875197             180.0             0.0   \n",
       "1           7.953318    5.068904             180.0             0.0   \n",
       "2           8.053569    5.010635             180.0             0.0   \n",
       "3           7.789869    4.553877               6.0             0.0   \n",
       "4           5.231109    5.062595             180.0             0.0   \n",
       "\n",
       "  Property_Area Loan_Status  \n",
       "0     Semiurban           N  \n",
       "1         Urban           N  \n",
       "2     Semiurban           N  \n",
       "3     Semiurban           N  \n",
       "4     Semiurban           N  "
      ]
     },
     "execution_count": 33,
     "metadata": {},
     "output_type": "execute_result"
    }
   ],
   "source": [
    "ts_E"
   ]
  },
  {
   "cell_type": "markdown",
   "id": "bc8ff2eb",
   "metadata": {},
   "source": [
    "# Declare dependent 'Y' and independent 'X' variables "
   ]
  },
  {
   "cell_type": "code",
   "execution_count": 34,
   "id": "8b2f97bb",
   "metadata": {},
   "outputs": [],
   "source": [
    "Y=tr_E_yes[[\"Loan_Amount_Term\"]]\n",
    "X=tr_E_yes.drop(labels=[\"Loan_Amount_Term\",\"Loan_Status\"],axis=1)\n",
    "X_no=tr_E_no.drop(labels=[\"Loan_Amount_Term\",\"Loan_Status\"],axis=1)\n",
    "X_ts = ts_E.drop(labels=[\"Loan_Amount_Term\"],axis=1)"
   ]
  },
  {
   "cell_type": "code",
   "execution_count": 35,
   "id": "b1a27f19",
   "metadata": {},
   "outputs": [],
   "source": [
    "cat.remove(\"Loan_Status\")"
   ]
  },
  {
   "cell_type": "code",
   "execution_count": 36,
   "id": "d20240cc",
   "metadata": {},
   "outputs": [],
   "source": [
    "con.remove(\"Loan_Amount_Term\")"
   ]
  },
  {
   "cell_type": "code",
   "execution_count": 37,
   "id": "f502f474",
   "metadata": {},
   "outputs": [
    {
     "data": {
      "text/plain": [
       "(['Gender',\n",
       "  'Married',\n",
       "  'Dependents',\n",
       "  'Education',\n",
       "  'Self_Employed',\n",
       "  'Credit_History',\n",
       "  'Property_Area'],\n",
       " ['ApplicantIncome', 'CoapplicantIncome', 'LoanAmount'])"
      ]
     },
     "execution_count": 37,
     "metadata": {},
     "output_type": "execute_result"
    }
   ],
   "source": [
    "cat, con"
   ]
  },
  {
   "cell_type": "markdown",
   "id": "54b2d4ee",
   "metadata": {},
   "source": [
    "# Standradize the data\n",
    "create one hot encoding for the catagorical columns\n",
    "\n",
    "scale the continuous valeus in the range of 0 to 1"
   ]
  },
  {
   "cell_type": "code",
   "execution_count": 38,
   "id": "53f993ef",
   "metadata": {},
   "outputs": [],
   "source": [
    "X1=pd.get_dummies(X[cat],columns=cat)\n",
    "X1_ts=pd.get_dummies(X_ts[cat],columns=cat)\n",
    "X1_no=pd.get_dummies(X_no[cat],columns=cat)"
   ]
  },
  {
   "cell_type": "code",
   "execution_count": 39,
   "id": "c7fd79e7",
   "metadata": {},
   "outputs": [],
   "source": [
    "from sklearn.preprocessing import MinMaxScaler\n",
    "mm=MinMaxScaler()\n",
    "X2= pd.DataFrame(mm.fit_transform(X[con]),columns=con)\n",
    "X2_ts= pd.DataFrame(mm.transform(X_ts[con]),columns=con)\n",
    "X2_no= pd.DataFrame(mm.transform(X_no[con]),columns=con)"
   ]
  },
  {
   "cell_type": "markdown",
   "id": "034d1666",
   "metadata": {},
   "source": [
    "# create new data frame combining both catagoriacal one hot encoded dataframe and scaled continous columns dataframe"
   ]
  },
  {
   "cell_type": "code",
   "execution_count": 40,
   "id": "93f676fd",
   "metadata": {
    "scrolled": true
   },
   "outputs": [],
   "source": [
    "Xnew =X1.join(X2)\n",
    "Xnew_no =X1_no.join(X2_no)"
   ]
  },
  {
   "cell_type": "code",
   "execution_count": 41,
   "id": "1b1793b8",
   "metadata": {},
   "outputs": [],
   "source": [
    "Xnew_ts=X1_ts.join(X2_ts)"
   ]
  },
  {
   "cell_type": "code",
   "execution_count": 42,
   "id": "f9699c0a",
   "metadata": {
    "scrolled": true
   },
   "outputs": [
    {
     "data": {
      "text/html": [
       "<div>\n",
       "<style scoped>\n",
       "    .dataframe tbody tr th:only-of-type {\n",
       "        vertical-align: middle;\n",
       "    }\n",
       "\n",
       "    .dataframe tbody tr th {\n",
       "        vertical-align: top;\n",
       "    }\n",
       "\n",
       "    .dataframe thead th {\n",
       "        text-align: right;\n",
       "    }\n",
       "</style>\n",
       "<table border=\"1\" class=\"dataframe\">\n",
       "  <thead>\n",
       "    <tr style=\"text-align: right;\">\n",
       "      <th></th>\n",
       "      <th>Gender_Female</th>\n",
       "      <th>Gender_Male</th>\n",
       "      <th>Married_No</th>\n",
       "      <th>Married_Yes</th>\n",
       "      <th>Dependents_0</th>\n",
       "      <th>Dependents_1</th>\n",
       "      <th>Dependents_2</th>\n",
       "      <th>Dependents_3+</th>\n",
       "      <th>Education_Graduate</th>\n",
       "      <th>Education_Not Graduate</th>\n",
       "      <th>Self_Employed_No</th>\n",
       "      <th>Self_Employed_Yes</th>\n",
       "      <th>Credit_History_0.0</th>\n",
       "      <th>Credit_History_1.0</th>\n",
       "      <th>Property_Area_Rural</th>\n",
       "      <th>Property_Area_Semiurban</th>\n",
       "      <th>Property_Area_Urban</th>\n",
       "      <th>ApplicantIncome</th>\n",
       "      <th>CoapplicantIncome</th>\n",
       "      <th>LoanAmount</th>\n",
       "    </tr>\n",
       "  </thead>\n",
       "  <tbody>\n",
       "    <tr>\n",
       "      <th>0</th>\n",
       "      <td>0</td>\n",
       "      <td>1</td>\n",
       "      <td>1</td>\n",
       "      <td>0</td>\n",
       "      <td>1</td>\n",
       "      <td>0</td>\n",
       "      <td>0</td>\n",
       "      <td>0</td>\n",
       "      <td>1</td>\n",
       "      <td>0</td>\n",
       "      <td>1</td>\n",
       "      <td>0</td>\n",
       "      <td>0</td>\n",
       "      <td>1</td>\n",
       "      <td>0</td>\n",
       "      <td>0</td>\n",
       "      <td>1</td>\n",
       "      <td>0.745922</td>\n",
       "      <td>0.000000</td>\n",
       "      <td>0.644400</td>\n",
       "    </tr>\n",
       "    <tr>\n",
       "      <th>1</th>\n",
       "      <td>0</td>\n",
       "      <td>1</td>\n",
       "      <td>0</td>\n",
       "      <td>1</td>\n",
       "      <td>1</td>\n",
       "      <td>0</td>\n",
       "      <td>0</td>\n",
       "      <td>0</td>\n",
       "      <td>1</td>\n",
       "      <td>0</td>\n",
       "      <td>0</td>\n",
       "      <td>1</td>\n",
       "      <td>0</td>\n",
       "      <td>1</td>\n",
       "      <td>0</td>\n",
       "      <td>0</td>\n",
       "      <td>1</td>\n",
       "      <td>0.596227</td>\n",
       "      <td>0.000000</td>\n",
       "      <td>0.347327</td>\n",
       "    </tr>\n",
       "    <tr>\n",
       "      <th>2</th>\n",
       "      <td>0</td>\n",
       "      <td>1</td>\n",
       "      <td>0</td>\n",
       "      <td>1</td>\n",
       "      <td>1</td>\n",
       "      <td>0</td>\n",
       "      <td>0</td>\n",
       "      <td>0</td>\n",
       "      <td>0</td>\n",
       "      <td>1</td>\n",
       "      <td>1</td>\n",
       "      <td>0</td>\n",
       "      <td>0</td>\n",
       "      <td>1</td>\n",
       "      <td>0</td>\n",
       "      <td>0</td>\n",
       "      <td>1</td>\n",
       "      <td>0.562672</td>\n",
       "      <td>0.882758</td>\n",
       "      <td>0.570228</td>\n",
       "    </tr>\n",
       "    <tr>\n",
       "      <th>3</th>\n",
       "      <td>0</td>\n",
       "      <td>1</td>\n",
       "      <td>1</td>\n",
       "      <td>0</td>\n",
       "      <td>1</td>\n",
       "      <td>0</td>\n",
       "      <td>0</td>\n",
       "      <td>0</td>\n",
       "      <td>1</td>\n",
       "      <td>0</td>\n",
       "      <td>1</td>\n",
       "      <td>0</td>\n",
       "      <td>0</td>\n",
       "      <td>1</td>\n",
       "      <td>0</td>\n",
       "      <td>0</td>\n",
       "      <td>1</td>\n",
       "      <td>0.751636</td>\n",
       "      <td>0.000000</td>\n",
       "      <td>0.630357</td>\n",
       "    </tr>\n",
       "    <tr>\n",
       "      <th>4</th>\n",
       "      <td>0</td>\n",
       "      <td>1</td>\n",
       "      <td>0</td>\n",
       "      <td>1</td>\n",
       "      <td>0</td>\n",
       "      <td>0</td>\n",
       "      <td>1</td>\n",
       "      <td>0</td>\n",
       "      <td>1</td>\n",
       "      <td>0</td>\n",
       "      <td>0</td>\n",
       "      <td>1</td>\n",
       "      <td>0</td>\n",
       "      <td>1</td>\n",
       "      <td>0</td>\n",
       "      <td>0</td>\n",
       "      <td>1</td>\n",
       "      <td>0.728719</td>\n",
       "      <td>0.933288</td>\n",
       "      <td>0.868414</td>\n",
       "    </tr>\n",
       "    <tr>\n",
       "      <th>...</th>\n",
       "      <td>...</td>\n",
       "      <td>...</td>\n",
       "      <td>...</td>\n",
       "      <td>...</td>\n",
       "      <td>...</td>\n",
       "      <td>...</td>\n",
       "      <td>...</td>\n",
       "      <td>...</td>\n",
       "      <td>...</td>\n",
       "      <td>...</td>\n",
       "      <td>...</td>\n",
       "      <td>...</td>\n",
       "      <td>...</td>\n",
       "      <td>...</td>\n",
       "      <td>...</td>\n",
       "      <td>...</td>\n",
       "      <td>...</td>\n",
       "      <td>...</td>\n",
       "      <td>...</td>\n",
       "      <td>...</td>\n",
       "    </tr>\n",
       "    <tr>\n",
       "      <th>393</th>\n",
       "      <td>0</td>\n",
       "      <td>1</td>\n",
       "      <td>0</td>\n",
       "      <td>1</td>\n",
       "      <td>1</td>\n",
       "      <td>0</td>\n",
       "      <td>0</td>\n",
       "      <td>0</td>\n",
       "      <td>1</td>\n",
       "      <td>0</td>\n",
       "      <td>1</td>\n",
       "      <td>0</td>\n",
       "      <td>0</td>\n",
       "      <td>1</td>\n",
       "      <td>1</td>\n",
       "      <td>0</td>\n",
       "      <td>0</td>\n",
       "      <td>0.612928</td>\n",
       "      <td>0.866100</td>\n",
       "      <td>0.530945</td>\n",
       "    </tr>\n",
       "    <tr>\n",
       "      <th>394</th>\n",
       "      <td>1</td>\n",
       "      <td>0</td>\n",
       "      <td>1</td>\n",
       "      <td>0</td>\n",
       "      <td>1</td>\n",
       "      <td>0</td>\n",
       "      <td>0</td>\n",
       "      <td>0</td>\n",
       "      <td>1</td>\n",
       "      <td>0</td>\n",
       "      <td>1</td>\n",
       "      <td>0</td>\n",
       "      <td>0</td>\n",
       "      <td>1</td>\n",
       "      <td>1</td>\n",
       "      <td>0</td>\n",
       "      <td>0</td>\n",
       "      <td>0.588626</td>\n",
       "      <td>0.000000</td>\n",
       "      <td>0.374555</td>\n",
       "    </tr>\n",
       "    <tr>\n",
       "      <th>395</th>\n",
       "      <td>0</td>\n",
       "      <td>1</td>\n",
       "      <td>0</td>\n",
       "      <td>1</td>\n",
       "      <td>0</td>\n",
       "      <td>0</td>\n",
       "      <td>0</td>\n",
       "      <td>1</td>\n",
       "      <td>1</td>\n",
       "      <td>0</td>\n",
       "      <td>1</td>\n",
       "      <td>0</td>\n",
       "      <td>0</td>\n",
       "      <td>1</td>\n",
       "      <td>1</td>\n",
       "      <td>0</td>\n",
       "      <td>0</td>\n",
       "      <td>0.666592</td>\n",
       "      <td>0.000000</td>\n",
       "      <td>0.160616</td>\n",
       "    </tr>\n",
       "    <tr>\n",
       "      <th>396</th>\n",
       "      <td>0</td>\n",
       "      <td>1</td>\n",
       "      <td>0</td>\n",
       "      <td>1</td>\n",
       "      <td>0</td>\n",
       "      <td>1</td>\n",
       "      <td>0</td>\n",
       "      <td>0</td>\n",
       "      <td>1</td>\n",
       "      <td>0</td>\n",
       "      <td>1</td>\n",
       "      <td>0</td>\n",
       "      <td>0</td>\n",
       "      <td>1</td>\n",
       "      <td>0</td>\n",
       "      <td>0</td>\n",
       "      <td>1</td>\n",
       "      <td>0.818146</td>\n",
       "      <td>0.682419</td>\n",
       "      <td>0.848333</td>\n",
       "    </tr>\n",
       "    <tr>\n",
       "      <th>397</th>\n",
       "      <td>0</td>\n",
       "      <td>1</td>\n",
       "      <td>0</td>\n",
       "      <td>1</td>\n",
       "      <td>0</td>\n",
       "      <td>0</td>\n",
       "      <td>1</td>\n",
       "      <td>0</td>\n",
       "      <td>1</td>\n",
       "      <td>0</td>\n",
       "      <td>1</td>\n",
       "      <td>0</td>\n",
       "      <td>0</td>\n",
       "      <td>1</td>\n",
       "      <td>0</td>\n",
       "      <td>0</td>\n",
       "      <td>1</td>\n",
       "      <td>0.804135</td>\n",
       "      <td>0.000000</td>\n",
       "      <td>0.735629</td>\n",
       "    </tr>\n",
       "  </tbody>\n",
       "</table>\n",
       "<p>398 rows × 20 columns</p>\n",
       "</div>"
      ],
      "text/plain": [
       "     Gender_Female  Gender_Male  Married_No  Married_Yes  Dependents_0  \\\n",
       "0                0            1           1            0             1   \n",
       "1                0            1           0            1             1   \n",
       "2                0            1           0            1             1   \n",
       "3                0            1           1            0             1   \n",
       "4                0            1           0            1             0   \n",
       "..             ...          ...         ...          ...           ...   \n",
       "393              0            1           0            1             1   \n",
       "394              1            0           1            0             1   \n",
       "395              0            1           0            1             0   \n",
       "396              0            1           0            1             0   \n",
       "397              0            1           0            1             0   \n",
       "\n",
       "     Dependents_1  Dependents_2  Dependents_3+  Education_Graduate  \\\n",
       "0               0             0              0                   1   \n",
       "1               0             0              0                   1   \n",
       "2               0             0              0                   0   \n",
       "3               0             0              0                   1   \n",
       "4               0             1              0                   1   \n",
       "..            ...           ...            ...                 ...   \n",
       "393             0             0              0                   1   \n",
       "394             0             0              0                   1   \n",
       "395             0             0              1                   1   \n",
       "396             1             0              0                   1   \n",
       "397             0             1              0                   1   \n",
       "\n",
       "     Education_Not Graduate  Self_Employed_No  Self_Employed_Yes  \\\n",
       "0                         0                 1                  0   \n",
       "1                         0                 0                  1   \n",
       "2                         1                 1                  0   \n",
       "3                         0                 1                  0   \n",
       "4                         0                 0                  1   \n",
       "..                      ...               ...                ...   \n",
       "393                       0                 1                  0   \n",
       "394                       0                 1                  0   \n",
       "395                       0                 1                  0   \n",
       "396                       0                 1                  0   \n",
       "397                       0                 1                  0   \n",
       "\n",
       "     Credit_History_0.0  Credit_History_1.0  Property_Area_Rural  \\\n",
       "0                     0                   1                    0   \n",
       "1                     0                   1                    0   \n",
       "2                     0                   1                    0   \n",
       "3                     0                   1                    0   \n",
       "4                     0                   1                    0   \n",
       "..                  ...                 ...                  ...   \n",
       "393                   0                   1                    1   \n",
       "394                   0                   1                    1   \n",
       "395                   0                   1                    1   \n",
       "396                   0                   1                    0   \n",
       "397                   0                   1                    0   \n",
       "\n",
       "     Property_Area_Semiurban  Property_Area_Urban  ApplicantIncome  \\\n",
       "0                          0                    1         0.745922   \n",
       "1                          0                    1         0.596227   \n",
       "2                          0                    1         0.562672   \n",
       "3                          0                    1         0.751636   \n",
       "4                          0                    1         0.728719   \n",
       "..                       ...                  ...              ...   \n",
       "393                        0                    0         0.612928   \n",
       "394                        0                    0         0.588626   \n",
       "395                        0                    0         0.666592   \n",
       "396                        0                    1         0.818146   \n",
       "397                        0                    1         0.804135   \n",
       "\n",
       "     CoapplicantIncome  LoanAmount  \n",
       "0             0.000000    0.644400  \n",
       "1             0.000000    0.347327  \n",
       "2             0.882758    0.570228  \n",
       "3             0.000000    0.630357  \n",
       "4             0.933288    0.868414  \n",
       "..                 ...         ...  \n",
       "393           0.866100    0.530945  \n",
       "394           0.000000    0.374555  \n",
       "395           0.000000    0.160616  \n",
       "396           0.682419    0.848333  \n",
       "397           0.000000    0.735629  \n",
       "\n",
       "[398 rows x 20 columns]"
      ]
     },
     "execution_count": 42,
     "metadata": {},
     "output_type": "execute_result"
    }
   ],
   "source": [
    "Xnew"
   ]
  },
  {
   "cell_type": "markdown",
   "id": "389aa22d",
   "metadata": {},
   "source": [
    "# Divide this dataset into training and testing dataset\n",
    "using test size = 0.2\n",
    "    randam state as 42"
   ]
  },
  {
   "cell_type": "code",
   "execution_count": 43,
   "id": "3525a801",
   "metadata": {},
   "outputs": [],
   "source": [
    "from sklearn.model_selection import train_test_split\n",
    "xtrain,xtest,ytrain,ytest=train_test_split(Xnew,Y,test_size=0.2,random_state=42)"
   ]
  },
  {
   "cell_type": "markdown",
   "id": "494816ea",
   "metadata": {},
   "source": [
    "#As this is Regression problem , we will check with differnt regrssion techniques.\n",
    "\n",
    "whichever model gives best results will be used for final traing"
   ]
  },
  {
   "cell_type": "markdown",
   "id": "a0383aed",
   "metadata": {},
   "source": [
    "we will try following classifiers\n",
    "1) Linear regession\n",
    "\n",
    "2) Decision Tree\n",
    "\n",
    "3) k-nearest neighbour\n",
    "\n",
    "4) Random forest\n",
    "\n",
    "5) Adaboost regressor"
   ]
  },
  {
   "cell_type": "markdown",
   "id": "28316d25",
   "metadata": {},
   "source": [
    "# Feature section using backward ellimination method"
   ]
  },
  {
   "cell_type": "code",
   "execution_count": 44,
   "id": "038f38d3",
   "metadata": {},
   "outputs": [],
   "source": [
    "from statsmodels.api import add_constant,OLS"
   ]
  },
  {
   "cell_type": "code",
   "execution_count": 45,
   "id": "bb1a05c3",
   "metadata": {},
   "outputs": [
    {
     "data": {
      "text/html": [
       "<table class=\"simpletable\">\n",
       "<caption>OLS Regression Results</caption>\n",
       "<tr>\n",
       "  <th>Dep. Variable:</th>    <td>Loan_Amount_Term</td> <th>  R-squared:         </th> <td>   0.057</td>\n",
       "</tr>\n",
       "<tr>\n",
       "  <th>Model:</th>                   <td>OLS</td>       <th>  Adj. R-squared:    </th> <td>   0.017</td>\n",
       "</tr>\n",
       "<tr>\n",
       "  <th>Method:</th>             <td>Least Squares</td>  <th>  F-statistic:       </th> <td>   1.413</td>\n",
       "</tr>\n",
       "<tr>\n",
       "  <th>Date:</th>             <td>Fri, 17 Mar 2023</td> <th>  Prob (F-statistic):</th>  <td> 0.152</td> \n",
       "</tr>\n",
       "<tr>\n",
       "  <th>Time:</th>                 <td>22:58:51</td>     <th>  Log-Likelihood:    </th> <td> -1675.5</td>\n",
       "</tr>\n",
       "<tr>\n",
       "  <th>No. Observations:</th>      <td>   318</td>      <th>  AIC:               </th> <td>   3379.</td>\n",
       "</tr>\n",
       "<tr>\n",
       "  <th>Df Residuals:</th>          <td>   304</td>      <th>  BIC:               </th> <td>   3432.</td>\n",
       "</tr>\n",
       "<tr>\n",
       "  <th>Df Model:</th>              <td>    13</td>      <th>                     </th>     <td> </td>   \n",
       "</tr>\n",
       "<tr>\n",
       "  <th>Covariance Type:</th>      <td>nonrobust</td>    <th>                     </th>     <td> </td>   \n",
       "</tr>\n",
       "</table>\n",
       "<table class=\"simpletable\">\n",
       "<tr>\n",
       "             <td></td>                <th>coef</th>     <th>std err</th>      <th>t</th>      <th>P>|t|</th>  <th>[0.025</th>    <th>0.975]</th>  \n",
       "</tr>\n",
       "<tr>\n",
       "  <th>const</th>                   <td>   85.8900</td> <td>    5.565</td> <td>   15.434</td> <td> 0.000</td> <td>   74.939</td> <td>   96.841</td>\n",
       "</tr>\n",
       "<tr>\n",
       "  <th>Gender_Female</th>           <td>   44.2324</td> <td>    4.894</td> <td>    9.039</td> <td> 0.000</td> <td>   34.603</td> <td>   53.862</td>\n",
       "</tr>\n",
       "<tr>\n",
       "  <th>Gender_Male</th>             <td>   41.6576</td> <td>    4.992</td> <td>    8.345</td> <td> 0.000</td> <td>   31.834</td> <td>   51.481</td>\n",
       "</tr>\n",
       "<tr>\n",
       "  <th>Married_No</th>              <td>   47.6593</td> <td>    4.247</td> <td>   11.222</td> <td> 0.000</td> <td>   39.302</td> <td>   56.016</td>\n",
       "</tr>\n",
       "<tr>\n",
       "  <th>Married_Yes</th>             <td>   38.2307</td> <td>    4.705</td> <td>    8.126</td> <td> 0.000</td> <td>   28.972</td> <td>   47.489</td>\n",
       "</tr>\n",
       "<tr>\n",
       "  <th>Dependents_0</th>            <td>   22.4556</td> <td>    4.550</td> <td>    4.935</td> <td> 0.000</td> <td>   13.502</td> <td>   31.409</td>\n",
       "</tr>\n",
       "<tr>\n",
       "  <th>Dependents_1</th>            <td>   16.0798</td> <td>    6.308</td> <td>    2.549</td> <td> 0.011</td> <td>    3.666</td> <td>   28.493</td>\n",
       "</tr>\n",
       "<tr>\n",
       "  <th>Dependents_2</th>            <td>   19.6964</td> <td>    5.952</td> <td>    3.309</td> <td> 0.001</td> <td>    7.984</td> <td>   31.408</td>\n",
       "</tr>\n",
       "<tr>\n",
       "  <th>Dependents_3+</th>           <td>   27.6582</td> <td>    7.880</td> <td>    3.510</td> <td> 0.001</td> <td>   12.152</td> <td>   43.164</td>\n",
       "</tr>\n",
       "<tr>\n",
       "  <th>Education_Graduate</th>      <td>   47.4340</td> <td>    4.533</td> <td>   10.464</td> <td> 0.000</td> <td>   38.514</td> <td>   56.354</td>\n",
       "</tr>\n",
       "<tr>\n",
       "  <th>Education_Not Graduate</th>  <td>   38.4560</td> <td>    4.178</td> <td>    9.205</td> <td> 0.000</td> <td>   30.235</td> <td>   46.677</td>\n",
       "</tr>\n",
       "<tr>\n",
       "  <th>Self_Employed_No</th>        <td>   41.2323</td> <td>    4.120</td> <td>   10.007</td> <td> 0.000</td> <td>   33.124</td> <td>   49.340</td>\n",
       "</tr>\n",
       "<tr>\n",
       "  <th>Self_Employed_Yes</th>       <td>   44.6577</td> <td>    5.777</td> <td>    7.730</td> <td> 0.000</td> <td>   33.289</td> <td>   56.027</td>\n",
       "</tr>\n",
       "<tr>\n",
       "  <th>Credit_History_0.0</th>      <td>   30.8822</td> <td>   11.481</td> <td>    2.690</td> <td> 0.008</td> <td>    8.289</td> <td>   53.475</td>\n",
       "</tr>\n",
       "<tr>\n",
       "  <th>Credit_History_1.0</th>      <td>   55.0078</td> <td>    9.115</td> <td>    6.035</td> <td> 0.000</td> <td>   37.071</td> <td>   72.944</td>\n",
       "</tr>\n",
       "<tr>\n",
       "  <th>Property_Area_Rural</th>     <td>   31.5122</td> <td>    4.704</td> <td>    6.699</td> <td> 0.000</td> <td>   22.256</td> <td>   40.768</td>\n",
       "</tr>\n",
       "<tr>\n",
       "  <th>Property_Area_Semiurban</th> <td>   33.2677</td> <td>    4.028</td> <td>    8.260</td> <td> 0.000</td> <td>   25.342</td> <td>   41.193</td>\n",
       "</tr>\n",
       "<tr>\n",
       "  <th>Property_Area_Urban</th>     <td>   21.1100</td> <td>    4.404</td> <td>    4.794</td> <td> 0.000</td> <td>   12.444</td> <td>   29.776</td>\n",
       "</tr>\n",
       "<tr>\n",
       "  <th>ApplicantIncome</th>         <td>  -58.6083</td> <td>   29.203</td> <td>   -2.007</td> <td> 0.046</td> <td> -116.073</td> <td>   -1.143</td>\n",
       "</tr>\n",
       "<tr>\n",
       "  <th>CoapplicantIncome</th>       <td>    2.2066</td> <td>    7.881</td> <td>    0.280</td> <td> 0.780</td> <td>  -13.302</td> <td>   17.716</td>\n",
       "</tr>\n",
       "<tr>\n",
       "  <th>LoanAmount</th>              <td>   40.6040</td> <td>   20.957</td> <td>    1.937</td> <td> 0.054</td> <td>   -0.636</td> <td>   81.844</td>\n",
       "</tr>\n",
       "</table>\n",
       "<table class=\"simpletable\">\n",
       "<tr>\n",
       "  <th>Omnibus:</th>       <td>177.023</td> <th>  Durbin-Watson:     </th> <td>   1.945</td> \n",
       "</tr>\n",
       "<tr>\n",
       "  <th>Prob(Omnibus):</th> <td> 0.000</td>  <th>  Jarque-Bera (JB):  </th> <td> 904.960</td> \n",
       "</tr>\n",
       "<tr>\n",
       "  <th>Skew:</th>          <td>-2.411</td>  <th>  Prob(JB):          </th> <td>3.09e-197</td>\n",
       "</tr>\n",
       "<tr>\n",
       "  <th>Kurtosis:</th>      <td> 9.712</td>  <th>  Cond. No.          </th> <td>5.61e+16</td> \n",
       "</tr>\n",
       "</table><br/><br/>Notes:<br/>[1] Standard Errors assume that the covariance matrix of the errors is correctly specified.<br/>[2] The smallest eigenvalue is 6.59e-31. This might indicate that there are<br/>strong multicollinearity problems or that the design matrix is singular."
      ],
      "text/plain": [
       "<class 'statsmodels.iolib.summary.Summary'>\n",
       "\"\"\"\n",
       "                            OLS Regression Results                            \n",
       "==============================================================================\n",
       "Dep. Variable:       Loan_Amount_Term   R-squared:                       0.057\n",
       "Model:                            OLS   Adj. R-squared:                  0.017\n",
       "Method:                 Least Squares   F-statistic:                     1.413\n",
       "Date:                Fri, 17 Mar 2023   Prob (F-statistic):              0.152\n",
       "Time:                        22:58:51   Log-Likelihood:                -1675.5\n",
       "No. Observations:                 318   AIC:                             3379.\n",
       "Df Residuals:                     304   BIC:                             3432.\n",
       "Df Model:                          13                                         \n",
       "Covariance Type:            nonrobust                                         \n",
       "===========================================================================================\n",
       "                              coef    std err          t      P>|t|      [0.025      0.975]\n",
       "-------------------------------------------------------------------------------------------\n",
       "const                      85.8900      5.565     15.434      0.000      74.939      96.841\n",
       "Gender_Female              44.2324      4.894      9.039      0.000      34.603      53.862\n",
       "Gender_Male                41.6576      4.992      8.345      0.000      31.834      51.481\n",
       "Married_No                 47.6593      4.247     11.222      0.000      39.302      56.016\n",
       "Married_Yes                38.2307      4.705      8.126      0.000      28.972      47.489\n",
       "Dependents_0               22.4556      4.550      4.935      0.000      13.502      31.409\n",
       "Dependents_1               16.0798      6.308      2.549      0.011       3.666      28.493\n",
       "Dependents_2               19.6964      5.952      3.309      0.001       7.984      31.408\n",
       "Dependents_3+              27.6582      7.880      3.510      0.001      12.152      43.164\n",
       "Education_Graduate         47.4340      4.533     10.464      0.000      38.514      56.354\n",
       "Education_Not Graduate     38.4560      4.178      9.205      0.000      30.235      46.677\n",
       "Self_Employed_No           41.2323      4.120     10.007      0.000      33.124      49.340\n",
       "Self_Employed_Yes          44.6577      5.777      7.730      0.000      33.289      56.027\n",
       "Credit_History_0.0         30.8822     11.481      2.690      0.008       8.289      53.475\n",
       "Credit_History_1.0         55.0078      9.115      6.035      0.000      37.071      72.944\n",
       "Property_Area_Rural        31.5122      4.704      6.699      0.000      22.256      40.768\n",
       "Property_Area_Semiurban    33.2677      4.028      8.260      0.000      25.342      41.193\n",
       "Property_Area_Urban        21.1100      4.404      4.794      0.000      12.444      29.776\n",
       "ApplicantIncome           -58.6083     29.203     -2.007      0.046    -116.073      -1.143\n",
       "CoapplicantIncome           2.2066      7.881      0.280      0.780     -13.302      17.716\n",
       "LoanAmount                 40.6040     20.957      1.937      0.054      -0.636      81.844\n",
       "==============================================================================\n",
       "Omnibus:                      177.023   Durbin-Watson:                   1.945\n",
       "Prob(Omnibus):                  0.000   Jarque-Bera (JB):              904.960\n",
       "Skew:                          -2.411   Prob(JB):                    3.09e-197\n",
       "Kurtosis:                       9.712   Cond. No.                     5.61e+16\n",
       "==============================================================================\n",
       "\n",
       "Notes:\n",
       "[1] Standard Errors assume that the covariance matrix of the errors is correctly specified.\n",
       "[2] The smallest eigenvalue is 6.59e-31. This might indicate that there are\n",
       "strong multicollinearity problems or that the design matrix is singular.\n",
       "\"\"\""
      ]
     },
     "execution_count": 45,
     "metadata": {},
     "output_type": "execute_result"
    }
   ],
   "source": [
    "x_const=add_constant(xtrain)\n",
    "ols=OLS(ytrain,x_const).fit()\n",
    "ols.summary()"
   ]
  },
  {
   "cell_type": "markdown",
   "id": "28c8501f",
   "metadata": {},
   "source": [
    "# As adjusted R square score is very low 0.01, this is not good model for linear regression"
   ]
  },
  {
   "cell_type": "markdown",
   "id": "a40c86a0",
   "metadata": {},
   "source": [
    "# Function for calculating mean_squared_error of the model"
   ]
  },
  {
   "cell_type": "code",
   "execution_count": 46,
   "id": "921247aa",
   "metadata": {},
   "outputs": [],
   "source": [
    "def error(obj):\n",
    "    \n",
    "    model = obj.fit(xtrain,ytrain)\n",
    "    \n",
    "    tr_pred = model.predict(xtrain)\n",
    "    ts_pred= model.predict(xtest)\n",
    "    \n",
    "    from sklearn.metrics import mean_squared_error\n",
    "    tr_err = mean_squared_error(ytrain, tr_pred)\n",
    "    ts_err = mean_squared_error(ytest, ts_pred)\n",
    "    ge= tr_err-ts_err\n",
    "    \n",
    "    return tr_err,ts_err,ge"
   ]
  },
  {
   "cell_type": "markdown",
   "id": "d2b5b323",
   "metadata": {},
   "source": [
    "# K-Nearest neighbour"
   ]
  },
  {
   "cell_type": "code",
   "execution_count": 47,
   "id": "51610bd6",
   "metadata": {},
   "outputs": [],
   "source": [
    "from sklearn.neighbors import KNeighborsRegressor\n"
   ]
  },
  {
   "cell_type": "code",
   "execution_count": 48,
   "id": "9ae891ab",
   "metadata": {},
   "outputs": [
    {
     "name": "stdout",
     "output_type": "stream",
     "text": [
      "2 (1042.5566037735848, 3662.1, -2619.543396226415)\n",
      "3 (1565.874213836478, 2952.3, -1386.4257861635222)\n",
      "4 (1743.367924528302, 2831.00625, -1087.638325471698)\n",
      "5 (1837.897358490566, 2780.5860000000002, -942.6886415094343)\n",
      "6 (1885.8364779874214, 2494.0625, -608.2260220125786)\n",
      "7 (1968.612244897959, 2495.2224489795917, -526.6102040816327)\n",
      "8 (2015.0748820754718, 2565.52734375, -550.4524616745282)\n",
      "9 (2056.2208245981833, 2577.7611111111114, -521.5402865129281)\n",
      "10 (2109.592075471698, 2536.9559999999997, -427.3639245283016)\n",
      "11 (2135.3993450803055, 2546.6838842975203, -411.28453921721484)\n"
     ]
    }
   ],
   "source": [
    "for i in range(2,12,1):\n",
    "    knr = KNeighborsRegressor(n_neighbors=i,n_jobs=500)\n",
    "    print(i,error(knr))"
   ]
  },
  {
   "cell_type": "markdown",
   "id": "5fed31b6",
   "metadata": {},
   "source": [
    "# Decision Tree Regression"
   ]
  },
  {
   "cell_type": "code",
   "execution_count": 49,
   "id": "761ec63a",
   "metadata": {},
   "outputs": [],
   "source": [
    "from sklearn.tree import DecisionTreeRegressor\n",
    "dtr_1 = DecisionTreeRegressor(random_state=42)"
   ]
  },
  {
   "cell_type": "code",
   "execution_count": 50,
   "id": "8f5fe4ec",
   "metadata": {},
   "outputs": [
    {
     "data": {
      "text/plain": [
       "(0.0, 5286.15, -5286.15)"
      ]
     },
     "execution_count": 50,
     "metadata": {},
     "output_type": "execute_result"
    }
   ],
   "source": [
    "error(dtr_1)"
   ]
  },
  {
   "cell_type": "markdown",
   "id": "19a6037f",
   "metadata": {},
   "source": [
    "# Tuning the decision tree model for best parameters"
   ]
  },
  {
   "cell_type": "code",
   "execution_count": 51,
   "id": "4cf4a0ba",
   "metadata": {},
   "outputs": [
    {
     "name": "stdout",
     "output_type": "stream",
     "text": [
      "2 (2080.946949277138, 3301.5735089180293, -1220.6265596408912)\n",
      "3 (1907.5787530963328, 4254.7767287522765, -2347.197975655944)\n",
      "4 (1836.4852216304052, 4260.064613344474, -2423.579391714069)\n",
      "5 (1683.2551196016432, 4240.610497850492, -2557.355378248849)\n",
      "6 (1404.9678640458546, 4474.992727274497, -3070.0248632286425)\n",
      "7 (1021.5122198679358, 4782.435345221111, -3760.9231253531752)\n",
      "8 (782.3035966130307, 4710.0096283165085, -3927.706031703478)\n",
      "9 (363.83796863513845, 4461.92296850623, -4098.084999871092)\n",
      "10 (298.78204793786045, 5028.064790874727, -4729.282742936866)\n",
      "11 (191.44493646515207, 4990.91563103915, -4799.470694573998)\n",
      "12 (61.33267130089374, 5251.916914819945, -5190.584243519052)\n",
      "13 (51.13251942286349, 4990.725217993079, -4939.592698570215)\n",
      "14 (36.735849056603776, 4965.3, -4928.564150943396)\n",
      "15 (0.0, 5286.15, -5286.15)\n",
      "16 (0.0, 5286.15, -5286.15)\n",
      "17 (0.0, 5286.15, -5286.15)\n",
      "18 (0.0, 5286.15, -5286.15)\n",
      "19 (0.0, 5286.15, -5286.15)\n"
     ]
    }
   ],
   "source": [
    "for i in range(2,20,1):\n",
    "    dtr_3=DecisionTreeRegressor(max_depth=i,random_state=42)\n",
    "    print(i,error(dtr_3))"
   ]
  },
  {
   "cell_type": "code",
   "execution_count": 52,
   "id": "c7adc6f1",
   "metadata": {},
   "outputs": [
    {
     "name": "stdout",
     "output_type": "stream",
     "text": [
      "2 (0.0, 5286.15, -5286.15)\n",
      "3 (26.433962264150942, 4928.175, -4901.741037735849)\n",
      "4 (125.39622641509433, 5711.075, -5585.678773584906)\n",
      "5 (461.89622641509436, 4344.425, -3882.528773584906)\n",
      "6 (468.4509433962264, 4465.367, -3996.9160566037735)\n",
      "7 (664.6773584905659, 3387.8669999999997, -2723.189641509434)\n",
      "8 (786.8444743935311, 3441.977204081633, -2655.132729688102)\n",
      "9 (998.4812668463612, 3469.820954081633, -2471.3396872352714)\n"
     ]
    }
   ],
   "source": [
    "for i in range(2,10):\n",
    "    dtr_4=DecisionTreeRegressor(min_samples_split=i,random_state=42)\n",
    "    print(i,error(dtr_4))"
   ]
  },
  {
   "cell_type": "code",
   "execution_count": 53,
   "id": "e9298d62",
   "metadata": {},
   "outputs": [
    {
     "name": "stdout",
     "output_type": "stream",
     "text": [
      "2 (2254.4611756168365, 2735.5465144230775, -481.085338806241)\n",
      "3 (2160.1215529753267, 2991.7965144230775, -831.6749614477508)\n",
      "4 (2080.946949277138, 3301.5735089180293, -1220.6265596408912)\n",
      "5 (1979.060156824308, 4212.823508918029, -2233.7633520937206)\n",
      "6 (1918.899507813314, 4221.0267287522765, -2302.1272209389626)\n",
      "7 (1874.472431369042, 4188.920763134252, -2314.4483317652102)\n",
      "8 (1787.095044590733, 4202.294366802807, -2415.1993222120745)\n",
      "9 (1722.903042950044, 4195.597141850066, -2472.694098900022)\n",
      "10 (1654.1973825726855, 4208.755141850066, -2554.5577592773807)\n",
      "11 (1590.6737976670252, 4208.755141850066, -2618.081344183041)\n",
      "12 (1519.2681372896668, 4208.755141850066, -2689.4870045603993)\n",
      "13 (1475.1004637140556, 4317.255712113843, -2842.1552483997875)\n",
      "14 (1414.4535634445137, 4667.383263134251, -3252.9296996897374)\n",
      "15 (1387.787108422858, 4704.777113344475, -3316.9900049216167)\n",
      "16 (1361.5148712260927, 4811.564868446515, -3450.0499972204225)\n",
      "17 (1300.8679709565508, 4789.753643956719, -3488.8856730001685)\n",
      "18 (1215.9623105791925, 5183.503643956719, -3967.541333377527)\n",
      "19 (1192.8350378519197, 5186.488288584818, -3993.6532507328984)\n"
     ]
    }
   ],
   "source": [
    "for i in range(2,20):\n",
    "    dtr_5=DecisionTreeRegressor(max_leaf_nodes=i,random_state=42)\n",
    "    print(i,error(dtr_5))"
   ]
  },
  {
   "cell_type": "markdown",
   "id": "db7cd681",
   "metadata": {},
   "source": [
    "# Randoam forest Regressor"
   ]
  },
  {
   "cell_type": "code",
   "execution_count": 54,
   "id": "f1295eda",
   "metadata": {},
   "outputs": [],
   "source": [
    "from sklearn.ensemble import RandomForestRegressor\n",
    "rfr=RandomForestRegressor(n_estimators=200,random_state=42)"
   ]
  },
  {
   "cell_type": "code",
   "execution_count": 55,
   "id": "42b5b61e",
   "metadata": {},
   "outputs": [
    {
     "name": "stdout",
     "output_type": "stream",
     "text": [
      "2 (2014.0080402564329, 2674.368659150506, -660.3606188940732)\n",
      "3 (1811.2901585302807, 2739.1538002413477, -927.863641711067)\n",
      "4 (1588.4627854299338, 2774.589577229041, -1186.1267917991072)\n",
      "5 (1333.5975837123246, 2840.856150179813, -1507.2585664674884)\n",
      "6 (1053.637781673738, 2928.9639980290603, -1875.3262163553225)\n",
      "7 (822.0174927905939, 2976.728874250646, -2154.7113814600525)\n",
      "8 (645.1791366807573, 3069.571742975915, -2424.3926062951577)\n",
      "9 (512.641318450236, 3106.8474871680396, -2594.206168717804)\n"
     ]
    }
   ],
   "source": [
    "for i in range(2,10,1):\n",
    "    rfr=RandomForestRegressor(n_estimators=200,random_state=42,max_depth=i)\n",
    "    print(i,error(rfr))"
   ]
  },
  {
   "cell_type": "code",
   "execution_count": 56,
   "id": "23305b8b",
   "metadata": {},
   "outputs": [
    {
     "name": "stdout",
     "output_type": "stream",
     "text": [
      "2 (2200.117413392547, 2652.5120512957355, -452.3946379031886)\n",
      "3 (2077.303313599495, 2667.25027078548, -589.946957185985)\n",
      "4 (1973.288464789661, 2659.2222101411544, -685.9337453514934)\n",
      "5 (1874.3723624255845, 2685.307032830785, -810.9346704052004)\n",
      "6 (1774.3992282095203, 2710.132830114885, -935.7336019053648)\n",
      "7 (1676.2506319329307, 2740.7437476079963, -1064.4931156750656)\n",
      "8 (1588.4465229016455, 2757.3401025396474, -1168.893579638002)\n",
      "9 (1498.3688591596313, 2774.2923434596837, -1275.9234843000525)\n"
     ]
    }
   ],
   "source": [
    "for i in range(2,10,1):\n",
    "    rfr=RandomForestRegressor(n_estimators=200,random_state=42,max_leaf_nodes=i)\n",
    "    print(i,error(rfr))"
   ]
  },
  {
   "cell_type": "markdown",
   "id": "aa6d498c",
   "metadata": {},
   "source": [
    "# Adaboost Regressor"
   ]
  },
  {
   "cell_type": "code",
   "execution_count": 57,
   "id": "27ffdbb0",
   "metadata": {},
   "outputs": [],
   "source": [
    "from sklearn.ensemble import AdaBoostRegressor\n",
    "abr=AdaBoostRegressor(base_estimator=DecisionTreeRegressor(max_depth=2,random_state=42),n_estimators=500,random_state=42)"
   ]
  },
  {
   "cell_type": "code",
   "execution_count": 58,
   "id": "4f32c115",
   "metadata": {},
   "outputs": [
    {
     "data": {
      "text/plain": [
       "(2324.1509054489384, 2847.263993215117, -523.1130877661785)"
      ]
     },
     "execution_count": 58,
     "metadata": {},
     "output_type": "execute_result"
    }
   ],
   "source": [
    "error(abr)"
   ]
  },
  {
   "cell_type": "code",
   "execution_count": 59,
   "id": "41d58f5e",
   "metadata": {},
   "outputs": [
    {
     "data": {
      "text/plain": [
       "(2312.190563052425, 3038.8933131161502, -726.702750063725)"
      ]
     },
     "execution_count": 59,
     "metadata": {},
     "output_type": "execute_result"
    }
   ],
   "source": [
    "abr_1=AdaBoostRegressor(base_estimator=DecisionTreeRegressor(max_leaf_nodes=2,random_state=42),n_estimators=500,random_state=42)\n",
    "error(abr_1)"
   ]
  },
  {
   "cell_type": "code",
   "execution_count": 60,
   "id": "6a61f292",
   "metadata": {},
   "outputs": [
    {
     "data": {
      "text/plain": [
       "(2427.062664605999, 2768.7053892063313, -341.64272460033226)"
      ]
     },
     "execution_count": 60,
     "metadata": {},
     "output_type": "execute_result"
    }
   ],
   "source": [
    "abr_2=AdaBoostRegressor(base_estimator=RandomForestRegressor(max_depth=2,random_state=42),n_estimators=500,random_state=42)\n",
    "error(abr_2)"
   ]
  },
  {
   "cell_type": "code",
   "execution_count": 61,
   "id": "13041ad3",
   "metadata": {},
   "outputs": [
    {
     "data": {
      "text/plain": [
       "(2826.9150619883576, 2954.556701386046, -127.64163939768832)"
      ]
     },
     "execution_count": 61,
     "metadata": {},
     "output_type": "execute_result"
    }
   ],
   "source": [
    "abr_3=AdaBoostRegressor(base_estimator=RandomForestRegressor(max_leaf_nodes=2,random_state=42),n_estimators=500,random_state=42)\n",
    "error(abr_3)"
   ]
  },
  {
   "cell_type": "markdown",
   "id": "e0000817",
   "metadata": {},
   "source": [
    "# Selecting Best Model"
   ]
  },
  {
   "cell_type": "markdown",
   "id": "bd1ff02e",
   "metadata": {},
   "source": [
    "By comparing errors of different models, it seems Random forest with max leaf nodes =2 with Adaboostregressor gives best traing and testing accuracy score"
   ]
  },
  {
   "cell_type": "code",
   "execution_count": 62,
   "id": "43f33d7f",
   "metadata": {},
   "outputs": [],
   "source": [
    "final_model=abr_3.fit(Xnew,Y)"
   ]
  },
  {
   "cell_type": "code",
   "execution_count": 63,
   "id": "03eb3b9b",
   "metadata": {},
   "outputs": [
    {
     "data": {
      "text/plain": [
       "-0.10640197750675173"
      ]
     },
     "execution_count": 63,
     "metadata": {},
     "output_type": "execute_result"
    }
   ],
   "source": [
    "final_model.score(Xnew,Y)"
   ]
  },
  {
   "cell_type": "markdown",
   "id": "5f5beeb9",
   "metadata": {},
   "source": [
    "# Deleting the unwanted columns form testing data set"
   ]
  },
  {
   "cell_type": "code",
   "execution_count": 64,
   "id": "4bdda30d",
   "metadata": {},
   "outputs": [],
   "source": [
    "pred = list(final_model.predict(Xnew))"
   ]
  },
  {
   "cell_type": "code",
   "execution_count": 65,
   "id": "bf3418d3",
   "metadata": {},
   "outputs": [],
   "source": [
    "predcition_model=Y"
   ]
  },
  {
   "cell_type": "code",
   "execution_count": 66,
   "id": "0803cd5f",
   "metadata": {},
   "outputs": [],
   "source": [
    "predcition_model[\"Predicted Term\"]=pred"
   ]
  },
  {
   "cell_type": "code",
   "execution_count": 67,
   "id": "6d9db122",
   "metadata": {},
   "outputs": [
    {
     "data": {
      "text/html": [
       "<div>\n",
       "<style scoped>\n",
       "    .dataframe tbody tr th:only-of-type {\n",
       "        vertical-align: middle;\n",
       "    }\n",
       "\n",
       "    .dataframe tbody tr th {\n",
       "        vertical-align: top;\n",
       "    }\n",
       "\n",
       "    .dataframe thead th {\n",
       "        text-align: right;\n",
       "    }\n",
       "</style>\n",
       "<table border=\"1\" class=\"dataframe\">\n",
       "  <thead>\n",
       "    <tr style=\"text-align: right;\">\n",
       "      <th></th>\n",
       "      <th>Loan_Amount_Term</th>\n",
       "      <th>Predicted Term</th>\n",
       "    </tr>\n",
       "  </thead>\n",
       "  <tbody>\n",
       "    <tr>\n",
       "      <th>0</th>\n",
       "      <td>360.0</td>\n",
       "      <td>323.308049</td>\n",
       "    </tr>\n",
       "    <tr>\n",
       "      <th>1</th>\n",
       "      <td>360.0</td>\n",
       "      <td>325.751134</td>\n",
       "    </tr>\n",
       "    <tr>\n",
       "      <th>2</th>\n",
       "      <td>360.0</td>\n",
       "      <td>333.758365</td>\n",
       "    </tr>\n",
       "    <tr>\n",
       "      <th>3</th>\n",
       "      <td>360.0</td>\n",
       "      <td>323.308049</td>\n",
       "    </tr>\n",
       "    <tr>\n",
       "      <th>4</th>\n",
       "      <td>360.0</td>\n",
       "      <td>323.308049</td>\n",
       "    </tr>\n",
       "    <tr>\n",
       "      <th>...</th>\n",
       "      <td>...</td>\n",
       "      <td>...</td>\n",
       "    </tr>\n",
       "    <tr>\n",
       "      <th>393</th>\n",
       "      <td>360.0</td>\n",
       "      <td>327.090988</td>\n",
       "    </tr>\n",
       "    <tr>\n",
       "      <th>394</th>\n",
       "      <td>360.0</td>\n",
       "      <td>336.132738</td>\n",
       "    </tr>\n",
       "    <tr>\n",
       "      <th>395</th>\n",
       "      <td>180.0</td>\n",
       "      <td>289.587605</td>\n",
       "    </tr>\n",
       "    <tr>\n",
       "      <th>396</th>\n",
       "      <td>360.0</td>\n",
       "      <td>322.644842</td>\n",
       "    </tr>\n",
       "    <tr>\n",
       "      <th>397</th>\n",
       "      <td>360.0</td>\n",
       "      <td>322.644842</td>\n",
       "    </tr>\n",
       "  </tbody>\n",
       "</table>\n",
       "<p>398 rows × 2 columns</p>\n",
       "</div>"
      ],
      "text/plain": [
       "     Loan_Amount_Term  Predicted Term\n",
       "0               360.0      323.308049\n",
       "1               360.0      325.751134\n",
       "2               360.0      333.758365\n",
       "3               360.0      323.308049\n",
       "4               360.0      323.308049\n",
       "..                ...             ...\n",
       "393             360.0      327.090988\n",
       "394             360.0      336.132738\n",
       "395             180.0      289.587605\n",
       "396             360.0      322.644842\n",
       "397             360.0      322.644842\n",
       "\n",
       "[398 rows x 2 columns]"
      ]
     },
     "execution_count": 67,
     "metadata": {},
     "output_type": "execute_result"
    }
   ],
   "source": [
    "predcition_model"
   ]
  },
  {
   "cell_type": "code",
   "execution_count": 68,
   "id": "b1552a3d",
   "metadata": {},
   "outputs": [],
   "source": [
    "drop_col = []\n",
    "for i in Xnew_no.columns:\n",
    "    if (i not in Xnew.columns):\n",
    "        drop_col.append(i)    "
   ]
  },
  {
   "cell_type": "code",
   "execution_count": 69,
   "id": "a1d11b5d",
   "metadata": {},
   "outputs": [
    {
     "data": {
      "text/plain": [
       "[]"
      ]
     },
     "execution_count": 69,
     "metadata": {},
     "output_type": "execute_result"
    }
   ],
   "source": [
    "drop_col"
   ]
  },
  {
   "cell_type": "code",
   "execution_count": 70,
   "id": "35d16201",
   "metadata": {},
   "outputs": [
    {
     "data": {
      "text/plain": [
       "[]"
      ]
     },
     "execution_count": 70,
     "metadata": {},
     "output_type": "execute_result"
    }
   ],
   "source": [
    "add_col = []\n",
    "for i in Xnew.columns:\n",
    "    if (i not in Xnew_no.columns):\n",
    "        add_col.append(i)    \n",
    "add_col"
   ]
  },
  {
   "cell_type": "code",
   "execution_count": 71,
   "id": "f0f5a6b4",
   "metadata": {},
   "outputs": [],
   "source": [
    "pred_no=list(final_model.predict(Xnew_no))"
   ]
  },
  {
   "cell_type": "code",
   "execution_count": 72,
   "id": "4ebe6e6c",
   "metadata": {},
   "outputs": [],
   "source": [
    "Prediction_for_NO = tr_E_no"
   ]
  },
  {
   "cell_type": "code",
   "execution_count": 73,
   "id": "d4a86c18",
   "metadata": {},
   "outputs": [
    {
     "data": {
      "text/html": [
       "<div>\n",
       "<style scoped>\n",
       "    .dataframe tbody tr th:only-of-type {\n",
       "        vertical-align: middle;\n",
       "    }\n",
       "\n",
       "    .dataframe tbody tr th {\n",
       "        vertical-align: top;\n",
       "    }\n",
       "\n",
       "    .dataframe thead th {\n",
       "        text-align: right;\n",
       "    }\n",
       "</style>\n",
       "<table border=\"1\" class=\"dataframe\">\n",
       "  <thead>\n",
       "    <tr style=\"text-align: right;\">\n",
       "      <th></th>\n",
       "      <th>Gender</th>\n",
       "      <th>Married</th>\n",
       "      <th>Dependents</th>\n",
       "      <th>Education</th>\n",
       "      <th>Self_Employed</th>\n",
       "      <th>ApplicantIncome</th>\n",
       "      <th>CoapplicantIncome</th>\n",
       "      <th>LoanAmount</th>\n",
       "      <th>Loan_Amount_Term</th>\n",
       "      <th>Credit_History</th>\n",
       "      <th>Property_Area</th>\n",
       "      <th>Loan_Status</th>\n",
       "      <th>predicted loan Term</th>\n",
       "    </tr>\n",
       "  </thead>\n",
       "  <tbody>\n",
       "    <tr>\n",
       "      <th>0</th>\n",
       "      <td>Male</td>\n",
       "      <td>Yes</td>\n",
       "      <td>0</td>\n",
       "      <td>Graduate</td>\n",
       "      <td>No</td>\n",
       "      <td>7.510978</td>\n",
       "      <td>7.192934</td>\n",
       "      <td>4.605170</td>\n",
       "      <td>342.0</td>\n",
       "      <td>0.0</td>\n",
       "      <td>Urban</td>\n",
       "      <td>N</td>\n",
       "      <td>355.769790</td>\n",
       "    </tr>\n",
       "    <tr>\n",
       "      <th>1</th>\n",
       "      <td>Male</td>\n",
       "      <td>Yes</td>\n",
       "      <td>0</td>\n",
       "      <td>Not Graduate</td>\n",
       "      <td>Yes</td>\n",
       "      <td>7.866722</td>\n",
       "      <td>8.145840</td>\n",
       "      <td>5.105945</td>\n",
       "      <td>180.0</td>\n",
       "      <td>0.0</td>\n",
       "      <td>Rural</td>\n",
       "      <td>N</td>\n",
       "      <td>334.644693</td>\n",
       "    </tr>\n",
       "    <tr>\n",
       "      <th>2</th>\n",
       "      <td>Male</td>\n",
       "      <td>No</td>\n",
       "      <td>0</td>\n",
       "      <td>Not Graduate</td>\n",
       "      <td>No</td>\n",
       "      <td>8.070906</td>\n",
       "      <td>7.720462</td>\n",
       "      <td>4.836282</td>\n",
       "      <td>180.0</td>\n",
       "      <td>0.0</td>\n",
       "      <td>Urban</td>\n",
       "      <td>N</td>\n",
       "      <td>324.263089</td>\n",
       "    </tr>\n",
       "    <tr>\n",
       "      <th>3</th>\n",
       "      <td>Male</td>\n",
       "      <td>Yes</td>\n",
       "      <td>3+</td>\n",
       "      <td>Not Graduate</td>\n",
       "      <td>No</td>\n",
       "      <td>8.466952</td>\n",
       "      <td>-2.302585</td>\n",
       "      <td>4.553877</td>\n",
       "      <td>342.0</td>\n",
       "      <td>0.0</td>\n",
       "      <td>Semiurban</td>\n",
       "      <td>N</td>\n",
       "      <td>323.308049</td>\n",
       "    </tr>\n",
       "    <tr>\n",
       "      <th>4</th>\n",
       "      <td>Male</td>\n",
       "      <td>Yes</td>\n",
       "      <td>3+</td>\n",
       "      <td>Graduate</td>\n",
       "      <td>No</td>\n",
       "      <td>8.060540</td>\n",
       "      <td>8.294050</td>\n",
       "      <td>5.192957</td>\n",
       "      <td>300.0</td>\n",
       "      <td>0.0</td>\n",
       "      <td>Semiurban</td>\n",
       "      <td>N</td>\n",
       "      <td>328.711885</td>\n",
       "    </tr>\n",
       "    <tr>\n",
       "      <th>5</th>\n",
       "      <td>Male</td>\n",
       "      <td>Yes</td>\n",
       "      <td>0</td>\n",
       "      <td>Not Graduate</td>\n",
       "      <td>No</td>\n",
       "      <td>8.180881</td>\n",
       "      <td>8.322151</td>\n",
       "      <td>5.023881</td>\n",
       "      <td>342.0</td>\n",
       "      <td>0.0</td>\n",
       "      <td>Rural</td>\n",
       "      <td>N</td>\n",
       "      <td>323.308049</td>\n",
       "    </tr>\n",
       "    <tr>\n",
       "      <th>6</th>\n",
       "      <td>Male</td>\n",
       "      <td>Yes</td>\n",
       "      <td>1</td>\n",
       "      <td>Graduate</td>\n",
       "      <td>Yes</td>\n",
       "      <td>9.260368</td>\n",
       "      <td>8.255828</td>\n",
       "      <td>5.075174</td>\n",
       "      <td>180.0</td>\n",
       "      <td>0.0</td>\n",
       "      <td>Urban</td>\n",
       "      <td>N</td>\n",
       "      <td>322.644842</td>\n",
       "    </tr>\n",
       "    <tr>\n",
       "      <th>7</th>\n",
       "      <td>Male</td>\n",
       "      <td>Yes</td>\n",
       "      <td>3+</td>\n",
       "      <td>Not Graduate</td>\n",
       "      <td>No</td>\n",
       "      <td>8.166784</td>\n",
       "      <td>-2.302585</td>\n",
       "      <td>4.394449</td>\n",
       "      <td>180.0</td>\n",
       "      <td>1.0</td>\n",
       "      <td>Rural</td>\n",
       "      <td>N</td>\n",
       "      <td>320.155030</td>\n",
       "    </tr>\n",
       "    <tr>\n",
       "      <th>8</th>\n",
       "      <td>Male</td>\n",
       "      <td>Yes</td>\n",
       "      <td>1</td>\n",
       "      <td>Graduate</td>\n",
       "      <td>Yes</td>\n",
       "      <td>7.686162</td>\n",
       "      <td>-2.302585</td>\n",
       "      <td>4.189655</td>\n",
       "      <td>300.0</td>\n",
       "      <td>0.0</td>\n",
       "      <td>Rural</td>\n",
       "      <td>N</td>\n",
       "      <td>338.746630</td>\n",
       "    </tr>\n",
       "    <tr>\n",
       "      <th>9</th>\n",
       "      <td>Male</td>\n",
       "      <td>Yes</td>\n",
       "      <td>3+</td>\n",
       "      <td>Not Graduate</td>\n",
       "      <td>No</td>\n",
       "      <td>8.292048</td>\n",
       "      <td>-2.302585</td>\n",
       "      <td>4.986426</td>\n",
       "      <td>180.0</td>\n",
       "      <td>1.0</td>\n",
       "      <td>Urban</td>\n",
       "      <td>N</td>\n",
       "      <td>323.308049</td>\n",
       "    </tr>\n",
       "    <tr>\n",
       "      <th>10</th>\n",
       "      <td>Male</td>\n",
       "      <td>Yes</td>\n",
       "      <td>1</td>\n",
       "      <td>Not Graduate</td>\n",
       "      <td>No</td>\n",
       "      <td>7.828038</td>\n",
       "      <td>7.592366</td>\n",
       "      <td>4.941642</td>\n",
       "      <td>180.0</td>\n",
       "      <td>1.0</td>\n",
       "      <td>Urban</td>\n",
       "      <td>N</td>\n",
       "      <td>333.758365</td>\n",
       "    </tr>\n",
       "    <tr>\n",
       "      <th>11</th>\n",
       "      <td>Male</td>\n",
       "      <td>No</td>\n",
       "      <td>0</td>\n",
       "      <td>Graduate</td>\n",
       "      <td>Yes</td>\n",
       "      <td>8.707814</td>\n",
       "      <td>8.374015</td>\n",
       "      <td>4.787492</td>\n",
       "      <td>180.0</td>\n",
       "      <td>1.0</td>\n",
       "      <td>Urban</td>\n",
       "      <td>N</td>\n",
       "      <td>323.308049</td>\n",
       "    </tr>\n",
       "    <tr>\n",
       "      <th>12</th>\n",
       "      <td>Female</td>\n",
       "      <td>No</td>\n",
       "      <td>0</td>\n",
       "      <td>Graduate</td>\n",
       "      <td>Yes</td>\n",
       "      <td>7.863267</td>\n",
       "      <td>7.448334</td>\n",
       "      <td>4.595120</td>\n",
       "      <td>300.0</td>\n",
       "      <td>1.0</td>\n",
       "      <td>Semiurban</td>\n",
       "      <td>N</td>\n",
       "      <td>338.207161</td>\n",
       "    </tr>\n",
       "    <tr>\n",
       "      <th>13</th>\n",
       "      <td>Male</td>\n",
       "      <td>No</td>\n",
       "      <td>0</td>\n",
       "      <td>Graduate</td>\n",
       "      <td>No</td>\n",
       "      <td>8.541691</td>\n",
       "      <td>-2.302585</td>\n",
       "      <td>4.820282</td>\n",
       "      <td>342.0</td>\n",
       "      <td>0.0</td>\n",
       "      <td>Rural</td>\n",
       "      <td>N</td>\n",
       "      <td>323.308049</td>\n",
       "    </tr>\n",
       "    <tr>\n",
       "      <th>14</th>\n",
       "      <td>Male</td>\n",
       "      <td>No</td>\n",
       "      <td>1</td>\n",
       "      <td>Graduate</td>\n",
       "      <td>No</td>\n",
       "      <td>8.026824</td>\n",
       "      <td>7.594381</td>\n",
       "      <td>4.709530</td>\n",
       "      <td>180.0</td>\n",
       "      <td>0.0</td>\n",
       "      <td>Urban</td>\n",
       "      <td>N</td>\n",
       "      <td>326.204660</td>\n",
       "    </tr>\n",
       "    <tr>\n",
       "      <th>15</th>\n",
       "      <td>Male</td>\n",
       "      <td>Yes</td>\n",
       "      <td>2</td>\n",
       "      <td>Not Graduate</td>\n",
       "      <td>No</td>\n",
       "      <td>7.968666</td>\n",
       "      <td>-2.302585</td>\n",
       "      <td>3.806662</td>\n",
       "      <td>180.0</td>\n",
       "      <td>0.0</td>\n",
       "      <td>Urban</td>\n",
       "      <td>N</td>\n",
       "      <td>333.304839</td>\n",
       "    </tr>\n",
       "    <tr>\n",
       "      <th>16</th>\n",
       "      <td>Male</td>\n",
       "      <td>No</td>\n",
       "      <td>0</td>\n",
       "      <td>Not Graduate</td>\n",
       "      <td>No</td>\n",
       "      <td>7.921173</td>\n",
       "      <td>-2.302585</td>\n",
       "      <td>4.174387</td>\n",
       "      <td>300.0</td>\n",
       "      <td>1.0</td>\n",
       "      <td>Rural</td>\n",
       "      <td>N</td>\n",
       "      <td>334.191167</td>\n",
       "    </tr>\n",
       "    <tr>\n",
       "      <th>17</th>\n",
       "      <td>Male</td>\n",
       "      <td>Yes</td>\n",
       "      <td>1</td>\n",
       "      <td>Graduate</td>\n",
       "      <td>No</td>\n",
       "      <td>9.024011</td>\n",
       "      <td>-2.302585</td>\n",
       "      <td>5.023881</td>\n",
       "      <td>300.0</td>\n",
       "      <td>0.0</td>\n",
       "      <td>Semiurban</td>\n",
       "      <td>N</td>\n",
       "      <td>322.644842</td>\n",
       "    </tr>\n",
       "    <tr>\n",
       "      <th>18</th>\n",
       "      <td>Female</td>\n",
       "      <td>No</td>\n",
       "      <td>0</td>\n",
       "      <td>Not Graduate</td>\n",
       "      <td>No</td>\n",
       "      <td>7.908387</td>\n",
       "      <td>-2.302585</td>\n",
       "      <td>4.382027</td>\n",
       "      <td>342.0</td>\n",
       "      <td>0.0</td>\n",
       "      <td>Urban</td>\n",
       "      <td>N</td>\n",
       "      <td>333.304839</td>\n",
       "    </tr>\n",
       "    <tr>\n",
       "      <th>19</th>\n",
       "      <td>Male</td>\n",
       "      <td>Yes</td>\n",
       "      <td>1</td>\n",
       "      <td>Graduate</td>\n",
       "      <td>No</td>\n",
       "      <td>8.888757</td>\n",
       "      <td>7.418781</td>\n",
       "      <td>4.700480</td>\n",
       "      <td>342.0</td>\n",
       "      <td>0.0</td>\n",
       "      <td>Urban</td>\n",
       "      <td>N</td>\n",
       "      <td>322.644842</td>\n",
       "    </tr>\n",
       "    <tr>\n",
       "      <th>20</th>\n",
       "      <td>Male</td>\n",
       "      <td>Yes</td>\n",
       "      <td>3+</td>\n",
       "      <td>Not Graduate</td>\n",
       "      <td>No</td>\n",
       "      <td>7.988543</td>\n",
       "      <td>7.416980</td>\n",
       "      <td>4.248495</td>\n",
       "      <td>180.0</td>\n",
       "      <td>0.0</td>\n",
       "      <td>Urban</td>\n",
       "      <td>N</td>\n",
       "      <td>333.758365</td>\n",
       "    </tr>\n",
       "    <tr>\n",
       "      <th>21</th>\n",
       "      <td>Male</td>\n",
       "      <td>Yes</td>\n",
       "      <td>1</td>\n",
       "      <td>Not Graduate</td>\n",
       "      <td>No</td>\n",
       "      <td>7.883446</td>\n",
       "      <td>7.313220</td>\n",
       "      <td>4.727388</td>\n",
       "      <td>180.0</td>\n",
       "      <td>0.0</td>\n",
       "      <td>Rural</td>\n",
       "      <td>N</td>\n",
       "      <td>334.191167</td>\n",
       "    </tr>\n",
       "    <tr>\n",
       "      <th>22</th>\n",
       "      <td>Male</td>\n",
       "      <td>Yes</td>\n",
       "      <td>0</td>\n",
       "      <td>Graduate</td>\n",
       "      <td>No</td>\n",
       "      <td>7.663877</td>\n",
       "      <td>8.804775</td>\n",
       "      <td>4.248495</td>\n",
       "      <td>180.0</td>\n",
       "      <td>1.0</td>\n",
       "      <td>Semiurban</td>\n",
       "      <td>N</td>\n",
       "      <td>337.227798</td>\n",
       "    </tr>\n",
       "    <tr>\n",
       "      <th>23</th>\n",
       "      <td>Male</td>\n",
       "      <td>Yes</td>\n",
       "      <td>0</td>\n",
       "      <td>Graduate</td>\n",
       "      <td>No</td>\n",
       "      <td>8.186743</td>\n",
       "      <td>8.358432</td>\n",
       "      <td>4.882802</td>\n",
       "      <td>180.0</td>\n",
       "      <td>0.0</td>\n",
       "      <td>Rural</td>\n",
       "      <td>N</td>\n",
       "      <td>323.308049</td>\n",
       "    </tr>\n",
       "    <tr>\n",
       "      <th>24</th>\n",
       "      <td>Male</td>\n",
       "      <td>Yes</td>\n",
       "      <td>2</td>\n",
       "      <td>Graduate</td>\n",
       "      <td>Yes</td>\n",
       "      <td>8.699515</td>\n",
       "      <td>-2.302585</td>\n",
       "      <td>5.323010</td>\n",
       "      <td>240.0</td>\n",
       "      <td>1.0</td>\n",
       "      <td>Semiurban</td>\n",
       "      <td>N</td>\n",
       "      <td>323.308049</td>\n",
       "    </tr>\n",
       "    <tr>\n",
       "      <th>25</th>\n",
       "      <td>Male</td>\n",
       "      <td>Yes</td>\n",
       "      <td>0</td>\n",
       "      <td>Not Graduate</td>\n",
       "      <td>No</td>\n",
       "      <td>7.783224</td>\n",
       "      <td>8.242756</td>\n",
       "      <td>4.986426</td>\n",
       "      <td>180.0</td>\n",
       "      <td>1.0</td>\n",
       "      <td>Urban</td>\n",
       "      <td>N</td>\n",
       "      <td>333.758365</td>\n",
       "    </tr>\n",
       "  </tbody>\n",
       "</table>\n",
       "</div>"
      ],
      "text/plain": [
       "    Gender Married Dependents     Education Self_Employed  ApplicantIncome  \\\n",
       "0     Male     Yes          0      Graduate            No         7.510978   \n",
       "1     Male     Yes          0  Not Graduate           Yes         7.866722   \n",
       "2     Male      No          0  Not Graduate            No         8.070906   \n",
       "3     Male     Yes         3+  Not Graduate            No         8.466952   \n",
       "4     Male     Yes         3+      Graduate            No         8.060540   \n",
       "5     Male     Yes          0  Not Graduate            No         8.180881   \n",
       "6     Male     Yes          1      Graduate           Yes         9.260368   \n",
       "7     Male     Yes         3+  Not Graduate            No         8.166784   \n",
       "8     Male     Yes          1      Graduate           Yes         7.686162   \n",
       "9     Male     Yes         3+  Not Graduate            No         8.292048   \n",
       "10    Male     Yes          1  Not Graduate            No         7.828038   \n",
       "11    Male      No          0      Graduate           Yes         8.707814   \n",
       "12  Female      No          0      Graduate           Yes         7.863267   \n",
       "13    Male      No          0      Graduate            No         8.541691   \n",
       "14    Male      No          1      Graduate            No         8.026824   \n",
       "15    Male     Yes          2  Not Graduate            No         7.968666   \n",
       "16    Male      No          0  Not Graduate            No         7.921173   \n",
       "17    Male     Yes          1      Graduate            No         9.024011   \n",
       "18  Female      No          0  Not Graduate            No         7.908387   \n",
       "19    Male     Yes          1      Graduate            No         8.888757   \n",
       "20    Male     Yes         3+  Not Graduate            No         7.988543   \n",
       "21    Male     Yes          1  Not Graduate            No         7.883446   \n",
       "22    Male     Yes          0      Graduate            No         7.663877   \n",
       "23    Male     Yes          0      Graduate            No         8.186743   \n",
       "24    Male     Yes          2      Graduate           Yes         8.699515   \n",
       "25    Male     Yes          0  Not Graduate            No         7.783224   \n",
       "\n",
       "    CoapplicantIncome  LoanAmount  Loan_Amount_Term  Credit_History  \\\n",
       "0            7.192934    4.605170             342.0             0.0   \n",
       "1            8.145840    5.105945             180.0             0.0   \n",
       "2            7.720462    4.836282             180.0             0.0   \n",
       "3           -2.302585    4.553877             342.0             0.0   \n",
       "4            8.294050    5.192957             300.0             0.0   \n",
       "5            8.322151    5.023881             342.0             0.0   \n",
       "6            8.255828    5.075174             180.0             0.0   \n",
       "7           -2.302585    4.394449             180.0             1.0   \n",
       "8           -2.302585    4.189655             300.0             0.0   \n",
       "9           -2.302585    4.986426             180.0             1.0   \n",
       "10           7.592366    4.941642             180.0             1.0   \n",
       "11           8.374015    4.787492             180.0             1.0   \n",
       "12           7.448334    4.595120             300.0             1.0   \n",
       "13          -2.302585    4.820282             342.0             0.0   \n",
       "14           7.594381    4.709530             180.0             0.0   \n",
       "15          -2.302585    3.806662             180.0             0.0   \n",
       "16          -2.302585    4.174387             300.0             1.0   \n",
       "17          -2.302585    5.023881             300.0             0.0   \n",
       "18          -2.302585    4.382027             342.0             0.0   \n",
       "19           7.418781    4.700480             342.0             0.0   \n",
       "20           7.416980    4.248495             180.0             0.0   \n",
       "21           7.313220    4.727388             180.0             0.0   \n",
       "22           8.804775    4.248495             180.0             1.0   \n",
       "23           8.358432    4.882802             180.0             0.0   \n",
       "24          -2.302585    5.323010             240.0             1.0   \n",
       "25           8.242756    4.986426             180.0             1.0   \n",
       "\n",
       "   Property_Area Loan_Status  predicted loan Term  \n",
       "0          Urban           N           355.769790  \n",
       "1          Rural           N           334.644693  \n",
       "2          Urban           N           324.263089  \n",
       "3      Semiurban           N           323.308049  \n",
       "4      Semiurban           N           328.711885  \n",
       "5          Rural           N           323.308049  \n",
       "6          Urban           N           322.644842  \n",
       "7          Rural           N           320.155030  \n",
       "8          Rural           N           338.746630  \n",
       "9          Urban           N           323.308049  \n",
       "10         Urban           N           333.758365  \n",
       "11         Urban           N           323.308049  \n",
       "12     Semiurban           N           338.207161  \n",
       "13         Rural           N           323.308049  \n",
       "14         Urban           N           326.204660  \n",
       "15         Urban           N           333.304839  \n",
       "16         Rural           N           334.191167  \n",
       "17     Semiurban           N           322.644842  \n",
       "18         Urban           N           333.304839  \n",
       "19         Urban           N           322.644842  \n",
       "20         Urban           N           333.758365  \n",
       "21         Rural           N           334.191167  \n",
       "22     Semiurban           N           337.227798  \n",
       "23         Rural           N           323.308049  \n",
       "24     Semiurban           N           323.308049  \n",
       "25         Urban           N           333.758365  "
      ]
     },
     "execution_count": 73,
     "metadata": {},
     "output_type": "execute_result"
    }
   ],
   "source": [
    "Prediction_for_NO[\"predicted loan Term\"]=pred_no\n",
    "Prediction_for_NO"
   ]
  },
  {
   "cell_type": "markdown",
   "id": "3f9ca11e",
   "metadata": {},
   "source": [
    "# Prediction for testing dataset"
   ]
  },
  {
   "cell_type": "code",
   "execution_count": 74,
   "id": "8efb3705",
   "metadata": {},
   "outputs": [],
   "source": [
    "drop_col = []\n",
    "for i in Xnew_ts.columns:\n",
    "    if (i not in Xnew.columns):\n",
    "        drop_col.append(i)   "
   ]
  },
  {
   "cell_type": "code",
   "execution_count": 75,
   "id": "5a76c133",
   "metadata": {},
   "outputs": [
    {
     "data": {
      "text/plain": [
       "[]"
      ]
     },
     "execution_count": 75,
     "metadata": {},
     "output_type": "execute_result"
    }
   ],
   "source": [
    "drop_col"
   ]
  },
  {
   "cell_type": "code",
   "execution_count": 76,
   "id": "83fcda87",
   "metadata": {},
   "outputs": [
    {
     "data": {
      "text/plain": [
       "['Gender_Female',\n",
       " 'Dependents_1',\n",
       " 'Dependents_2',\n",
       " 'Self_Employed_Yes',\n",
       " 'Credit_History_1.0',\n",
       " 'Property_Area_Rural']"
      ]
     },
     "execution_count": 76,
     "metadata": {},
     "output_type": "execute_result"
    }
   ],
   "source": [
    "add_col = []\n",
    "for i in Xnew.columns:\n",
    "    if (i not in Xnew_ts.columns):\n",
    "        add_col.append(i)    \n",
    "add_col"
   ]
  },
  {
   "cell_type": "code",
   "execution_count": 77,
   "id": "8a551d20",
   "metadata": {},
   "outputs": [],
   "source": [
    "for i in add_col:\n",
    "    Xnew_ts[i]=0"
   ]
  },
  {
   "cell_type": "code",
   "execution_count": 78,
   "id": "f7bf7d93",
   "metadata": {},
   "outputs": [],
   "source": [
    "pred_1= list(final_model.predict(Xnew_ts))"
   ]
  },
  {
   "cell_type": "code",
   "execution_count": 79,
   "id": "cde0e705",
   "metadata": {},
   "outputs": [],
   "source": [
    "Predictions_1 = ts_A1"
   ]
  },
  {
   "cell_type": "code",
   "execution_count": 80,
   "id": "370dbd1e",
   "metadata": {},
   "outputs": [
    {
     "data": {
      "text/html": [
       "<div>\n",
       "<style scoped>\n",
       "    .dataframe tbody tr th:only-of-type {\n",
       "        vertical-align: middle;\n",
       "    }\n",
       "\n",
       "    .dataframe tbody tr th {\n",
       "        vertical-align: top;\n",
       "    }\n",
       "\n",
       "    .dataframe thead th {\n",
       "        text-align: right;\n",
       "    }\n",
       "</style>\n",
       "<table border=\"1\" class=\"dataframe\">\n",
       "  <thead>\n",
       "    <tr style=\"text-align: right;\">\n",
       "      <th></th>\n",
       "      <th>Loan_ID</th>\n",
       "      <th>Gender</th>\n",
       "      <th>Married</th>\n",
       "      <th>Dependents</th>\n",
       "      <th>Education</th>\n",
       "      <th>Self_Employed</th>\n",
       "      <th>ApplicantIncome</th>\n",
       "      <th>CoapplicantIncome</th>\n",
       "      <th>LoanAmount</th>\n",
       "      <th>Loan_Amount_Term</th>\n",
       "      <th>Credit_History</th>\n",
       "      <th>Property_Area</th>\n",
       "      <th>Loan_Status</th>\n",
       "      <th>Predicted loan Term</th>\n",
       "    </tr>\n",
       "  </thead>\n",
       "  <tbody>\n",
       "    <tr>\n",
       "      <th>84</th>\n",
       "      <td>LP001450</td>\n",
       "      <td>Male</td>\n",
       "      <td>Yes</td>\n",
       "      <td>0</td>\n",
       "      <td>Graduate</td>\n",
       "      <td>No</td>\n",
       "      <td>4456</td>\n",
       "      <td>0</td>\n",
       "      <td>131.0</td>\n",
       "      <td>180.0</td>\n",
       "      <td>0.0</td>\n",
       "      <td>Semiurban</td>\n",
       "      <td>N</td>\n",
       "      <td>347.944079</td>\n",
       "    </tr>\n",
       "    <tr>\n",
       "      <th>173</th>\n",
       "      <td>LP001979</td>\n",
       "      <td>Male</td>\n",
       "      <td>No</td>\n",
       "      <td>0</td>\n",
       "      <td>Graduate</td>\n",
       "      <td>No</td>\n",
       "      <td>3017</td>\n",
       "      <td>2845</td>\n",
       "      <td>159.0</td>\n",
       "      <td>180.0</td>\n",
       "      <td>0.0</td>\n",
       "      <td>Urban</td>\n",
       "      <td>N</td>\n",
       "      <td>349.202953</td>\n",
       "    </tr>\n",
       "    <tr>\n",
       "      <th>245</th>\n",
       "      <td>LP002355</td>\n",
       "      <td>NaN</td>\n",
       "      <td>Yes</td>\n",
       "      <td>0</td>\n",
       "      <td>Graduate</td>\n",
       "      <td>No</td>\n",
       "      <td>3186</td>\n",
       "      <td>3145</td>\n",
       "      <td>150.0</td>\n",
       "      <td>180.0</td>\n",
       "      <td>0.0</td>\n",
       "      <td>Semiurban</td>\n",
       "      <td>N</td>\n",
       "      <td>347.944079</td>\n",
       "    </tr>\n",
       "    <tr>\n",
       "      <th>325</th>\n",
       "      <td>LP002802</td>\n",
       "      <td>Male</td>\n",
       "      <td>No</td>\n",
       "      <td>0</td>\n",
       "      <td>Graduate</td>\n",
       "      <td>No</td>\n",
       "      <td>2875</td>\n",
       "      <td>2416</td>\n",
       "      <td>95.0</td>\n",
       "      <td>6.0</td>\n",
       "      <td>0.0</td>\n",
       "      <td>Semiurban</td>\n",
       "      <td>N</td>\n",
       "      <td>347.944079</td>\n",
       "    </tr>\n",
       "    <tr>\n",
       "      <th>354</th>\n",
       "      <td>LP002921</td>\n",
       "      <td>Male</td>\n",
       "      <td>Yes</td>\n",
       "      <td>3+</td>\n",
       "      <td>Not Graduate</td>\n",
       "      <td>No</td>\n",
       "      <td>5316</td>\n",
       "      <td>187</td>\n",
       "      <td>158.0</td>\n",
       "      <td>180.0</td>\n",
       "      <td>0.0</td>\n",
       "      <td>Semiurban</td>\n",
       "      <td>N</td>\n",
       "      <td>347.944079</td>\n",
       "    </tr>\n",
       "  </tbody>\n",
       "</table>\n",
       "</div>"
      ],
      "text/plain": [
       "      Loan_ID Gender Married Dependents     Education Self_Employed  \\\n",
       "84   LP001450   Male     Yes          0      Graduate            No   \n",
       "173  LP001979   Male      No          0      Graduate            No   \n",
       "245  LP002355    NaN     Yes          0      Graduate            No   \n",
       "325  LP002802   Male      No          0      Graduate            No   \n",
       "354  LP002921   Male     Yes         3+  Not Graduate            No   \n",
       "\n",
       "     ApplicantIncome  CoapplicantIncome  LoanAmount  Loan_Amount_Term  \\\n",
       "84              4456                  0       131.0             180.0   \n",
       "173             3017               2845       159.0             180.0   \n",
       "245             3186               3145       150.0             180.0   \n",
       "325             2875               2416        95.0               6.0   \n",
       "354             5316                187       158.0             180.0   \n",
       "\n",
       "     Credit_History Property_Area Loan_Status  Predicted loan Term  \n",
       "84              0.0     Semiurban           N           347.944079  \n",
       "173             0.0         Urban           N           349.202953  \n",
       "245             0.0     Semiurban           N           347.944079  \n",
       "325             0.0     Semiurban           N           347.944079  \n",
       "354             0.0     Semiurban           N           347.944079  "
      ]
     },
     "execution_count": 80,
     "metadata": {},
     "output_type": "execute_result"
    }
   ],
   "source": [
    "Predictions_1[\"Predicted loan Term\"]=pred_1\n",
    "Predictions_1.head()"
   ]
  },
  {
   "cell_type": "code",
   "execution_count": 81,
   "id": "9b5f7788",
   "metadata": {},
   "outputs": [],
   "source": [
    "Predictions_1.to_csv(\"C:/Bhushan data/ETLHIVE (India@123)/Projets submission/08_project_Loan prediction/Loan_Term_Prediction_for_NO.csv\")"
   ]
  },
  {
   "cell_type": "code",
   "execution_count": null,
   "id": "382be01a",
   "metadata": {},
   "outputs": [],
   "source": []
  }
 ],
 "metadata": {
  "kernelspec": {
   "display_name": "Python 3 (ipykernel)",
   "language": "python",
   "name": "python3"
  },
  "language_info": {
   "codemirror_mode": {
    "name": "ipython",
    "version": 3
   },
   "file_extension": ".py",
   "mimetype": "text/x-python",
   "name": "python",
   "nbconvert_exporter": "python",
   "pygments_lexer": "ipython3",
   "version": "3.9.12"
  }
 },
 "nbformat": 4,
 "nbformat_minor": 5
}
