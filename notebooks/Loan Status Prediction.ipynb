{
 "cells": [
  {
   "cell_type": "markdown",
   "id": "a6dd9c31",
   "metadata": {},
   "source": [
    "# This program is for Predicting the Loan Status (Problem-1)"
   ]
  },
  {
   "cell_type": "markdown",
   "id": "a628333f",
   "metadata": {},
   "source": [
    "Problem Statement\n",
    "\n",
    "A Company wants to automate the loan eligibility process based on customer details provided while filling online\n",
    "application form.\n",
    "\n",
    "The details filled by the customer are Gender, Marital Status, Education, Number of Dependents,\n",
    "Income of self and co applicant, Required Loan Amount,Required Loan Term, Credit History and others.\n",
    "\n",
    "The requirements are as follows:\n",
    "\n",
    "1)Check eligibility of the Customer given the inputs described above.(Classification)\n",
    "\n",
    "   If customer is not eligible for the input required amount and duration:\n",
    "\n",
    "2) what can be amount for the given duration.(Regression)\n",
    "\n",
    "3) if duration is less than equal to 20 years, is customer eligible for required amount for some longer duration?\n",
    "   What is that duration?(Regression)"
   ]
  },
  {
   "cell_type": "markdown",
   "id": "eccd2c09",
   "metadata": {},
   "source": [
    "# Import Libraries "
   ]
  },
  {
   "cell_type": "code",
   "execution_count": 1,
   "id": "dc4da111",
   "metadata": {},
   "outputs": [],
   "source": [
    "from warnings import filterwarnings\n",
    "filterwarnings(\"ignore\")"
   ]
  },
  {
   "cell_type": "code",
   "execution_count": 2,
   "id": "c8beaaa2",
   "metadata": {},
   "outputs": [],
   "source": [
    "import pandas as pd\n",
    "import numpy as np\n",
    "import matplotlib.pyplot as plt\n",
    "import seaborn as sb"
   ]
  },
  {
   "cell_type": "markdown",
   "id": "75f44a7d",
   "metadata": {},
   "source": [
    "# Read training and testing dataset"
   ]
  },
  {
   "cell_type": "code",
   "execution_count": 3,
   "id": "10251dda",
   "metadata": {},
   "outputs": [
    {
     "data": {
      "text/html": [
       "<div>\n",
       "<style scoped>\n",
       "    .dataframe tbody tr th:only-of-type {\n",
       "        vertical-align: middle;\n",
       "    }\n",
       "\n",
       "    .dataframe tbody tr th {\n",
       "        vertical-align: top;\n",
       "    }\n",
       "\n",
       "    .dataframe thead th {\n",
       "        text-align: right;\n",
       "    }\n",
       "</style>\n",
       "<table border=\"1\" class=\"dataframe\">\n",
       "  <thead>\n",
       "    <tr style=\"text-align: right;\">\n",
       "      <th></th>\n",
       "      <th>Loan_ID</th>\n",
       "      <th>Gender</th>\n",
       "      <th>Married</th>\n",
       "      <th>Dependents</th>\n",
       "      <th>Education</th>\n",
       "      <th>Self_Employed</th>\n",
       "      <th>ApplicantIncome</th>\n",
       "      <th>CoapplicantIncome</th>\n",
       "      <th>LoanAmount</th>\n",
       "      <th>Loan_Amount_Term</th>\n",
       "      <th>Credit_History</th>\n",
       "      <th>Property_Area</th>\n",
       "      <th>Loan_Status</th>\n",
       "    </tr>\n",
       "  </thead>\n",
       "  <tbody>\n",
       "    <tr>\n",
       "      <th>0</th>\n",
       "      <td>LP001002</td>\n",
       "      <td>Male</td>\n",
       "      <td>No</td>\n",
       "      <td>0</td>\n",
       "      <td>Graduate</td>\n",
       "      <td>No</td>\n",
       "      <td>5849.0</td>\n",
       "      <td>0.0</td>\n",
       "      <td>NaN</td>\n",
       "      <td>360.0</td>\n",
       "      <td>1.0</td>\n",
       "      <td>Urban</td>\n",
       "      <td>Y</td>\n",
       "    </tr>\n",
       "    <tr>\n",
       "      <th>1</th>\n",
       "      <td>LP001003</td>\n",
       "      <td>Male</td>\n",
       "      <td>Yes</td>\n",
       "      <td>1</td>\n",
       "      <td>Graduate</td>\n",
       "      <td>No</td>\n",
       "      <td>NaN</td>\n",
       "      <td>1508.0</td>\n",
       "      <td>128.0</td>\n",
       "      <td>360.0</td>\n",
       "      <td>1.0</td>\n",
       "      <td>Rural</td>\n",
       "      <td>N</td>\n",
       "    </tr>\n",
       "    <tr>\n",
       "      <th>2</th>\n",
       "      <td>LP001005</td>\n",
       "      <td>Male</td>\n",
       "      <td>Yes</td>\n",
       "      <td>0</td>\n",
       "      <td>Graduate</td>\n",
       "      <td>Yes</td>\n",
       "      <td>3000.0</td>\n",
       "      <td>0.0</td>\n",
       "      <td>66.0</td>\n",
       "      <td>360.0</td>\n",
       "      <td>1.0</td>\n",
       "      <td>Urban</td>\n",
       "      <td>Y</td>\n",
       "    </tr>\n",
       "    <tr>\n",
       "      <th>3</th>\n",
       "      <td>LP001006</td>\n",
       "      <td>Male</td>\n",
       "      <td>Yes</td>\n",
       "      <td>0</td>\n",
       "      <td>Not Graduate</td>\n",
       "      <td>No</td>\n",
       "      <td>2583.0</td>\n",
       "      <td>2358.0</td>\n",
       "      <td>120.0</td>\n",
       "      <td>360.0</td>\n",
       "      <td>1.0</td>\n",
       "      <td>Urban</td>\n",
       "      <td>Y</td>\n",
       "    </tr>\n",
       "    <tr>\n",
       "      <th>4</th>\n",
       "      <td>LP001008</td>\n",
       "      <td>Male</td>\n",
       "      <td>No</td>\n",
       "      <td>0</td>\n",
       "      <td>Graduate</td>\n",
       "      <td>No</td>\n",
       "      <td>6000.0</td>\n",
       "      <td>0.0</td>\n",
       "      <td>141.0</td>\n",
       "      <td>360.0</td>\n",
       "      <td>1.0</td>\n",
       "      <td>Urban</td>\n",
       "      <td>Y</td>\n",
       "    </tr>\n",
       "  </tbody>\n",
       "</table>\n",
       "</div>"
      ],
      "text/plain": [
       "    Loan_ID Gender Married Dependents     Education Self_Employed  \\\n",
       "0  LP001002   Male      No          0      Graduate            No   \n",
       "1  LP001003   Male     Yes          1      Graduate            No   \n",
       "2  LP001005   Male     Yes          0      Graduate           Yes   \n",
       "3  LP001006   Male     Yes          0  Not Graduate            No   \n",
       "4  LP001008   Male      No          0      Graduate            No   \n",
       "\n",
       "   ApplicantIncome  CoapplicantIncome  LoanAmount  Loan_Amount_Term  \\\n",
       "0           5849.0                0.0         NaN             360.0   \n",
       "1              NaN             1508.0       128.0             360.0   \n",
       "2           3000.0                0.0        66.0             360.0   \n",
       "3           2583.0             2358.0       120.0             360.0   \n",
       "4           6000.0                0.0       141.0             360.0   \n",
       "\n",
       "   Credit_History Property_Area Loan_Status  \n",
       "0             1.0         Urban           Y  \n",
       "1             1.0         Rural           N  \n",
       "2             1.0         Urban           Y  \n",
       "3             1.0         Urban           Y  \n",
       "4             1.0         Urban           Y  "
      ]
     },
     "execution_count": 3,
     "metadata": {},
     "output_type": "execute_result"
    }
   ],
   "source": [
    "tr_A=pd.read_csv(\"C:/Bhushan data/ETLHIVE (India@123)/Projets submission/08_project_Loan prediction/training_set.csv\")\n",
    "tr_A.head()"
   ]
  },
  {
   "cell_type": "code",
   "execution_count": 4,
   "id": "7b5cdde3",
   "metadata": {},
   "outputs": [
    {
     "data": {
      "text/html": [
       "<div>\n",
       "<style scoped>\n",
       "    .dataframe tbody tr th:only-of-type {\n",
       "        vertical-align: middle;\n",
       "    }\n",
       "\n",
       "    .dataframe tbody tr th {\n",
       "        vertical-align: top;\n",
       "    }\n",
       "\n",
       "    .dataframe thead th {\n",
       "        text-align: right;\n",
       "    }\n",
       "</style>\n",
       "<table border=\"1\" class=\"dataframe\">\n",
       "  <thead>\n",
       "    <tr style=\"text-align: right;\">\n",
       "      <th></th>\n",
       "      <th>Loan_ID</th>\n",
       "      <th>Gender</th>\n",
       "      <th>Married</th>\n",
       "      <th>Dependents</th>\n",
       "      <th>Education</th>\n",
       "      <th>Self_Employed</th>\n",
       "      <th>ApplicantIncome</th>\n",
       "      <th>CoapplicantIncome</th>\n",
       "      <th>LoanAmount</th>\n",
       "      <th>Loan_Amount_Term</th>\n",
       "      <th>Credit_History</th>\n",
       "      <th>Property_Area</th>\n",
       "    </tr>\n",
       "  </thead>\n",
       "  <tbody>\n",
       "    <tr>\n",
       "      <th>0</th>\n",
       "      <td>LP001015</td>\n",
       "      <td>Male</td>\n",
       "      <td>Yes</td>\n",
       "      <td>0</td>\n",
       "      <td>Graduate</td>\n",
       "      <td>No</td>\n",
       "      <td>5720</td>\n",
       "      <td>0</td>\n",
       "      <td>110.0</td>\n",
       "      <td>360.0</td>\n",
       "      <td>1.0</td>\n",
       "      <td>Urban</td>\n",
       "    </tr>\n",
       "    <tr>\n",
       "      <th>1</th>\n",
       "      <td>LP001022</td>\n",
       "      <td>Male</td>\n",
       "      <td>Yes</td>\n",
       "      <td>1</td>\n",
       "      <td>Graduate</td>\n",
       "      <td>No</td>\n",
       "      <td>3076</td>\n",
       "      <td>1500</td>\n",
       "      <td>126.0</td>\n",
       "      <td>360.0</td>\n",
       "      <td>1.0</td>\n",
       "      <td>Urban</td>\n",
       "    </tr>\n",
       "    <tr>\n",
       "      <th>2</th>\n",
       "      <td>LP001031</td>\n",
       "      <td>Male</td>\n",
       "      <td>Yes</td>\n",
       "      <td>2</td>\n",
       "      <td>Graduate</td>\n",
       "      <td>No</td>\n",
       "      <td>5000</td>\n",
       "      <td>1800</td>\n",
       "      <td>208.0</td>\n",
       "      <td>360.0</td>\n",
       "      <td>1.0</td>\n",
       "      <td>Urban</td>\n",
       "    </tr>\n",
       "    <tr>\n",
       "      <th>3</th>\n",
       "      <td>LP001035</td>\n",
       "      <td>Male</td>\n",
       "      <td>Yes</td>\n",
       "      <td>2</td>\n",
       "      <td>Graduate</td>\n",
       "      <td>No</td>\n",
       "      <td>2340</td>\n",
       "      <td>2546</td>\n",
       "      <td>100.0</td>\n",
       "      <td>360.0</td>\n",
       "      <td>NaN</td>\n",
       "      <td>Urban</td>\n",
       "    </tr>\n",
       "    <tr>\n",
       "      <th>4</th>\n",
       "      <td>LP001051</td>\n",
       "      <td>Male</td>\n",
       "      <td>No</td>\n",
       "      <td>0</td>\n",
       "      <td>Not Graduate</td>\n",
       "      <td>No</td>\n",
       "      <td>3276</td>\n",
       "      <td>0</td>\n",
       "      <td>78.0</td>\n",
       "      <td>360.0</td>\n",
       "      <td>1.0</td>\n",
       "      <td>Urban</td>\n",
       "    </tr>\n",
       "  </tbody>\n",
       "</table>\n",
       "</div>"
      ],
      "text/plain": [
       "    Loan_ID Gender Married Dependents     Education Self_Employed  \\\n",
       "0  LP001015   Male     Yes          0      Graduate            No   \n",
       "1  LP001022   Male     Yes          1      Graduate            No   \n",
       "2  LP001031   Male     Yes          2      Graduate            No   \n",
       "3  LP001035   Male     Yes          2      Graduate            No   \n",
       "4  LP001051   Male      No          0  Not Graduate            No   \n",
       "\n",
       "   ApplicantIncome  CoapplicantIncome  LoanAmount  Loan_Amount_Term  \\\n",
       "0             5720                  0       110.0             360.0   \n",
       "1             3076               1500       126.0             360.0   \n",
       "2             5000               1800       208.0             360.0   \n",
       "3             2340               2546       100.0             360.0   \n",
       "4             3276                  0        78.0             360.0   \n",
       "\n",
       "   Credit_History Property_Area  \n",
       "0             1.0         Urban  \n",
       "1             1.0         Urban  \n",
       "2             1.0         Urban  \n",
       "3             NaN         Urban  \n",
       "4             1.0         Urban  "
      ]
     },
     "execution_count": 4,
     "metadata": {},
     "output_type": "execute_result"
    }
   ],
   "source": [
    "ts_A=pd.read_csv(\"C:/Bhushan data/ETLHIVE (India@123)/Projets submission/08_project_Loan prediction/testing_set.csv\")\n",
    "ts_A.head()"
   ]
  },
  {
   "cell_type": "markdown",
   "id": "f71f3b79",
   "metadata": {},
   "source": [
    "# check dataframe profile"
   ]
  },
  {
   "cell_type": "code",
   "execution_count": 5,
   "id": "f5ae0681",
   "metadata": {},
   "outputs": [
    {
     "name": "stdout",
     "output_type": "stream",
     "text": [
      "<class 'pandas.core.frame.DataFrame'>\n",
      "RangeIndex: 367 entries, 0 to 366\n",
      "Data columns (total 12 columns):\n",
      " #   Column             Non-Null Count  Dtype  \n",
      "---  ------             --------------  -----  \n",
      " 0   Loan_ID            367 non-null    object \n",
      " 1   Gender             356 non-null    object \n",
      " 2   Married            367 non-null    object \n",
      " 3   Dependents         357 non-null    object \n",
      " 4   Education          367 non-null    object \n",
      " 5   Self_Employed      344 non-null    object \n",
      " 6   ApplicantIncome    367 non-null    int64  \n",
      " 7   CoapplicantIncome  367 non-null    int64  \n",
      " 8   LoanAmount         362 non-null    float64\n",
      " 9   Loan_Amount_Term   361 non-null    float64\n",
      " 10  Credit_History     338 non-null    float64\n",
      " 11  Property_Area      367 non-null    object \n",
      "dtypes: float64(3), int64(2), object(7)\n",
      "memory usage: 34.5+ KB\n"
     ]
    }
   ],
   "source": [
    "ts_A.info()"
   ]
  },
  {
   "cell_type": "markdown",
   "id": "5eecf46f",
   "metadata": {},
   "source": [
    "# check missing data in dataframe"
   ]
  },
  {
   "cell_type": "code",
   "execution_count": 6,
   "id": "ffc0cc0e",
   "metadata": {},
   "outputs": [
    {
     "data": {
      "text/plain": [
       "Loan_ID               0\n",
       "Gender               15\n",
       "Married               3\n",
       "Dependents           15\n",
       "Education             1\n",
       "Self_Employed        32\n",
       "ApplicantIncome       2\n",
       "CoapplicantIncome     1\n",
       "LoanAmount           22\n",
       "Loan_Amount_Term     14\n",
       "Credit_History       50\n",
       "Property_Area         0\n",
       "Loan_Status           0\n",
       "dtype: int64"
      ]
     },
     "execution_count": 6,
     "metadata": {},
     "output_type": "execute_result"
    }
   ],
   "source": [
    "tr_A.isna().sum()"
   ]
  },
  {
   "cell_type": "code",
   "execution_count": 7,
   "id": "575acc59",
   "metadata": {},
   "outputs": [
    {
     "data": {
      "text/plain": [
       "Loan_ID               0\n",
       "Gender               11\n",
       "Married               0\n",
       "Dependents           10\n",
       "Education             0\n",
       "Self_Employed        23\n",
       "ApplicantIncome       0\n",
       "CoapplicantIncome     0\n",
       "LoanAmount            5\n",
       "Loan_Amount_Term      6\n",
       "Credit_History       29\n",
       "Property_Area         0\n",
       "dtype: int64"
      ]
     },
     "execution_count": 7,
     "metadata": {},
     "output_type": "execute_result"
    }
   ],
   "source": [
    "ts_A.isna().sum()"
   ]
  },
  {
   "cell_type": "markdown",
   "id": "acd859e0",
   "metadata": {},
   "source": [
    "# cheking the column profile for repetataion of values"
   ]
  },
  {
   "cell_type": "code",
   "execution_count": 8,
   "id": "d4af7909",
   "metadata": {},
   "outputs": [
    {
     "data": {
      "text/plain": [
       "Loan_ID              614\n",
       "Gender                 2\n",
       "Married                2\n",
       "Dependents             4\n",
       "Education              2\n",
       "Self_Employed          2\n",
       "ApplicantIncome      504\n",
       "CoapplicantIncome    286\n",
       "LoanAmount           203\n",
       "Loan_Amount_Term      10\n",
       "Credit_History         2\n",
       "Property_Area          3\n",
       "Loan_Status            2\n",
       "dtype: int64"
      ]
     },
     "execution_count": 8,
     "metadata": {},
     "output_type": "execute_result"
    }
   ],
   "source": [
    "tr_A.nunique()"
   ]
  },
  {
   "cell_type": "markdown",
   "id": "34fbfea0",
   "metadata": {},
   "source": [
    "# dropping the discrete column, Loan_ID"
   ]
  },
  {
   "cell_type": "code",
   "execution_count": 9,
   "id": "4f8fd698",
   "metadata": {},
   "outputs": [],
   "source": [
    "tr_B=tr_A.drop(labels=[\"Loan_ID\"],axis=1)\n",
    "ts_B=ts_A.drop(labels=[\"Loan_ID\"],axis=1)"
   ]
  },
  {
   "cell_type": "markdown",
   "id": "bbd5a06e",
   "metadata": {},
   "source": [
    "# Creating list of catagorical and continious columns"
   ]
  },
  {
   "cell_type": "markdown",
   "id": "0aa10988",
   "metadata": {},
   "source": [
    "values less than 10 are considered as Catagorical columns and\n",
    "\n",
    "values greater than 10 are considered Continuous columns"
   ]
  },
  {
   "cell_type": "code",
   "execution_count": 10,
   "id": "4d61be8c",
   "metadata": {},
   "outputs": [
    {
     "data": {
      "text/plain": [
       "(['Gender',\n",
       "  'Married',\n",
       "  'Dependents',\n",
       "  'Education',\n",
       "  'Self_Employed',\n",
       "  'Credit_History',\n",
       "  'Property_Area'],\n",
       " ['ApplicantIncome', 'CoapplicantIncome', 'LoanAmount', 'Loan_Amount_Term'])"
      ]
     },
     "execution_count": 10,
     "metadata": {},
     "output_type": "execute_result"
    }
   ],
   "source": [
    "cat = []\n",
    "con = []\n",
    "for i in tr_B.columns:\n",
    "    if (tr_B[i].nunique()<10):\n",
    "        cat.append(i)\n",
    "    else:\n",
    "        con.append(i)\n",
    "cat.remove(\"Loan_Status\")\n",
    "cat,con"
   ]
  },
  {
   "cell_type": "markdown",
   "id": "cb4a0b20",
   "metadata": {},
   "source": [
    "# Missing data treatment"
   ]
  },
  {
   "cell_type": "markdown",
   "id": "ad3c4c61",
   "metadata": {},
   "source": [
    "fill missing data of catagorical coulmns by mode values of respective column\n",
    "\n",
    "fill missing data of continuous columns by mean values of the respective columns"
   ]
  },
  {
   "cell_type": "code",
   "execution_count": 11,
   "id": "7b915aff",
   "metadata": {},
   "outputs": [],
   "source": [
    "for i in cat:\n",
    "    x=tr_B[i].mode()[0]\n",
    "    tr_B[i]=tr_B[i].fillna(x)\n",
    "    ts_B[i]=ts_B[i].fillna(x)"
   ]
  },
  {
   "cell_type": "code",
   "execution_count": 12,
   "id": "452027b6",
   "metadata": {},
   "outputs": [],
   "source": [
    "for i in con:\n",
    "    x=tr_B[i].mean()\n",
    "    tr_B[i]=tr_B[i].fillna(x)\n",
    "    ts_B[i]=ts_B[i].fillna(x)   "
   ]
  },
  {
   "cell_type": "code",
   "execution_count": 13,
   "id": "e62726f5",
   "metadata": {},
   "outputs": [
    {
     "data": {
      "text/plain": [
       "Gender               0\n",
       "Married              0\n",
       "Dependents           0\n",
       "Education            0\n",
       "Self_Employed        0\n",
       "ApplicantIncome      0\n",
       "CoapplicantIncome    0\n",
       "LoanAmount           0\n",
       "Loan_Amount_Term     0\n",
       "Credit_History       0\n",
       "Property_Area        0\n",
       "Loan_Status          0\n",
       "dtype: int64"
      ]
     },
     "execution_count": 13,
     "metadata": {},
     "output_type": "execute_result"
    }
   ],
   "source": [
    "tr_B.isna().sum()"
   ]
  },
  {
   "cell_type": "code",
   "execution_count": 14,
   "id": "d66571cc",
   "metadata": {},
   "outputs": [
    {
     "data": {
      "text/plain": [
       "Gender               0\n",
       "Married              0\n",
       "Dependents           0\n",
       "Education            0\n",
       "Self_Employed        0\n",
       "ApplicantIncome      0\n",
       "CoapplicantIncome    0\n",
       "LoanAmount           0\n",
       "Loan_Amount_Term     0\n",
       "Credit_History       0\n",
       "Property_Area        0\n",
       "dtype: int64"
      ]
     },
     "execution_count": 14,
     "metadata": {},
     "output_type": "execute_result"
    }
   ],
   "source": [
    "ts_B.isna().sum()"
   ]
  },
  {
   "cell_type": "markdown",
   "id": "165390b5",
   "metadata": {},
   "source": [
    "# Check the outliers in the data"
   ]
  },
  {
   "cell_type": "code",
   "execution_count": 15,
   "id": "40d2abcd",
   "metadata": {},
   "outputs": [
    {
     "data": {
      "text/html": [
       "<div>\n",
       "<style scoped>\n",
       "    .dataframe tbody tr th:only-of-type {\n",
       "        vertical-align: middle;\n",
       "    }\n",
       "\n",
       "    .dataframe tbody tr th {\n",
       "        vertical-align: top;\n",
       "    }\n",
       "\n",
       "    .dataframe thead th {\n",
       "        text-align: right;\n",
       "    }\n",
       "</style>\n",
       "<table border=\"1\" class=\"dataframe\">\n",
       "  <thead>\n",
       "    <tr style=\"text-align: right;\">\n",
       "      <th></th>\n",
       "      <th>ApplicantIncome</th>\n",
       "      <th>CoapplicantIncome</th>\n",
       "      <th>LoanAmount</th>\n",
       "      <th>Loan_Amount_Term</th>\n",
       "    </tr>\n",
       "  </thead>\n",
       "  <tbody>\n",
       "    <tr>\n",
       "      <th>0</th>\n",
       "      <td>0.072651</td>\n",
       "      <td>-0.554368</td>\n",
       "      <td>0.000000</td>\n",
       "      <td>0.279851</td>\n",
       "    </tr>\n",
       "    <tr>\n",
       "      <th>1</th>\n",
       "      <td>0.000000</td>\n",
       "      <td>-0.038610</td>\n",
       "      <td>-0.219273</td>\n",
       "      <td>0.279851</td>\n",
       "    </tr>\n",
       "    <tr>\n",
       "      <th>2</th>\n",
       "      <td>-0.394096</td>\n",
       "      <td>-0.554368</td>\n",
       "      <td>-0.957641</td>\n",
       "      <td>0.279851</td>\n",
       "    </tr>\n",
       "    <tr>\n",
       "      <th>3</th>\n",
       "      <td>-0.462412</td>\n",
       "      <td>0.252103</td>\n",
       "      <td>-0.314547</td>\n",
       "      <td>0.279851</td>\n",
       "    </tr>\n",
       "    <tr>\n",
       "      <th>4</th>\n",
       "      <td>0.097389</td>\n",
       "      <td>-0.554368</td>\n",
       "      <td>-0.064454</td>\n",
       "      <td>0.279851</td>\n",
       "    </tr>\n",
       "  </tbody>\n",
       "</table>\n",
       "</div>"
      ],
      "text/plain": [
       "   ApplicantIncome  CoapplicantIncome  LoanAmount  Loan_Amount_Term\n",
       "0         0.072651          -0.554368    0.000000          0.279851\n",
       "1         0.000000          -0.038610   -0.219273          0.279851\n",
       "2        -0.394096          -0.554368   -0.957641          0.279851\n",
       "3        -0.462412           0.252103   -0.314547          0.279851\n",
       "4         0.097389          -0.554368   -0.064454          0.279851"
      ]
     },
     "execution_count": 15,
     "metadata": {},
     "output_type": "execute_result"
    }
   ],
   "source": [
    "from sklearn.preprocessing import StandardScaler\n",
    "ss = StandardScaler()\n",
    "x1=pd.DataFrame(ss.fit_transform(tr_B[con]),columns=con)\n",
    "x1.head()"
   ]
  },
  {
   "cell_type": "code",
   "execution_count": 16,
   "id": "2a461a5b",
   "metadata": {},
   "outputs": [],
   "source": [
    "out = []\n",
    "for i in con:\n",
    "     out=out+list(x1[(x1[i]>3)|(x1[i]<-3)].index)"
   ]
  },
  {
   "cell_type": "code",
   "execution_count": 17,
   "id": "16218ef0",
   "metadata": {},
   "outputs": [
    {
     "data": {
      "text/plain": [
       "[9,\n",
       " 14,\n",
       " 68,\n",
       " 94,\n",
       " 126,\n",
       " 130,\n",
       " 133,\n",
       " 155,\n",
       " 171,\n",
       " 177,\n",
       " 183,\n",
       " 185,\n",
       " 242,\n",
       " 262,\n",
       " 278,\n",
       " 308,\n",
       " 313,\n",
       " 333,\n",
       " 369,\n",
       " 402,\n",
       " 409,\n",
       " 417,\n",
       " 432,\n",
       " 443,\n",
       " 487,\n",
       " 495,\n",
       " 497,\n",
       " 506,\n",
       " 523,\n",
       " 525,\n",
       " 546,\n",
       " 561,\n",
       " 575,\n",
       " 581,\n",
       " 585,\n",
       " 600,\n",
       " 604]"
      ]
     },
     "execution_count": 17,
     "metadata": {},
     "output_type": "execute_result"
    }
   ],
   "source": [
    "out=list(np.unique(out))\n",
    "out"
   ]
  },
  {
   "cell_type": "markdown",
   "id": "1b7e09b0",
   "metadata": {},
   "source": [
    "# Drop all outliers from the data"
   ]
  },
  {
   "cell_type": "code",
   "execution_count": 18,
   "id": "0474277f",
   "metadata": {},
   "outputs": [],
   "source": [
    "tr_C=tr_B.drop(index=out,axis=0)"
   ]
  },
  {
   "cell_type": "markdown",
   "id": "6ca82d3b",
   "metadata": {},
   "source": [
    "# Reindexing the dataframe after deleting outliers"
   ]
  },
  {
   "cell_type": "code",
   "execution_count": 19,
   "id": "4128f322",
   "metadata": {},
   "outputs": [],
   "source": [
    "tr_C.index=range(0,tr_C.shape[0],1)"
   ]
  },
  {
   "cell_type": "markdown",
   "id": "8912adfa",
   "metadata": {},
   "source": [
    "# Check the distribution of continuous columns\n",
    "plot histograms or disturibution plot"
   ]
  },
  {
   "cell_type": "code",
   "execution_count": 20,
   "id": "b316e4a6",
   "metadata": {
    "scrolled": true
   },
   "outputs": [
    {
     "data": {
      "text/plain": [
       "<AxesSubplot:xlabel='LoanAmount', ylabel='Density'>"
      ]
     },
     "execution_count": 20,
     "metadata": {},
     "output_type": "execute_result"
    },
    {
     "data": {
      "image/png": "[encoded data removed]",
      "text/plain": [
       "<Figure size 1080x216 with 3 Axes>"
      ]
     },
     "metadata": {
      "needs_background": "light"
     },
     "output_type": "display_data"
    }
   ],
   "source": [
    "plt.figure(figsize=(15,3))\n",
    "plt.subplot(1,3,1)\n",
    "sb.distplot(tr_C[\"ApplicantIncome\"],bins=10,color=\"red\")\n",
    "plt.subplot(1,3,2)\n",
    "sb.distplot(tr_C[\"CoapplicantIncome\"],bins=10)\n",
    "plt.subplot(1,3,3)\n",
    "sb.distplot(tr_C[\"LoanAmount\"],bins=10)"
   ]
  },
  {
   "cell_type": "markdown",
   "id": "6ce99407",
   "metadata": {},
   "source": [
    "#From the plots it is observed that all columns show approximately normal distribution but skewed slightly towards right side"
   ]
  },
  {
   "cell_type": "code",
   "execution_count": 21,
   "id": "6ed2e5dd",
   "metadata": {},
   "outputs": [
    {
     "data": {
      "text/plain": [
       "<AxesSubplot:xlabel='LoanAmount', ylabel='Density'>"
      ]
     },
     "execution_count": 21,
     "metadata": {},
     "output_type": "execute_result"
    },
    {
     "data": {
      "image/png": "[encoded data removed]",
      "text/plain": [
       "<Figure size 1080x216 with 3 Axes>"
      ]
     },
     "metadata": {
      "needs_background": "light"
     },
     "output_type": "display_data"
    }
   ],
   "source": [
    "plt.figure(figsize=(15,3))\n",
    "plt.subplot(1,3,1)\n",
    "sb.distplot(ts_B[\"ApplicantIncome\"],bins=10,color=\"red\")\n",
    "plt.subplot(1,3,2)\n",
    "sb.distplot(ts_B[\"CoapplicantIncome\"],bins=10)\n",
    "plt.subplot(1,3,3)\n",
    "sb.distplot(ts_B[\"LoanAmount\"],bins=10)"
   ]
  },
  {
   "cell_type": "markdown",
   "id": "ecd126a4",
   "metadata": {},
   "source": [
    "# Check the skewness of all continuous columns"
   ]
  },
  {
   "cell_type": "code",
   "execution_count": 22,
   "id": "4a27e28b",
   "metadata": {},
   "outputs": [
    {
     "name": "stdout",
     "output_type": "stream",
     "text": [
      "ApplicantIncome 2.145688077185856\n",
      "CoapplicantIncome 1.351358890837548\n",
      "LoanAmount 1.1131318857924217\n",
      "Loan_Amount_Term -2.077031480435139\n"
     ]
    }
   ],
   "source": [
    "for i in con:\n",
    "    print(i,tr_C[i].skew())"
   ]
  },
  {
   "cell_type": "code",
   "execution_count": 23,
   "id": "856f37a2",
   "metadata": {},
   "outputs": [
    {
     "name": "stdout",
     "output_type": "stream",
     "text": [
      "ApplicantIncome 8.441374954190996\n",
      "CoapplicantIncome 4.257356934477602\n",
      "LoanAmount 2.2305371080983596\n",
      "Loan_Amount_Term -2.7008924966629455\n"
     ]
    }
   ],
   "source": [
    "for i in con:\n",
    "    print(i,ts_B[i].skew())"
   ]
  },
  {
   "cell_type": "markdown",
   "id": "2c9c3ca4",
   "metadata": {},
   "source": [
    "# Removing the skewness\n",
    "To remove skewness, take the log trasnformation of all continous columns.\n",
    "in Coapplican income column there are some values which are zero. Log of zero is not possible so before taking log replace zero values with small number 1 or 0.1 "
   ]
  },
  {
   "cell_type": "code",
   "execution_count": 24,
   "id": "d8060b88",
   "metadata": {},
   "outputs": [],
   "source": [
    "tr_D=tr_C # copy the dataframe for the transformation\n",
    "ts_D=ts_B"
   ]
  },
  {
   "cell_type": "code",
   "execution_count": 25,
   "id": "5f2b0883",
   "metadata": {},
   "outputs": [],
   "source": [
    "for i in con:\n",
    "    if i!=\"Loan_Amount_Term\":\n",
    "        tr_D[i]=tr_D[i].replace({0:1})\n",
    "        ts_D[i]=ts_D[i].replace({0:1})  "
   ]
  },
  {
   "cell_type": "code",
   "execution_count": 26,
   "id": "fa592a6e",
   "metadata": {},
   "outputs": [],
   "source": [
    "for i in con:\n",
    "    if i!=\"Loan_Amount_Term\":\n",
    "        tr_D[i]=np.log(tr_D[i])\n",
    "        ts_D[i]=np.log(ts_D[i])"
   ]
  },
  {
   "cell_type": "code",
   "execution_count": 27,
   "id": "de663958",
   "metadata": {},
   "outputs": [
    {
     "name": "stdout",
     "output_type": "stream",
     "text": [
      "ApplicantIncome -0.20969781631644963 -5.25720324127368\n",
      "CoapplicantIncome -0.2166071855855629 -0.24688868882529807\n",
      "LoanAmount -0.7406162296042765 -0.26487768185667065\n",
      "Loan_Amount_Term -2.077031480435139 -2.7008924966629455\n"
     ]
    }
   ],
   "source": [
    "for i in con:\n",
    "    print(i,tr_D[i].skew(),ts_D[i].skew())"
   ]
  },
  {
   "cell_type": "markdown",
   "id": "bc8ff2eb",
   "metadata": {},
   "source": [
    "# Declare dependent 'Y' and independent 'X' variables "
   ]
  },
  {
   "cell_type": "code",
   "execution_count": 28,
   "id": "4e4c59de",
   "metadata": {},
   "outputs": [],
   "source": [
    "Y=tr_C[[\"Loan_Status\"]]\n",
    "X=tr_C.drop(labels=[\"Loan_Status\"],axis=1)"
   ]
  },
  {
   "cell_type": "markdown",
   "id": "d378d4a0",
   "metadata": {},
   "source": [
    "# checking the relation if dependent and independent variables"
   ]
  },
  {
   "cell_type": "markdown",
   "id": "70732859",
   "metadata": {},
   "source": [
    "# Catagorical to Continiuos relation - Annova test"
   ]
  },
  {
   "cell_type": "code",
   "execution_count": 29,
   "id": "539fbba9",
   "metadata": {},
   "outputs": [
    {
     "name": "stdout",
     "output_type": "stream",
     "text": [
      "Loan_Status v/s  ApplicantIncome ---> 0.9554975041974758\n",
      "Loan_Status v/s  CoapplicantIncome ---> 0.05068290349096325\n",
      "Loan_Status v/s  LoanAmount ---> 0.5794207610065045\n",
      "Loan_Status v/s  Loan_Amount_Term ---> 0.6636212713375147\n"
     ]
    }
   ],
   "source": [
    "from statsmodels.formula.api import ols\n",
    "from statsmodels.stats.anova import anova_lm\n",
    "col_to_drop = []\n",
    "\n",
    "for i in con:\n",
    "    rel = i +\" ~ \"+\"Loan_Status\"\n",
    "    model=ols(rel,tr_C).fit()\n",
    "    Q=anova_lm(model)\n",
    "    pval=Q.iloc[0:1,4][0]\n",
    "    print(\"Loan_Status v/s \",i,\"--->\",pval)"
   ]
  },
  {
   "cell_type": "markdown",
   "id": "c807a0f3",
   "metadata": {},
   "source": [
    "# catagorical to catogorical replation - Chisquare Test"
   ]
  },
  {
   "cell_type": "code",
   "execution_count": 30,
   "id": "ef4de388",
   "metadata": {},
   "outputs": [
    {
     "name": "stdout",
     "output_type": "stream",
     "text": [
      "Loan_Status v/s  Gender ---> 0.7623575001800956\n",
      "Loan_Status v/s  Married ---> 0.04093872592584048\n",
      "Loan_Status v/s  Dependents ---> 0.5826451238806551\n",
      "Loan_Status v/s  Education ---> 0.03414825953694172\n",
      "Loan_Status v/s  Self_Employed ---> 0.6158136683554956\n",
      "Loan_Status v/s  Credit_History ---> 1.2202246893922684e-40\n",
      "Loan_Status v/s  Property_Area ---> 0.0023192782270974365\n"
     ]
    }
   ],
   "source": [
    "from scipy.stats import chi2_contingency\n",
    "for i in cat:\n",
    "    Q=pd.crosstab(tr_C[\"Loan_Status\"],tr_C[i])\n",
    "    a,pval,c,d=chi2_contingency(Q)\n",
    "    if pval>0.5:\n",
    "        col_to_drop.append(i)\n",
    "    print(\"Loan_Status v/s \",i,\"--->\",pval)"
   ]
  },
  {
   "cell_type": "code",
   "execution_count": 31,
   "id": "cc789cb7",
   "metadata": {},
   "outputs": [
    {
     "data": {
      "text/plain": [
       "['Gender', 'Dependents', 'Self_Employed']"
      ]
     },
     "execution_count": 31,
     "metadata": {},
     "output_type": "execute_result"
    }
   ],
   "source": [
    "col_to_drop"
   ]
  },
  {
   "cell_type": "code",
   "execution_count": 32,
   "id": "503e1e35",
   "metadata": {},
   "outputs": [],
   "source": [
    "X=tr_D.drop(labels=col_to_drop,axis=1)\n",
    "X_ts=ts_D.drop(labels=col_to_drop,axis=1)"
   ]
  },
  {
   "cell_type": "code",
   "execution_count": 33,
   "id": "effdeaca",
   "metadata": {},
   "outputs": [],
   "source": [
    "cat.remove(\"Gender\")\n",
    "cat.remove(\"Self_Employed\")\n",
    "cat.remove(\"Dependents\")"
   ]
  },
  {
   "cell_type": "markdown",
   "id": "54b2d4ee",
   "metadata": {},
   "source": [
    "# Standradize the data\n",
    "create one hot encoding for the catagorical columns\n",
    "\n",
    "scale the continuous valeus in the range of 0 to 1"
   ]
  },
  {
   "cell_type": "code",
   "execution_count": 34,
   "id": "53f993ef",
   "metadata": {},
   "outputs": [
    {
     "data": {
      "text/html": [
       "<div>\n",
       "<style scoped>\n",
       "    .dataframe tbody tr th:only-of-type {\n",
       "        vertical-align: middle;\n",
       "    }\n",
       "\n",
       "    .dataframe tbody tr th {\n",
       "        vertical-align: top;\n",
       "    }\n",
       "\n",
       "    .dataframe thead th {\n",
       "        text-align: right;\n",
       "    }\n",
       "</style>\n",
       "<table border=\"1\" class=\"dataframe\">\n",
       "  <thead>\n",
       "    <tr style=\"text-align: right;\">\n",
       "      <th></th>\n",
       "      <th>Married_No</th>\n",
       "      <th>Married_Yes</th>\n",
       "      <th>Education_Graduate</th>\n",
       "      <th>Education_Not Graduate</th>\n",
       "      <th>Credit_History_0.0</th>\n",
       "      <th>Credit_History_1.0</th>\n",
       "      <th>Property_Area_Rural</th>\n",
       "      <th>Property_Area_Semiurban</th>\n",
       "      <th>Property_Area_Urban</th>\n",
       "    </tr>\n",
       "  </thead>\n",
       "  <tbody>\n",
       "    <tr>\n",
       "      <th>0</th>\n",
       "      <td>1</td>\n",
       "      <td>0</td>\n",
       "      <td>1</td>\n",
       "      <td>0</td>\n",
       "      <td>0</td>\n",
       "      <td>1</td>\n",
       "      <td>0</td>\n",
       "      <td>0</td>\n",
       "      <td>1</td>\n",
       "    </tr>\n",
       "    <tr>\n",
       "      <th>1</th>\n",
       "      <td>0</td>\n",
       "      <td>1</td>\n",
       "      <td>1</td>\n",
       "      <td>0</td>\n",
       "      <td>0</td>\n",
       "      <td>1</td>\n",
       "      <td>1</td>\n",
       "      <td>0</td>\n",
       "      <td>0</td>\n",
       "    </tr>\n",
       "    <tr>\n",
       "      <th>2</th>\n",
       "      <td>0</td>\n",
       "      <td>1</td>\n",
       "      <td>1</td>\n",
       "      <td>0</td>\n",
       "      <td>0</td>\n",
       "      <td>1</td>\n",
       "      <td>0</td>\n",
       "      <td>0</td>\n",
       "      <td>1</td>\n",
       "    </tr>\n",
       "    <tr>\n",
       "      <th>3</th>\n",
       "      <td>0</td>\n",
       "      <td>1</td>\n",
       "      <td>0</td>\n",
       "      <td>1</td>\n",
       "      <td>0</td>\n",
       "      <td>1</td>\n",
       "      <td>0</td>\n",
       "      <td>0</td>\n",
       "      <td>1</td>\n",
       "    </tr>\n",
       "    <tr>\n",
       "      <th>4</th>\n",
       "      <td>1</td>\n",
       "      <td>0</td>\n",
       "      <td>1</td>\n",
       "      <td>0</td>\n",
       "      <td>0</td>\n",
       "      <td>1</td>\n",
       "      <td>0</td>\n",
       "      <td>0</td>\n",
       "      <td>1</td>\n",
       "    </tr>\n",
       "  </tbody>\n",
       "</table>\n",
       "</div>"
      ],
      "text/plain": [
       "   Married_No  Married_Yes  Education_Graduate  Education_Not Graduate  \\\n",
       "0           1            0                   1                       0   \n",
       "1           0            1                   1                       0   \n",
       "2           0            1                   1                       0   \n",
       "3           0            1                   0                       1   \n",
       "4           1            0                   1                       0   \n",
       "\n",
       "   Credit_History_0.0  Credit_History_1.0  Property_Area_Rural  \\\n",
       "0                   0                   1                    0   \n",
       "1                   0                   1                    1   \n",
       "2                   0                   1                    0   \n",
       "3                   0                   1                    0   \n",
       "4                   0                   1                    0   \n",
       "\n",
       "   Property_Area_Semiurban  Property_Area_Urban  \n",
       "0                        0                    1  \n",
       "1                        0                    0  \n",
       "2                        0                    1  \n",
       "3                        0                    1  \n",
       "4                        0                    1  "
      ]
     },
     "execution_count": 34,
     "metadata": {},
     "output_type": "execute_result"
    }
   ],
   "source": [
    "X1=pd.get_dummies(X[cat],columns=cat)\n",
    "X1.head()"
   ]
  },
  {
   "cell_type": "code",
   "execution_count": 35,
   "id": "45821391",
   "metadata": {},
   "outputs": [
    {
     "data": {
      "text/html": [
       "<div>\n",
       "<style scoped>\n",
       "    .dataframe tbody tr th:only-of-type {\n",
       "        vertical-align: middle;\n",
       "    }\n",
       "\n",
       "    .dataframe tbody tr th {\n",
       "        vertical-align: top;\n",
       "    }\n",
       "\n",
       "    .dataframe thead th {\n",
       "        text-align: right;\n",
       "    }\n",
       "</style>\n",
       "<table border=\"1\" class=\"dataframe\">\n",
       "  <thead>\n",
       "    <tr style=\"text-align: right;\">\n",
       "      <th></th>\n",
       "      <th>Married_No</th>\n",
       "      <th>Married_Yes</th>\n",
       "      <th>Education_Graduate</th>\n",
       "      <th>Education_Not Graduate</th>\n",
       "      <th>Credit_History_0.0</th>\n",
       "      <th>Credit_History_1.0</th>\n",
       "      <th>Property_Area_Rural</th>\n",
       "      <th>Property_Area_Semiurban</th>\n",
       "      <th>Property_Area_Urban</th>\n",
       "    </tr>\n",
       "  </thead>\n",
       "  <tbody>\n",
       "    <tr>\n",
       "      <th>0</th>\n",
       "      <td>0</td>\n",
       "      <td>1</td>\n",
       "      <td>1</td>\n",
       "      <td>0</td>\n",
       "      <td>0</td>\n",
       "      <td>1</td>\n",
       "      <td>0</td>\n",
       "      <td>0</td>\n",
       "      <td>1</td>\n",
       "    </tr>\n",
       "    <tr>\n",
       "      <th>1</th>\n",
       "      <td>0</td>\n",
       "      <td>1</td>\n",
       "      <td>1</td>\n",
       "      <td>0</td>\n",
       "      <td>0</td>\n",
       "      <td>1</td>\n",
       "      <td>0</td>\n",
       "      <td>0</td>\n",
       "      <td>1</td>\n",
       "    </tr>\n",
       "    <tr>\n",
       "      <th>2</th>\n",
       "      <td>0</td>\n",
       "      <td>1</td>\n",
       "      <td>1</td>\n",
       "      <td>0</td>\n",
       "      <td>0</td>\n",
       "      <td>1</td>\n",
       "      <td>0</td>\n",
       "      <td>0</td>\n",
       "      <td>1</td>\n",
       "    </tr>\n",
       "    <tr>\n",
       "      <th>3</th>\n",
       "      <td>0</td>\n",
       "      <td>1</td>\n",
       "      <td>1</td>\n",
       "      <td>0</td>\n",
       "      <td>0</td>\n",
       "      <td>1</td>\n",
       "      <td>0</td>\n",
       "      <td>0</td>\n",
       "      <td>1</td>\n",
       "    </tr>\n",
       "    <tr>\n",
       "      <th>4</th>\n",
       "      <td>1</td>\n",
       "      <td>0</td>\n",
       "      <td>0</td>\n",
       "      <td>1</td>\n",
       "      <td>0</td>\n",
       "      <td>1</td>\n",
       "      <td>0</td>\n",
       "      <td>0</td>\n",
       "      <td>1</td>\n",
       "    </tr>\n",
       "  </tbody>\n",
       "</table>\n",
       "</div>"
      ],
      "text/plain": [
       "   Married_No  Married_Yes  Education_Graduate  Education_Not Graduate  \\\n",
       "0           0            1                   1                       0   \n",
       "1           0            1                   1                       0   \n",
       "2           0            1                   1                       0   \n",
       "3           0            1                   1                       0   \n",
       "4           1            0                   0                       1   \n",
       "\n",
       "   Credit_History_0.0  Credit_History_1.0  Property_Area_Rural  \\\n",
       "0                   0                   1                    0   \n",
       "1                   0                   1                    0   \n",
       "2                   0                   1                    0   \n",
       "3                   0                   1                    0   \n",
       "4                   0                   1                    0   \n",
       "\n",
       "   Property_Area_Semiurban  Property_Area_Urban  \n",
       "0                        0                    1  \n",
       "1                        0                    1  \n",
       "2                        0                    1  \n",
       "3                        0                    1  \n",
       "4                        0                    1  "
      ]
     },
     "execution_count": 35,
     "metadata": {},
     "output_type": "execute_result"
    }
   ],
   "source": [
    "X1_ts=pd.get_dummies(X_ts[cat],columns=cat)\n",
    "X1_ts.head()"
   ]
  },
  {
   "cell_type": "code",
   "execution_count": 36,
   "id": "c7fd79e7",
   "metadata": {},
   "outputs": [
    {
     "data": {
      "text/html": [
       "<div>\n",
       "<style scoped>\n",
       "    .dataframe tbody tr th:only-of-type {\n",
       "        vertical-align: middle;\n",
       "    }\n",
       "\n",
       "    .dataframe tbody tr th {\n",
       "        vertical-align: top;\n",
       "    }\n",
       "\n",
       "    .dataframe thead th {\n",
       "        text-align: right;\n",
       "    }\n",
       "</style>\n",
       "<table border=\"1\" class=\"dataframe\">\n",
       "  <thead>\n",
       "    <tr style=\"text-align: right;\">\n",
       "      <th></th>\n",
       "      <th>ApplicantIncome</th>\n",
       "      <th>CoapplicantIncome</th>\n",
       "      <th>LoanAmount</th>\n",
       "      <th>Loan_Amount_Term</th>\n",
       "    </tr>\n",
       "  </thead>\n",
       "  <tbody>\n",
       "    <tr>\n",
       "      <th>0</th>\n",
       "      <td>0.743736</td>\n",
       "      <td>0.000000</td>\n",
       "      <td>0.745189</td>\n",
       "      <td>0.6</td>\n",
       "    </tr>\n",
       "    <tr>\n",
       "      <th>1</th>\n",
       "      <td>0.727729</td>\n",
       "      <td>0.803992</td>\n",
       "      <td>0.709282</td>\n",
       "      <td>0.6</td>\n",
       "    </tr>\n",
       "    <tr>\n",
       "      <th>2</th>\n",
       "      <td>0.608189</td>\n",
       "      <td>0.000000</td>\n",
       "      <td>0.532316</td>\n",
       "      <td>0.6</td>\n",
       "    </tr>\n",
       "    <tr>\n",
       "      <th>3</th>\n",
       "      <td>0.577805</td>\n",
       "      <td>0.853101</td>\n",
       "      <td>0.692040</td>\n",
       "      <td>0.6</td>\n",
       "    </tr>\n",
       "    <tr>\n",
       "      <th>4</th>\n",
       "      <td>0.748911</td>\n",
       "      <td>0.000000</td>\n",
       "      <td>0.735125</td>\n",
       "      <td>0.6</td>\n",
       "    </tr>\n",
       "  </tbody>\n",
       "</table>\n",
       "</div>"
      ],
      "text/plain": [
       "   ApplicantIncome  CoapplicantIncome  LoanAmount  Loan_Amount_Term\n",
       "0         0.743736           0.000000    0.745189               0.6\n",
       "1         0.727729           0.803992    0.709282               0.6\n",
       "2         0.608189           0.000000    0.532316               0.6\n",
       "3         0.577805           0.853101    0.692040               0.6\n",
       "4         0.748911           0.000000    0.735125               0.6"
      ]
     },
     "execution_count": 36,
     "metadata": {},
     "output_type": "execute_result"
    }
   ],
   "source": [
    "from sklearn.preprocessing import MinMaxScaler\n",
    "mm=MinMaxScaler()\n",
    "X2= pd.DataFrame(mm.fit_transform(X[con]),columns=con)\n",
    "X2.head()"
   ]
  },
  {
   "cell_type": "code",
   "execution_count": 37,
   "id": "33e91a1c",
   "metadata": {},
   "outputs": [
    {
     "data": {
      "text/html": [
       "<div>\n",
       "<style scoped>\n",
       "    .dataframe tbody tr th:only-of-type {\n",
       "        vertical-align: middle;\n",
       "    }\n",
       "\n",
       "    .dataframe tbody tr th {\n",
       "        vertical-align: top;\n",
       "    }\n",
       "\n",
       "    .dataframe thead th {\n",
       "        text-align: right;\n",
       "    }\n",
       "</style>\n",
       "<table border=\"1\" class=\"dataframe\">\n",
       "  <thead>\n",
       "    <tr style=\"text-align: right;\">\n",
       "      <th></th>\n",
       "      <th>ApplicantIncome</th>\n",
       "      <th>CoapplicantIncome</th>\n",
       "      <th>LoanAmount</th>\n",
       "      <th>Loan_Amount_Term</th>\n",
       "    </tr>\n",
       "  </thead>\n",
       "  <tbody>\n",
       "    <tr>\n",
       "      <th>0</th>\n",
       "      <td>0.739209</td>\n",
       "      <td>0.000000</td>\n",
       "      <td>0.668793</td>\n",
       "      <td>0.6</td>\n",
       "    </tr>\n",
       "    <tr>\n",
       "      <th>1</th>\n",
       "      <td>0.613268</td>\n",
       "      <td>0.803407</td>\n",
       "      <td>0.705075</td>\n",
       "      <td>0.6</td>\n",
       "    </tr>\n",
       "    <tr>\n",
       "      <th>2</th>\n",
       "      <td>0.711896</td>\n",
       "      <td>0.823437</td>\n",
       "      <td>0.838995</td>\n",
       "      <td>0.6</td>\n",
       "    </tr>\n",
       "    <tr>\n",
       "      <th>3</th>\n",
       "      <td>0.557747</td>\n",
       "      <td>0.861528</td>\n",
       "      <td>0.643329</td>\n",
       "      <td>0.6</td>\n",
       "    </tr>\n",
       "    <tr>\n",
       "      <th>4</th>\n",
       "      <td>0.626057</td>\n",
       "      <td>0.000000</td>\n",
       "      <td>0.576948</td>\n",
       "      <td>0.6</td>\n",
       "    </tr>\n",
       "  </tbody>\n",
       "</table>\n",
       "</div>"
      ],
      "text/plain": [
       "   ApplicantIncome  CoapplicantIncome  LoanAmount  Loan_Amount_Term\n",
       "0         0.739209           0.000000    0.668793               0.6\n",
       "1         0.613268           0.803407    0.705075               0.6\n",
       "2         0.711896           0.823437    0.838995               0.6\n",
       "3         0.557747           0.861528    0.643329               0.6\n",
       "4         0.626057           0.000000    0.576948               0.6"
      ]
     },
     "execution_count": 37,
     "metadata": {},
     "output_type": "execute_result"
    }
   ],
   "source": [
    "X2_ts= pd.DataFrame(mm.transform(X_ts[con]),columns=con)\n",
    "X2_ts.head()"
   ]
  },
  {
   "cell_type": "markdown",
   "id": "034d1666",
   "metadata": {},
   "source": [
    "# create new data frame combining both catagoriacal one hot encoded dataframe and scaled continous columns dataframe"
   ]
  },
  {
   "cell_type": "code",
   "execution_count": 38,
   "id": "93f676fd",
   "metadata": {
    "scrolled": true
   },
   "outputs": [
    {
     "data": {
      "text/html": [
       "<div>\n",
       "<style scoped>\n",
       "    .dataframe tbody tr th:only-of-type {\n",
       "        vertical-align: middle;\n",
       "    }\n",
       "\n",
       "    .dataframe tbody tr th {\n",
       "        vertical-align: top;\n",
       "    }\n",
       "\n",
       "    .dataframe thead th {\n",
       "        text-align: right;\n",
       "    }\n",
       "</style>\n",
       "<table border=\"1\" class=\"dataframe\">\n",
       "  <thead>\n",
       "    <tr style=\"text-align: right;\">\n",
       "      <th></th>\n",
       "      <th>Married_No</th>\n",
       "      <th>Married_Yes</th>\n",
       "      <th>Education_Graduate</th>\n",
       "      <th>Education_Not Graduate</th>\n",
       "      <th>Credit_History_0.0</th>\n",
       "      <th>Credit_History_1.0</th>\n",
       "      <th>Property_Area_Rural</th>\n",
       "      <th>Property_Area_Semiurban</th>\n",
       "      <th>Property_Area_Urban</th>\n",
       "      <th>ApplicantIncome</th>\n",
       "      <th>CoapplicantIncome</th>\n",
       "      <th>LoanAmount</th>\n",
       "      <th>Loan_Amount_Term</th>\n",
       "    </tr>\n",
       "  </thead>\n",
       "  <tbody>\n",
       "    <tr>\n",
       "      <th>0</th>\n",
       "      <td>1</td>\n",
       "      <td>0</td>\n",
       "      <td>1</td>\n",
       "      <td>0</td>\n",
       "      <td>0</td>\n",
       "      <td>1</td>\n",
       "      <td>0</td>\n",
       "      <td>0</td>\n",
       "      <td>1</td>\n",
       "      <td>0.743736</td>\n",
       "      <td>0.000000</td>\n",
       "      <td>0.745189</td>\n",
       "      <td>0.6</td>\n",
       "    </tr>\n",
       "    <tr>\n",
       "      <th>1</th>\n",
       "      <td>0</td>\n",
       "      <td>1</td>\n",
       "      <td>1</td>\n",
       "      <td>0</td>\n",
       "      <td>0</td>\n",
       "      <td>1</td>\n",
       "      <td>1</td>\n",
       "      <td>0</td>\n",
       "      <td>0</td>\n",
       "      <td>0.727729</td>\n",
       "      <td>0.803992</td>\n",
       "      <td>0.709282</td>\n",
       "      <td>0.6</td>\n",
       "    </tr>\n",
       "    <tr>\n",
       "      <th>2</th>\n",
       "      <td>0</td>\n",
       "      <td>1</td>\n",
       "      <td>1</td>\n",
       "      <td>0</td>\n",
       "      <td>0</td>\n",
       "      <td>1</td>\n",
       "      <td>0</td>\n",
       "      <td>0</td>\n",
       "      <td>1</td>\n",
       "      <td>0.608189</td>\n",
       "      <td>0.000000</td>\n",
       "      <td>0.532316</td>\n",
       "      <td>0.6</td>\n",
       "    </tr>\n",
       "    <tr>\n",
       "      <th>3</th>\n",
       "      <td>0</td>\n",
       "      <td>1</td>\n",
       "      <td>0</td>\n",
       "      <td>1</td>\n",
       "      <td>0</td>\n",
       "      <td>1</td>\n",
       "      <td>0</td>\n",
       "      <td>0</td>\n",
       "      <td>1</td>\n",
       "      <td>0.577805</td>\n",
       "      <td>0.853101</td>\n",
       "      <td>0.692040</td>\n",
       "      <td>0.6</td>\n",
       "    </tr>\n",
       "    <tr>\n",
       "      <th>4</th>\n",
       "      <td>1</td>\n",
       "      <td>0</td>\n",
       "      <td>1</td>\n",
       "      <td>0</td>\n",
       "      <td>0</td>\n",
       "      <td>1</td>\n",
       "      <td>0</td>\n",
       "      <td>0</td>\n",
       "      <td>1</td>\n",
       "      <td>0.748911</td>\n",
       "      <td>0.000000</td>\n",
       "      <td>0.735125</td>\n",
       "      <td>0.6</td>\n",
       "    </tr>\n",
       "  </tbody>\n",
       "</table>\n",
       "</div>"
      ],
      "text/plain": [
       "   Married_No  Married_Yes  Education_Graduate  Education_Not Graduate  \\\n",
       "0           1            0                   1                       0   \n",
       "1           0            1                   1                       0   \n",
       "2           0            1                   1                       0   \n",
       "3           0            1                   0                       1   \n",
       "4           1            0                   1                       0   \n",
       "\n",
       "   Credit_History_0.0  Credit_History_1.0  Property_Area_Rural  \\\n",
       "0                   0                   1                    0   \n",
       "1                   0                   1                    1   \n",
       "2                   0                   1                    0   \n",
       "3                   0                   1                    0   \n",
       "4                   0                   1                    0   \n",
       "\n",
       "   Property_Area_Semiurban  Property_Area_Urban  ApplicantIncome  \\\n",
       "0                        0                    1         0.743736   \n",
       "1                        0                    0         0.727729   \n",
       "2                        0                    1         0.608189   \n",
       "3                        0                    1         0.577805   \n",
       "4                        0                    1         0.748911   \n",
       "\n",
       "   CoapplicantIncome  LoanAmount  Loan_Amount_Term  \n",
       "0           0.000000    0.745189               0.6  \n",
       "1           0.803992    0.709282               0.6  \n",
       "2           0.000000    0.532316               0.6  \n",
       "3           0.853101    0.692040               0.6  \n",
       "4           0.000000    0.735125               0.6  "
      ]
     },
     "execution_count": 38,
     "metadata": {},
     "output_type": "execute_result"
    }
   ],
   "source": [
    "Xnew =X1.join(X2)\n",
    "Xnew.head()"
   ]
  },
  {
   "cell_type": "code",
   "execution_count": 39,
   "id": "3aa7ea2b",
   "metadata": {},
   "outputs": [
    {
     "data": {
      "text/html": [
       "<div>\n",
       "<style scoped>\n",
       "    .dataframe tbody tr th:only-of-type {\n",
       "        vertical-align: middle;\n",
       "    }\n",
       "\n",
       "    .dataframe tbody tr th {\n",
       "        vertical-align: top;\n",
       "    }\n",
       "\n",
       "    .dataframe thead th {\n",
       "        text-align: right;\n",
       "    }\n",
       "</style>\n",
       "<table border=\"1\" class=\"dataframe\">\n",
       "  <thead>\n",
       "    <tr style=\"text-align: right;\">\n",
       "      <th></th>\n",
       "      <th>Married_No</th>\n",
       "      <th>Married_Yes</th>\n",
       "      <th>Education_Graduate</th>\n",
       "      <th>Education_Not Graduate</th>\n",
       "      <th>Credit_History_0.0</th>\n",
       "      <th>Credit_History_1.0</th>\n",
       "      <th>Property_Area_Rural</th>\n",
       "      <th>Property_Area_Semiurban</th>\n",
       "      <th>Property_Area_Urban</th>\n",
       "      <th>ApplicantIncome</th>\n",
       "      <th>CoapplicantIncome</th>\n",
       "      <th>LoanAmount</th>\n",
       "      <th>Loan_Amount_Term</th>\n",
       "    </tr>\n",
       "  </thead>\n",
       "  <tbody>\n",
       "    <tr>\n",
       "      <th>0</th>\n",
       "      <td>0</td>\n",
       "      <td>1</td>\n",
       "      <td>1</td>\n",
       "      <td>0</td>\n",
       "      <td>0</td>\n",
       "      <td>1</td>\n",
       "      <td>0</td>\n",
       "      <td>0</td>\n",
       "      <td>1</td>\n",
       "      <td>0.739209</td>\n",
       "      <td>0.000000</td>\n",
       "      <td>0.668793</td>\n",
       "      <td>0.6</td>\n",
       "    </tr>\n",
       "    <tr>\n",
       "      <th>1</th>\n",
       "      <td>0</td>\n",
       "      <td>1</td>\n",
       "      <td>1</td>\n",
       "      <td>0</td>\n",
       "      <td>0</td>\n",
       "      <td>1</td>\n",
       "      <td>0</td>\n",
       "      <td>0</td>\n",
       "      <td>1</td>\n",
       "      <td>0.613268</td>\n",
       "      <td>0.803407</td>\n",
       "      <td>0.705075</td>\n",
       "      <td>0.6</td>\n",
       "    </tr>\n",
       "    <tr>\n",
       "      <th>2</th>\n",
       "      <td>0</td>\n",
       "      <td>1</td>\n",
       "      <td>1</td>\n",
       "      <td>0</td>\n",
       "      <td>0</td>\n",
       "      <td>1</td>\n",
       "      <td>0</td>\n",
       "      <td>0</td>\n",
       "      <td>1</td>\n",
       "      <td>0.711896</td>\n",
       "      <td>0.823437</td>\n",
       "      <td>0.838995</td>\n",
       "      <td>0.6</td>\n",
       "    </tr>\n",
       "    <tr>\n",
       "      <th>3</th>\n",
       "      <td>0</td>\n",
       "      <td>1</td>\n",
       "      <td>1</td>\n",
       "      <td>0</td>\n",
       "      <td>0</td>\n",
       "      <td>1</td>\n",
       "      <td>0</td>\n",
       "      <td>0</td>\n",
       "      <td>1</td>\n",
       "      <td>0.557747</td>\n",
       "      <td>0.861528</td>\n",
       "      <td>0.643329</td>\n",
       "      <td>0.6</td>\n",
       "    </tr>\n",
       "    <tr>\n",
       "      <th>4</th>\n",
       "      <td>1</td>\n",
       "      <td>0</td>\n",
       "      <td>0</td>\n",
       "      <td>1</td>\n",
       "      <td>0</td>\n",
       "      <td>1</td>\n",
       "      <td>0</td>\n",
       "      <td>0</td>\n",
       "      <td>1</td>\n",
       "      <td>0.626057</td>\n",
       "      <td>0.000000</td>\n",
       "      <td>0.576948</td>\n",
       "      <td>0.6</td>\n",
       "    </tr>\n",
       "  </tbody>\n",
       "</table>\n",
       "</div>"
      ],
      "text/plain": [
       "   Married_No  Married_Yes  Education_Graduate  Education_Not Graduate  \\\n",
       "0           0            1                   1                       0   \n",
       "1           0            1                   1                       0   \n",
       "2           0            1                   1                       0   \n",
       "3           0            1                   1                       0   \n",
       "4           1            0                   0                       1   \n",
       "\n",
       "   Credit_History_0.0  Credit_History_1.0  Property_Area_Rural  \\\n",
       "0                   0                   1                    0   \n",
       "1                   0                   1                    0   \n",
       "2                   0                   1                    0   \n",
       "3                   0                   1                    0   \n",
       "4                   0                   1                    0   \n",
       "\n",
       "   Property_Area_Semiurban  Property_Area_Urban  ApplicantIncome  \\\n",
       "0                        0                    1         0.739209   \n",
       "1                        0                    1         0.613268   \n",
       "2                        0                    1         0.711896   \n",
       "3                        0                    1         0.557747   \n",
       "4                        0                    1         0.626057   \n",
       "\n",
       "   CoapplicantIncome  LoanAmount  Loan_Amount_Term  \n",
       "0           0.000000    0.668793               0.6  \n",
       "1           0.803407    0.705075               0.6  \n",
       "2           0.823437    0.838995               0.6  \n",
       "3           0.861528    0.643329               0.6  \n",
       "4           0.000000    0.576948               0.6  "
      ]
     },
     "execution_count": 39,
     "metadata": {},
     "output_type": "execute_result"
    }
   ],
   "source": [
    "Xnew_ts =X1_ts.join(X2_ts)\n",
    "Xnew_ts.head()"
   ]
  },
  {
   "cell_type": "markdown",
   "id": "389aa22d",
   "metadata": {},
   "source": [
    "# Divide this dataset into training and testing dataset\n",
    "using test size = 0.2\n",
    "    randam state as 42"
   ]
  },
  {
   "cell_type": "code",
   "execution_count": 40,
   "id": "3525a801",
   "metadata": {},
   "outputs": [],
   "source": [
    "from sklearn.model_selection import train_test_split\n",
    "xtrain,xtest,ytrain,ytest=train_test_split(Xnew,Y,test_size=0.2,random_state=42)"
   ]
  },
  {
   "cell_type": "markdown",
   "id": "494816ea",
   "metadata": {},
   "source": [
    "#As this is classification problem , we will check differnt classifer for this dataset.\n",
    "\n",
    "whichever calssifier gives best results will be used for final traing"
   ]
  },
  {
   "cell_type": "markdown",
   "id": "a0383aed",
   "metadata": {},
   "source": [
    "we will try following classifiers\n",
    "1) Logistic regession\n",
    "\n",
    "2) Decision Tree\n",
    "\n",
    "3) k-nearest neighbour\n",
    "\n",
    "4) Random forest\n",
    "\n",
    "5) decision tree with Adaboost regressor"
   ]
  },
  {
   "cell_type": "markdown",
   "id": "a40c86a0",
   "metadata": {},
   "source": [
    "# Function for calculating accuracy score of the model"
   ]
  },
  {
   "cell_type": "code",
   "execution_count": 41,
   "id": "921247aa",
   "metadata": {},
   "outputs": [],
   "source": [
    "def acc_score(obj):\n",
    "    \n",
    "    model = obj.fit(xtrain,ytrain)\n",
    "    \n",
    "    tr_pred = model.predict(xtrain)\n",
    "    ts_pred= model.predict(xtest)\n",
    "    \n",
    "    from sklearn.metrics import accuracy_score\n",
    "    tr_acc = accuracy_score(ytrain, tr_pred)\n",
    "    ts_acc = accuracy_score(ytest, ts_pred)\n",
    "    \n",
    "    return tr_acc,ts_acc"
   ]
  },
  {
   "cell_type": "markdown",
   "id": "76075e52",
   "metadata": {},
   "source": [
    "# Logistic regression"
   ]
  },
  {
   "cell_type": "code",
   "execution_count": 42,
   "id": "c8f66828",
   "metadata": {},
   "outputs": [],
   "source": [
    "from sklearn.linear_model import LogisticRegression\n",
    "lr=LogisticRegression()\n",
    "lr_1=LogisticRegression( penalty='l1',solver='saga')\n",
    "lr_2=LogisticRegression( penalty='none',solver='lbfgs')"
   ]
  },
  {
   "cell_type": "code",
   "execution_count": 43,
   "id": "03a8dc35",
   "metadata": {},
   "outputs": [
    {
     "data": {
      "text/plain": [
       "(0.8156182212581344, 0.8275862068965517)"
      ]
     },
     "execution_count": 43,
     "metadata": {},
     "output_type": "execute_result"
    }
   ],
   "source": [
    "acc_score(lr)"
   ]
  },
  {
   "cell_type": "code",
   "execution_count": 44,
   "id": "6d3d62a5",
   "metadata": {},
   "outputs": [
    {
     "data": {
      "text/plain": [
       "(0.8156182212581344, 0.8275862068965517)"
      ]
     },
     "execution_count": 44,
     "metadata": {},
     "output_type": "execute_result"
    }
   ],
   "source": [
    "acc_score(lr_1)"
   ]
  },
  {
   "cell_type": "code",
   "execution_count": 45,
   "id": "a3f42df7",
   "metadata": {},
   "outputs": [
    {
     "data": {
      "text/plain": [
       "(0.8156182212581344, 0.8275862068965517)"
      ]
     },
     "execution_count": 45,
     "metadata": {},
     "output_type": "execute_result"
    }
   ],
   "source": [
    "acc_score(lr_2)"
   ]
  },
  {
   "cell_type": "markdown",
   "id": "d2b5b323",
   "metadata": {},
   "source": [
    "# K-Nearest neighbour"
   ]
  },
  {
   "cell_type": "code",
   "execution_count": 46,
   "id": "51610bd6",
   "metadata": {},
   "outputs": [],
   "source": [
    "from sklearn.neighbors import KNeighborsClassifier\n",
    "knc = KNeighborsClassifier(n_neighbors=10,n_jobs=500)"
   ]
  },
  {
   "cell_type": "code",
   "execution_count": 47,
   "id": "9ae891ab",
   "metadata": {},
   "outputs": [
    {
     "data": {
      "text/plain": [
       "(0.8047722342733189, 0.7844827586206896)"
      ]
     },
     "execution_count": 47,
     "metadata": {},
     "output_type": "execute_result"
    }
   ],
   "source": [
    "acc_score(knc)"
   ]
  },
  {
   "cell_type": "markdown",
   "id": "5fed31b6",
   "metadata": {},
   "source": [
    "# Decision Tree classifier"
   ]
  },
  {
   "cell_type": "code",
   "execution_count": 48,
   "id": "761ec63a",
   "metadata": {},
   "outputs": [],
   "source": [
    "from sklearn.tree import DecisionTreeClassifier\n",
    "dtc_1 = DecisionTreeClassifier(criterion=\"gini\")\n",
    "dtc_2 = DecisionTreeClassifier(criterion=\"entropy\")"
   ]
  },
  {
   "cell_type": "code",
   "execution_count": 49,
   "id": "8f5fe4ec",
   "metadata": {},
   "outputs": [
    {
     "data": {
      "text/plain": [
       "(1.0, 0.7413793103448276)"
      ]
     },
     "execution_count": 49,
     "metadata": {},
     "output_type": "execute_result"
    }
   ],
   "source": [
    "acc_score(dtc_1)"
   ]
  },
  {
   "cell_type": "code",
   "execution_count": 50,
   "id": "65c0a469",
   "metadata": {},
   "outputs": [
    {
     "data": {
      "text/plain": [
       "(1.0, 0.8017241379310345)"
      ]
     },
     "execution_count": 50,
     "metadata": {},
     "output_type": "execute_result"
    }
   ],
   "source": [
    "acc_score(dtc_2)"
   ]
  },
  {
   "cell_type": "code",
   "execution_count": 51,
   "id": "4cf4a0ba",
   "metadata": {
    "scrolled": true
   },
   "outputs": [
    {
     "name": "stdout",
     "output_type": "stream",
     "text": [
      "2 (0.8199566160520607, 0.8103448275862069)\n",
      "3 (0.824295010845987, 0.8189655172413793)\n",
      "4 (0.8351409978308026, 0.8103448275862069)\n",
      "5 (0.8481561822125814, 0.8017241379310345)\n",
      "6 (0.8655097613882863, 0.8103448275862069)\n",
      "7 (0.8720173535791758, 0.7672413793103449)\n",
      "8 (0.8893709327548807, 0.7844827586206896)\n",
      "9 (0.9219088937093276, 0.7586206896551724)\n",
      "10 (0.9349240780911063, 0.7327586206896551)\n",
      "11 (0.9544468546637744, 0.7327586206896551)\n",
      "12 (0.9674620390455532, 0.7327586206896551)\n",
      "13 (0.982646420824295, 0.7327586206896551)\n",
      "14 (0.9913232104121475, 0.7586206896551724)\n",
      "15 (0.9978308026030369, 0.7241379310344828)\n",
      "16 (1.0, 0.7413793103448276)\n",
      "17 (1.0, 0.7413793103448276)\n",
      "18 (1.0, 0.7327586206896551)\n",
      "19 (1.0, 0.7672413793103449)\n",
      "20 (1.0, 0.7155172413793104)\n",
      "21 (1.0, 0.75)\n",
      "22 (1.0, 0.7327586206896551)\n",
      "23 (1.0, 0.7241379310344828)\n",
      "24 (1.0, 0.7241379310344828)\n",
      "25 (1.0, 0.7413793103448276)\n",
      "26 (1.0, 0.6982758620689655)\n",
      "27 (1.0, 0.7155172413793104)\n",
      "28 (1.0, 0.7155172413793104)\n",
      "29 (1.0, 0.7327586206896551)\n"
     ]
    }
   ],
   "source": [
    "for i in range(2,30):\n",
    "    dtc_3=DecisionTreeClassifier(max_depth=i)\n",
    "    print(i,acc_score(dtc_3))"
   ]
  },
  {
   "cell_type": "code",
   "execution_count": 52,
   "id": "c7adc6f1",
   "metadata": {},
   "outputs": [
    {
     "name": "stdout",
     "output_type": "stream",
     "text": [
      "2 (1.0, 0.7586206896551724)\n",
      "3 (1.0, 0.7155172413793104)\n",
      "4 (1.0, 0.7155172413793104)\n",
      "5 (1.0, 0.75)\n",
      "6 (1.0, 0.7241379310344828)\n",
      "7 (1.0, 0.7327586206896551)\n",
      "8 (1.0, 0.7327586206896551)\n",
      "9 (1.0, 0.7327586206896551)\n"
     ]
    }
   ],
   "source": [
    "for i in range(2,10):\n",
    "    dtc_4=DecisionTreeClassifier(min_samples_split=i)\n",
    "    print(i,acc_score(dtc_3))"
   ]
  },
  {
   "cell_type": "code",
   "execution_count": 53,
   "id": "e9298d62",
   "metadata": {},
   "outputs": [
    {
     "name": "stdout",
     "output_type": "stream",
     "text": [
      "2 (1.0, 0.7241379310344828)\n",
      "3 (1.0, 0.7413793103448276)\n",
      "4 (1.0, 0.75)\n",
      "5 (1.0, 0.75)\n",
      "6 (1.0, 0.7327586206896551)\n",
      "7 (1.0, 0.7327586206896551)\n",
      "8 (1.0, 0.7327586206896551)\n",
      "9 (1.0, 0.7672413793103449)\n",
      "10 (1.0, 0.7068965517241379)\n",
      "11 (1.0, 0.7327586206896551)\n",
      "12 (1.0, 0.75)\n",
      "13 (1.0, 0.75)\n",
      "14 (1.0, 0.75)\n",
      "15 (1.0, 0.7241379310344828)\n",
      "16 (1.0, 0.7155172413793104)\n",
      "17 (1.0, 0.7672413793103449)\n",
      "18 (1.0, 0.7413793103448276)\n",
      "19 (1.0, 0.75)\n",
      "20 (1.0, 0.7413793103448276)\n",
      "21 (1.0, 0.7586206896551724)\n",
      "22 (1.0, 0.7413793103448276)\n",
      "23 (1.0, 0.7413793103448276)\n",
      "24 (1.0, 0.7586206896551724)\n",
      "25 (1.0, 0.7327586206896551)\n",
      "26 (1.0, 0.75)\n",
      "27 (1.0, 0.6982758620689655)\n",
      "28 (1.0, 0.75)\n",
      "29 (1.0, 0.75)\n"
     ]
    }
   ],
   "source": [
    "for i in range(2,30):\n",
    "    dtc_5=DecisionTreeClassifier(max_leaf_nodes=i)\n",
    "    print(i,acc_score(dtc_3))"
   ]
  },
  {
   "cell_type": "markdown",
   "id": "19a6037f",
   "metadata": {},
   "source": [
    "# tuning the decision tree model for best parameters"
   ]
  },
  {
   "cell_type": "code",
   "execution_count": 54,
   "id": "d1f60b7d",
   "metadata": {},
   "outputs": [],
   "source": [
    "tg = {\n",
    "    \"criterion\" : [\"gini\",\"entropy\"],\n",
    "    \"max_depth\" : range(2,20,1),\n",
    "    \"min_samples_split\" : range(2,20,1),\n",
    "    \"max_leaf_nodes\" : range(2,20,1)\n",
    "    }"
   ]
  },
  {
   "cell_type": "code",
   "execution_count": null,
   "id": "0efced89",
   "metadata": {},
   "outputs": [],
   "source": [
    "dtc_6=DecisionTreeClassifier(random_state=42)\n",
    "from sklearn.model_selection import GridSearchCV\n",
    "cv=GridSearchCV(dtc_6,tg,cv=5,n_jobs=100,scoring=\"accuracy\")"
   ]
  },
  {
   "cell_type": "code",
   "execution_count": null,
   "id": "466eb159",
   "metadata": {},
   "outputs": [],
   "source": [
    "#cv.fit(xtrain,ytrain)\n",
    "#cv.best_estimator_,cv.best_score_,cv.best_params_"
   ]
  },
  {
   "cell_type": "code",
   "execution_count": null,
   "id": "1065c7ef",
   "metadata": {},
   "outputs": [],
   "source": [
    "#import sklearn.metrics\n",
    "#sklearn.metrics.get_scorer_names()"
   ]
  },
  {
   "cell_type": "markdown",
   "id": "db7cd681",
   "metadata": {},
   "source": [
    "# Randoam forest classifier"
   ]
  },
  {
   "cell_type": "code",
   "execution_count": 55,
   "id": "f1295eda",
   "metadata": {},
   "outputs": [],
   "source": [
    "from sklearn.ensemble import RandomForestClassifier\n",
    "rfc=RandomForestClassifier(n_estimators=200)"
   ]
  },
  {
   "cell_type": "code",
   "execution_count": 56,
   "id": "42b5b61e",
   "metadata": {},
   "outputs": [
    {
     "data": {
      "text/plain": [
       "(1.0, 0.8275862068965517)"
      ]
     },
     "execution_count": 56,
     "metadata": {},
     "output_type": "execute_result"
    }
   ],
   "source": [
    "acc_score(rfc)"
   ]
  },
  {
   "cell_type": "markdown",
   "id": "aa6d498c",
   "metadata": {},
   "source": [
    "# Adaboost classifier"
   ]
  },
  {
   "cell_type": "code",
   "execution_count": 59,
   "id": "27ffdbb0",
   "metadata": {},
   "outputs": [],
   "source": [
    "from sklearn.ensemble import AdaBoostClassifier\n",
    "abc=AdaBoostClassifier(base_estimator=DecisionTreeClassifier(criterion=\"gini\",max_depth=2,random_state=42),n_estimators=500,random_state=42)"
   ]
  },
  {
   "cell_type": "code",
   "execution_count": 60,
   "id": "4f32c115",
   "metadata": {},
   "outputs": [
    {
     "data": {
      "text/plain": [
       "(1.0, 0.7586206896551724)"
      ]
     },
     "execution_count": 60,
     "metadata": {},
     "output_type": "execute_result"
    }
   ],
   "source": [
    "acc_score(abc)"
   ]
  },
  {
   "cell_type": "markdown",
   "id": "a78fcbd8",
   "metadata": {},
   "source": [
    "# Boosting different alogs for better test accuracy"
   ]
  },
  {
   "cell_type": "code",
   "execution_count": 61,
   "id": "7f5d304f",
   "metadata": {},
   "outputs": [],
   "source": [
    "abc_2=AdaBoostClassifier(base_estimator=RandomForestClassifier(n_estimators=100,criterion='entropy',max_depth=2),n_estimators=500,random_state=42)"
   ]
  },
  {
   "cell_type": "code",
   "execution_count": 62,
   "id": "0943d50e",
   "metadata": {},
   "outputs": [
    {
     "data": {
      "text/plain": [
       "(1.0, 0.7844827586206896)"
      ]
     },
     "execution_count": 62,
     "metadata": {},
     "output_type": "execute_result"
    }
   ],
   "source": [
    "acc_score(abc_2)"
   ]
  },
  {
   "cell_type": "code",
   "execution_count": 63,
   "id": "3aa0d794",
   "metadata": {},
   "outputs": [],
   "source": [
    "abc_3=AdaBoostClassifier(base_estimator=rfc,n_estimators=500,random_state=42)"
   ]
  },
  {
   "cell_type": "code",
   "execution_count": 64,
   "id": "37e979e3",
   "metadata": {},
   "outputs": [
    {
     "data": {
      "text/plain": [
       "(1.0, 0.8189655172413793)"
      ]
     },
     "execution_count": 64,
     "metadata": {},
     "output_type": "execute_result"
    }
   ],
   "source": [
    "acc_score(abc_3)"
   ]
  },
  {
   "cell_type": "code",
   "execution_count": 65,
   "id": "736b7ccc",
   "metadata": {},
   "outputs": [
    {
     "data": {
      "text/plain": [
       "(0.8156182212581344, 0.8275862068965517)"
      ]
     },
     "execution_count": 65,
     "metadata": {},
     "output_type": "execute_result"
    }
   ],
   "source": [
    "abc_4=AdaBoostClassifier(base_estimator=lr,n_estimators=500,random_state=42)\n",
    "acc_score(abc_4)"
   ]
  },
  {
   "cell_type": "markdown",
   "id": "e0000817",
   "metadata": {},
   "source": [
    "# Selecting Best Model"
   ]
  },
  {
   "cell_type": "markdown",
   "id": "bd1ff02e",
   "metadata": {},
   "source": [
    "By comparing accuracy of different models, it seems Logistic regression model with Adaboostregressor gives best traing and testing accuracy score"
   ]
  },
  {
   "cell_type": "code",
   "execution_count": 66,
   "id": "5e2d27ad",
   "metadata": {},
   "outputs": [],
   "source": [
    "abc_5=AdaBoostClassifier(base_estimator=lr,n_estimators=500)"
   ]
  },
  {
   "cell_type": "code",
   "execution_count": 67,
   "id": "43f33d7f",
   "metadata": {},
   "outputs": [],
   "source": [
    "final_model=abc_5.fit(Xnew,Y)"
   ]
  },
  {
   "cell_type": "code",
   "execution_count": 68,
   "id": "03eb3b9b",
   "metadata": {},
   "outputs": [
    {
     "data": {
      "text/plain": [
       "0.8180242634315424"
      ]
     },
     "execution_count": 68,
     "metadata": {},
     "output_type": "execute_result"
    }
   ],
   "source": [
    "final_model.score(Xnew,Y)"
   ]
  },
  {
   "cell_type": "markdown",
   "id": "5f5beeb9",
   "metadata": {},
   "source": [
    "# Deleting the unwanted columns form testing data set"
   ]
  },
  {
   "cell_type": "code",
   "execution_count": 69,
   "id": "b1552a3d",
   "metadata": {},
   "outputs": [],
   "source": [
    "drop_col = []\n",
    "for i in Xnew_ts.columns:\n",
    "    if (i not in Xnew.columns):\n",
    "        drop_col.append(i)    "
   ]
  },
  {
   "cell_type": "code",
   "execution_count": 70,
   "id": "a1d11b5d",
   "metadata": {},
   "outputs": [
    {
     "data": {
      "text/plain": [
       "[]"
      ]
     },
     "execution_count": 70,
     "metadata": {},
     "output_type": "execute_result"
    }
   ],
   "source": [
    "drop_col"
   ]
  },
  {
   "cell_type": "code",
   "execution_count": 71,
   "id": "35d16201",
   "metadata": {},
   "outputs": [
    {
     "data": {
      "text/plain": [
       "[]"
      ]
     },
     "execution_count": 71,
     "metadata": {},
     "output_type": "execute_result"
    }
   ],
   "source": [
    "add_col = []\n",
    "for i in Xnew.columns:\n",
    "    if (i not in Xnew_ts.columns):\n",
    "        add_col.append(i)    \n",
    "add_col"
   ]
  },
  {
   "cell_type": "code",
   "execution_count": 72,
   "id": "3d02a2ac",
   "metadata": {},
   "outputs": [],
   "source": [
    "Xnew_ts=Xnew_ts.drop(labels=drop_col,axis=1)"
   ]
  },
  {
   "cell_type": "code",
   "execution_count": 73,
   "id": "f7bf7d93",
   "metadata": {},
   "outputs": [],
   "source": [
    "pred= final_model.predict(Xnew_ts)"
   ]
  },
  {
   "cell_type": "code",
   "execution_count": 74,
   "id": "80c68403",
   "metadata": {},
   "outputs": [
    {
     "data": {
      "text/plain": [
       "array(['Y', 'Y', 'Y', 'Y', 'Y', 'Y', 'Y', 'N', 'Y', 'Y', 'Y', 'Y', 'Y',\n",
       "       'N', 'Y', 'Y', 'Y', 'Y', 'Y', 'Y', 'Y', 'Y', 'Y', 'Y', 'Y', 'N',\n",
       "       'Y', 'Y', 'Y', 'Y', 'Y', 'Y', 'Y', 'Y', 'Y', 'N', 'Y', 'Y', 'Y',\n",
       "       'Y', 'Y', 'Y', 'Y', 'Y', 'Y', 'Y', 'Y', 'Y', 'Y', 'Y', 'Y', 'Y',\n",
       "       'Y', 'Y', 'Y', 'N', 'Y', 'Y', 'N', 'Y', 'Y', 'Y', 'Y', 'N', 'Y',\n",
       "       'Y', 'N', 'N', 'Y', 'N', 'Y', 'Y', 'Y', 'Y', 'Y', 'Y', 'Y', 'Y',\n",
       "       'Y', 'Y', 'N', 'Y', 'N', 'Y', 'N', 'Y', 'Y', 'Y', 'Y', 'Y', 'Y',\n",
       "       'Y', 'Y', 'Y', 'N', 'Y', 'Y', 'Y', 'Y', 'Y', 'Y', 'N', 'Y', 'Y',\n",
       "       'Y', 'Y', 'N', 'Y', 'Y', 'Y', 'Y', 'Y', 'Y', 'Y', 'Y', 'Y', 'Y',\n",
       "       'N', 'N', 'N', 'Y', 'Y', 'Y', 'N', 'N', 'Y', 'N', 'Y', 'Y', 'Y',\n",
       "       'Y', 'Y', 'Y', 'Y', 'Y', 'Y', 'Y', 'Y', 'Y', 'Y', 'N', 'Y', 'N',\n",
       "       'Y', 'Y', 'Y', 'Y', 'N', 'Y', 'Y', 'Y', 'Y', 'Y', 'N', 'Y', 'Y',\n",
       "       'Y', 'Y', 'Y', 'Y', 'Y', 'N', 'Y', 'Y', 'Y', 'N', 'N', 'Y', 'N',\n",
       "       'Y', 'Y', 'Y', 'Y', 'N', 'N', 'Y', 'Y', 'Y', 'Y', 'Y', 'Y', 'Y',\n",
       "       'Y', 'Y', 'Y', 'Y', 'Y', 'Y', 'Y', 'Y', 'Y', 'Y', 'N', 'N', 'Y',\n",
       "       'Y', 'N', 'Y', 'N', 'Y', 'Y', 'Y', 'Y', 'Y', 'Y', 'Y', 'Y', 'Y',\n",
       "       'Y', 'Y', 'Y', 'N', 'Y', 'Y', 'Y', 'Y', 'Y', 'Y', 'Y', 'Y', 'Y',\n",
       "       'Y', 'Y', 'Y', 'N', 'Y', 'Y', 'Y', 'Y', 'N', 'Y', 'Y', 'Y', 'Y',\n",
       "       'Y', 'N', 'N', 'Y', 'Y', 'Y', 'Y', 'N', 'Y', 'N', 'Y', 'N', 'Y',\n",
       "       'Y', 'Y', 'Y', 'N', 'Y', 'Y', 'Y', 'Y', 'N', 'Y', 'Y', 'Y', 'Y',\n",
       "       'Y', 'Y', 'Y', 'Y', 'Y', 'Y', 'N', 'Y', 'N', 'Y', 'Y', 'Y', 'Y',\n",
       "       'N', 'N', 'Y', 'Y', 'Y', 'N', 'Y', 'Y', 'Y', 'Y', 'Y', 'Y', 'Y',\n",
       "       'Y', 'Y', 'Y', 'Y', 'Y', 'Y', 'Y', 'N', 'Y', 'Y', 'Y', 'Y', 'Y',\n",
       "       'Y', 'Y', 'N', 'Y', 'Y', 'Y', 'Y', 'Y', 'Y', 'Y', 'Y', 'Y', 'N',\n",
       "       'Y', 'Y', 'Y', 'Y', 'Y', 'N', 'Y', 'Y', 'Y', 'Y', 'Y', 'Y', 'Y',\n",
       "       'N', 'Y', 'Y', 'Y', 'Y', 'Y', 'Y', 'Y', 'Y', 'Y', 'Y', 'Y', 'Y',\n",
       "       'Y', 'N', 'Y', 'Y', 'Y', 'Y', 'Y', 'Y', 'N', 'Y', 'Y', 'Y', 'Y',\n",
       "       'Y', 'Y', 'Y', 'N', 'Y', 'Y', 'Y', 'Y', 'Y', 'Y', 'Y', 'Y', 'Y',\n",
       "       'Y', 'Y', 'Y'], dtype=object)"
      ]
     },
     "execution_count": 74,
     "metadata": {},
     "output_type": "execute_result"
    }
   ],
   "source": [
    "pred"
   ]
  },
  {
   "cell_type": "code",
   "execution_count": 75,
   "id": "cde0e705",
   "metadata": {},
   "outputs": [],
   "source": [
    "Predictions = ts_A[[\"Loan_ID\"]]"
   ]
  },
  {
   "cell_type": "code",
   "execution_count": 76,
   "id": "370dbd1e",
   "metadata": {},
   "outputs": [
    {
     "data": {
      "text/html": [
       "<div>\n",
       "<style scoped>\n",
       "    .dataframe tbody tr th:only-of-type {\n",
       "        vertical-align: middle;\n",
       "    }\n",
       "\n",
       "    .dataframe tbody tr th {\n",
       "        vertical-align: top;\n",
       "    }\n",
       "\n",
       "    .dataframe thead th {\n",
       "        text-align: right;\n",
       "    }\n",
       "</style>\n",
       "<table border=\"1\" class=\"dataframe\">\n",
       "  <thead>\n",
       "    <tr style=\"text-align: right;\">\n",
       "      <th></th>\n",
       "      <th>Loan_ID</th>\n",
       "      <th>Loan_Status</th>\n",
       "    </tr>\n",
       "  </thead>\n",
       "  <tbody>\n",
       "    <tr>\n",
       "      <th>0</th>\n",
       "      <td>LP001015</td>\n",
       "      <td>Y</td>\n",
       "    </tr>\n",
       "    <tr>\n",
       "      <th>1</th>\n",
       "      <td>LP001022</td>\n",
       "      <td>Y</td>\n",
       "    </tr>\n",
       "    <tr>\n",
       "      <th>2</th>\n",
       "      <td>LP001031</td>\n",
       "      <td>Y</td>\n",
       "    </tr>\n",
       "    <tr>\n",
       "      <th>3</th>\n",
       "      <td>LP001035</td>\n",
       "      <td>Y</td>\n",
       "    </tr>\n",
       "    <tr>\n",
       "      <th>4</th>\n",
       "      <td>LP001051</td>\n",
       "      <td>Y</td>\n",
       "    </tr>\n",
       "    <tr>\n",
       "      <th>...</th>\n",
       "      <td>...</td>\n",
       "      <td>...</td>\n",
       "    </tr>\n",
       "    <tr>\n",
       "      <th>362</th>\n",
       "      <td>LP002971</td>\n",
       "      <td>Y</td>\n",
       "    </tr>\n",
       "    <tr>\n",
       "      <th>363</th>\n",
       "      <td>LP002975</td>\n",
       "      <td>Y</td>\n",
       "    </tr>\n",
       "    <tr>\n",
       "      <th>364</th>\n",
       "      <td>LP002980</td>\n",
       "      <td>Y</td>\n",
       "    </tr>\n",
       "    <tr>\n",
       "      <th>365</th>\n",
       "      <td>LP002986</td>\n",
       "      <td>Y</td>\n",
       "    </tr>\n",
       "    <tr>\n",
       "      <th>366</th>\n",
       "      <td>LP002989</td>\n",
       "      <td>Y</td>\n",
       "    </tr>\n",
       "  </tbody>\n",
       "</table>\n",
       "<p>367 rows × 2 columns</p>\n",
       "</div>"
      ],
      "text/plain": [
       "      Loan_ID Loan_Status\n",
       "0    LP001015           Y\n",
       "1    LP001022           Y\n",
       "2    LP001031           Y\n",
       "3    LP001035           Y\n",
       "4    LP001051           Y\n",
       "..        ...         ...\n",
       "362  LP002971           Y\n",
       "363  LP002975           Y\n",
       "364  LP002980           Y\n",
       "365  LP002986           Y\n",
       "366  LP002989           Y\n",
       "\n",
       "[367 rows x 2 columns]"
      ]
     },
     "execution_count": 76,
     "metadata": {},
     "output_type": "execute_result"
    }
   ],
   "source": [
    "Predictions[\"Loan_Status\"]=pred\n",
    "Predictions"
   ]
  },
  {
   "cell_type": "code",
   "execution_count": 77,
   "id": "9b5f7788",
   "metadata": {},
   "outputs": [],
   "source": [
    "Predictions.to_csv(\"C:/Bhushan data/ETLHIVE (India@123)/Projets submission/08_project_Loan prediction/Loan_Status_prediction_LR.csv\")"
   ]
  },
  {
   "cell_type": "code",
   "execution_count": null,
   "id": "68c2c014",
   "metadata": {},
   "outputs": [],
   "source": []
  }
 ],
 "metadata": {
  "kernelspec": {
   "display_name": "Python 3 (ipykernel)",
   "language": "python",
   "name": "python3"
  },
  "language_info": {
   "codemirror_mode": {
    "name": "ipython",
    "version": 3
   },
   "file_extension": ".py",
   "mimetype": "text/x-python",
   "name": "python",
   "nbconvert_exporter": "python",
   "pygments_lexer": "ipython3",
   "version": "3.9.7"
  }
 },
 "nbformat": 4,
 "nbformat_minor": 5
}
